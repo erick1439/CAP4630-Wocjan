{
  "nbformat": 4,
  "nbformat_minor": 0,
  "metadata": {
    "colab": {
      "name": "Assignment1.ipynb",
      "provenance": [],
      "collapsed_sections": [],
      "toc_visible": true,
      "authorship_tag": "ABX9TyPMidkwog7lf4g9HpXyhLsK",
      "include_colab_link": true
    },
    "kernelspec": {
      "name": "python3",
      "display_name": "Python 3"
    }
  },
  "cells": [
    {
      "cell_type": "markdown",
      "metadata": {
        "id": "view-in-github",
        "colab_type": "text"
      },
      "source": [
        "<a href=\"https://colab.research.google.com/github/erick1439/CAP4630-Wocjan/blob/master/HW_1.ipynb\" target=\"_parent\"><img src=\"https://colab.research.google.com/assets/colab-badge.svg\" alt=\"Open In Colab\"/></a>"
      ]
    },
    {
      "cell_type": "markdown",
      "metadata": {
        "colab_type": "text",
        "id": "ZLN8AcjJhTK6"
      },
      "source": [
        "#**The method below takes a list of numpy arrays and multiples them. If any pair of matrices are not compatible on the list, then the method will return 'None' after printing a messge showing the two arrays, with uncompatible dimensions, that are causing the problem.**"
      ]
    },
    {
      "cell_type": "markdown",
      "metadata": {
        "id": "i6kuXSY7iXEn",
        "colab_type": "text"
      },
      "source": [
        "## Two matrices can be multiplied only when their inner dimensions are the same. The dimension of the result will be the outer dimesions of the two multiplied matrices.\n",
        "\n",
        "Valid Multiplication:\n",
        "\n",
        "$$\\begin{bmatrix}\n",
        "    a  &  b      \\\\\n",
        "    c  &  d\n",
        "\\end{bmatrix}\n",
        "\\times\n",
        "\\begin{bmatrix}\n",
        "    e  &  f  &  g      \\\\\n",
        "    h  &  i  &  j\n",
        "\\end{bmatrix}\n",
        "=\n",
        "\\begin{bmatrix}\n",
        "    (a \\times e) + (b \\times h)  &  (a \\times f) + (b \\times i)  &  (a \\times g) + (b \\times j)      \\\\\n",
        "    (c \\times e) + (d \\times h)  &  (c \\times f) + (d \\times i)  &  (c \\times g) + (d \\times j)      \\\\\n",
        "\\end{bmatrix}$$\n",
        "\n",
        "\n",
        "Invalid Multiplication:\n",
        "\n",
        "$$\\begin{bmatrix}\n",
        "    a  &  b      \\\\\n",
        "    c  &  d\n",
        "\\end{bmatrix}\n",
        "\\times\n",
        "\\begin{bmatrix}\n",
        "    e  &  f  &  g  \\\\\n",
        "    h  &  i  &  j  \\\\\n",
        "    k  &  l  &  m\n",
        "\\end{bmatrix}$$\n",
        "\n"
      ]
    },
    {
      "cell_type": "code",
      "metadata": {
        "id": "QB4FCvW1YDJh",
        "colab_type": "code",
        "colab": {}
      },
      "source": [
        "import numpy as np\n",
        "\n",
        "def multiply_matrices(numpy_Arrays):\n",
        "\n",
        "  # Bases cases two check if the array is empty or only has one matrix.\n",
        "  if len(numpy_Arrays) == 0:\n",
        "    print(\"The array is empty.\")\n",
        "    return None\n",
        "  \n",
        "  if len(numpy_Arrays) == 1:\n",
        "    return array[0]\n",
        "\n",
        "  # Creating an identity matrix with the inner dimension of the first numpy \n",
        "  # array to store all the matrix computations.\n",
        "  result = np.identity(numpy_Arrays[0].shape[0], int)\n",
        "  \n",
        "  i = 0;\n",
        "\n",
        "  # Loop that will go through the list multipling all the matrices and throw an \n",
        "  # exception if they do not have\n",
        "  # the proper dimensions.\n",
        "  try:\n",
        "    while (i < len(numpy_Arrays)):\n",
        "\n",
        "      # Conditional that changes the default shape from (R,) to (R,1). \n",
        "      # (R represents integer > 0)\n",
        "      if numpy_Arrays[i].shape == (numpy_Arrays[i].shape[0],):\n",
        "        numpy_Arrays[i] = numpy_Arrays[i].reshape(numpy_Arrays[i].shape[0], 1)\n",
        "\n",
        "      result = result.dot((numpy_Arrays[i]))\n",
        "      i += 1\n",
        "\n",
        "  except:\n",
        "    print(\"the folloing arrays are not compatible:\", end=\"\\n\\n\")\n",
        "    print(numpy_Arrays[i-1], end=\"\\n\\n\")\n",
        "    print(numpy_Arrays[i], end=\"\\n\\n\")\n",
        "    return None\n",
        "\n",
        "  else: \n",
        "    return result"
      ],
      "execution_count": 0,
      "outputs": []
    },
    {
      "cell_type": "markdown",
      "metadata": {
        "id": "mO9_2VFBcxJ7",
        "colab_type": "text"
      },
      "source": [
        "# **The following blocks contain different custom test cases that show the output of the \"multiply_matrices\" method.**"
      ]
    },
    {
      "cell_type": "markdown",
      "metadata": {
        "id": "r3phnTIGt2rm",
        "colab_type": "text"
      },
      "source": [
        "###**Note**: Run the cellBlock with the method before the blocks with the test cases."
      ]
    },
    {
      "cell_type": "code",
      "metadata": {
        "id": "r2Y6AYZ9drUs",
        "colab_type": "code",
        "colab": {
          "base_uri": "https://localhost:8080/",
          "height": 67
        },
        "outputId": "f066ca2e-8107-4e3f-e9f0-c9497fc4b10d"
      },
      "source": [
        "# Test case 1: Multiplication of three 3X3 matrices\n",
        "\n",
        "a = np.array([(1,2,3),(4,5,6),(7,8,9)])\n",
        "b = np.array([(1,2,3),(4,5,6),(7,7,9)])\n",
        "c = np.array([(1,2,3),(4,5,6),(7,8,9)])\n",
        "array = [a,b,c]\n",
        "\n",
        "print(multiply_matrices(array))\n"
      ],
      "execution_count": 3,
      "outputs": [
        {
          "output_type": "stream",
          "text": [
            "[[ 456  561  666]\n",
            " [1038 1275 1512]\n",
            " [1620 1989 2358]]\n"
          ],
          "name": "stdout"
        }
      ]
    },
    {
      "cell_type": "code",
      "metadata": {
        "id": "Rh5REa43d7-w",
        "colab_type": "code",
        "outputId": "a063c831-563d-4b04-ff0f-2e4c44d0607b",
        "colab": {
          "base_uri": "https://localhost:8080/",
          "height": 67
        }
      },
      "source": [
        "# Test case 2: Multiplication of a 3X2, 2X4, and 4X3\n",
        "\n",
        "a = np.array([(1,2),(4,5),(7,5)])\n",
        "b = np.array([(1,2,7,9),(4,5,6,9)])\n",
        "c = np.array([(1,2,3),(4,5,6),(7,8,9),(4,5,6)])\n",
        "array = [a,b,c]\n",
        "\n",
        "print(multiply_matrices(array))"
      ],
      "execution_count": 0,
      "outputs": [
        {
          "output_type": "stream",
          "text": [
            "[[ 298  365  432]\n",
            " [ 886 1082 1278]\n",
            " [1168 1421 1674]]\n"
          ],
          "name": "stdout"
        }
      ]
    },
    {
      "cell_type": "code",
      "metadata": {
        "id": "A9_tCntieiwP",
        "colab_type": "code",
        "outputId": "8de751a3-53d8-4c74-b1d7-0a0fd005e74d",
        "colab": {
          "base_uri": "https://localhost:8080/",
          "height": 218
        }
      },
      "source": [
        "# Test case 3: Multiplication of a 3X2, 4X4, and 4X3 \n",
        "\n",
        "a = np.array([(1,2),(4,5),(7,5)])\n",
        "b = np.array([(1,2,7,9),(4,5,6,9),(4,5,6,9),(4,5,6,9)])\n",
        "c = np.array([(1,2,3),(4,5,6),(7,8,9),(4,5,6)])\n",
        "array = [a,b,c]\n",
        "\n",
        "print(multiply_matrices(array))"
      ],
      "execution_count": 0,
      "outputs": [
        {
          "output_type": "stream",
          "text": [
            "the folloing arrays are not compatible:\n",
            "\n",
            "[[1 2]\n",
            " [4 5]\n",
            " [7 5]]\n",
            "\n",
            "[[1 2 7 9]\n",
            " [4 5 6 9]\n",
            " [4 5 6 9]\n",
            " [4 5 6 9]]\n",
            "\n",
            "None\n"
          ],
          "name": "stdout"
        }
      ]
    },
    {
      "cell_type": "code",
      "metadata": {
        "id": "KmikzfiegQIU",
        "colab_type": "code",
        "outputId": "bca0e097-6278-4b88-f916-5ffbb3f72075",
        "colab": {
          "base_uri": "https://localhost:8080/",
          "height": 34
        }
      },
      "source": [
        "# Test case 4: Multiplication of a 1X2 and 2X1\n",
        "a = np.array([(4,2)])\n",
        "b = np.array([(2),(7)])\n",
        "array = [a,b]\n",
        "\n",
        "print(multiply_matrices(array))"
      ],
      "execution_count": 0,
      "outputs": [
        {
          "output_type": "stream",
          "text": [
            "[[22]]\n"
          ],
          "name": "stdout"
        }
      ]
    },
    {
      "cell_type": "code",
      "metadata": {
        "id": "qLSAG8Y4ggwb",
        "colab_type": "code",
        "outputId": "51ce672d-5c14-419c-ef7c-c6129f31f033",
        "colab": {
          "base_uri": "https://localhost:8080/",
          "height": 50
        }
      },
      "source": [
        "# Test case 5: Multiplication of a 2X1 and 1X2\n",
        "\n",
        "a = np.array([(4,2)])\n",
        "b = np.array([(2),(7)])\n",
        "array = [b,a]\n",
        "\n",
        "print(multiply_matrices(array))"
      ],
      "execution_count": 0,
      "outputs": [
        {
          "output_type": "stream",
          "text": [
            "[[ 8  4]\n",
            " [28 14]]\n"
          ],
          "name": "stdout"
        }
      ]
    }
  ]
}