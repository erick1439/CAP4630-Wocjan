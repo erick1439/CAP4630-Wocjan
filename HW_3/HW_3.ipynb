{
  "nbformat": 4,
  "nbformat_minor": 0,
  "metadata": {
    "colab": {
      "name": "HW_3.ipynb",
      "provenance": [],
      "collapsed_sections": [],
      "authorship_tag": "ABX9TyN7gC2XCRFrY3yBwX8HHQCu",
      "include_colab_link": true
    },
    "kernelspec": {
      "name": "python3",
      "display_name": "Python 3"
    }
  },
  "cells": [
    {
      "cell_type": "markdown",
      "metadata": {
        "id": "view-in-github",
        "colab_type": "text"
      },
      "source": [
        "<a href=\"https://colab.research.google.com/github/erick1439/CAP4630-Wocjan/blob/master/HW_3/HW_3.ipynb\" target=\"_parent\"><img src=\"https://colab.research.google.com/assets/colab-badge.svg\" alt=\"Open In Colab\"/></a>"
      ]
    },
    {
      "cell_type": "markdown",
      "metadata": {
        "id": "ks7uCkg4b0DU",
        "colab_type": "text"
      },
      "source": [
        "# Imports"
      ]
    },
    {
      "cell_type": "code",
      "metadata": {
        "id": "g8TNmlWVCl8h",
        "colab_type": "code",
        "colab": {}
      },
      "source": [
        "import numpy as np\n",
        "%matplotlib inline\n",
        "import matplotlib as mpl\n",
        "import matplotlib.pyplot as plt\n"
      ],
      "execution_count": 0,
      "outputs": []
    },
    {
      "cell_type": "markdown",
      "metadata": {
        "id": "HguqNOoFb0Ae",
        "colab_type": "text"
      },
      "source": [
        "# **Problem 1:**\n",
        "\n",
        "## Description:\n",
        "\n",
        "\n",
        "Implement the function get_random_data(w, b, mu, sigma, m) that generates random data for logisitic regression with two features features x_1 and x_2. This function should return the array data of shape (m, 2) and the array labels of shape (m, 1).\n",
        "\n",
        "The entries of the arrays should be generated as follows. For each row i in {0, 1, ..., m-1}:\n",
        "\n",
        "Choose class label c=0 with probability 1/2 and c=1 with probability 1/2.\n",
        "Choose the first feature x_1 uniformly at random in the interval [0, 1).\n",
        "Set the second feature x_2 to be x_2 = w * x_1 + b + (-1)^c * n, where the \"noise\" n is chosen according to the normal distribution with mean mu and standard deviation sigma.\n",
        "The ith row of the array data consists of the features x_1 and x_2.\n",
        "The ith entry of the vector labels is the class label c.\n",
        "Implement the function display_random_data that takes as input the above two arrays labels and data. It should create scatter plot of the 2D points stored in data. Use red dots to plot the points whose labels are 1 and blue dots to plot the points whose labels are 0.\n",
        "\n",
        "Hints: You should see that the 2D points (feature vectors) corresponding to different classes are approximately separated by the line y = w * x + b, where w and b are the parameters that you used to generate the data. Note that the smaller the parameter mu, the closer the points are to this line. Also, the larger the parameter sigma, the more points can be on the wrong side of this line.\n",
        "\n",
        "Experiment with different values of mu and sigma. Make sure that the parameter m is large enough so you have enough data points.\n",
        "\n",
        "Split the data/labels into a training set (80%) and a test set (20%).\n",
        "\n",
        "Links to the numpy documentation of the functions that can be used to draw samples according to the uniform and normal distributions:\n",
        "\n",
        "Normal distribution\n",
        "Uniform distribution\n",
        "You can learn more about the normal distribution on https://en.wikipedia.org/wiki/Normal_distribution. To gain some intuition, it would be helpful to plot the Gaussian function for different parameters mu and sigma in a seperate notebook (that you do not have to submit). Later in the semester, you will need to work with normal distribution to understand variational autoencoders.\n",
        "\n"
      ]
    },
    {
      "cell_type": "markdown",
      "metadata": {
        "id": "hBjRSrifdCsS",
        "colab_type": "text"
      },
      "source": [
        "## Implementation: "
      ]
    },
    {
      "cell_type": "code",
      "metadata": {
        "id": "_istFhlkcF1R",
        "colab_type": "code",
        "outputId": "84e7c768-6bdd-4bd4-d641-9cf01b866c2d",
        "colab": {
          "base_uri": "https://localhost:8080/",
          "height": 297
        }
      },
      "source": [
        "def get_random_data(w, b, mu, sigma, m):\n",
        "  # Generates array with ones and zeros.\n",
        "  labels = np.random.choice([0, 1], size=(m,1))\n",
        "  \n",
        "  # Generates uniformly random data.\n",
        "  X_1 = np.random.uniform(0, 1, size=(m, 1))\n",
        "\n",
        "  # Generates random data with mean distribution of mu, and sd of sigma.\n",
        "  N = np.random.normal(mu, sigma, size=(m, 1))\n",
        "\n",
        "  # Sets the second feature\n",
        "  X_2 = w * X_1 + b + (-1)**labels * N\n",
        "\n",
        "  # Concatenates the features X_1 & X_2 to produce the array with a shape of (m, 2).\n",
        "  data = np.concatenate((X_1, X_2), axis=1)\n",
        "\n",
        "  return data, labels\n",
        "\n",
        "def split_data(data, labels):\n",
        "  # Splits the data with a 80:20 ratio\n",
        "  train_data = data[:(int)(m * 0.8)]\n",
        "  test_data = data[(int)(m * 0.8):]\n",
        "  train_labels = labels[:(int)(m * 0.8)]\n",
        "  test_labels = labels[(int)(m * 0.8):]\n",
        "\n",
        "  return train_data, test_data, train_labels, test_labels\n",
        "\n",
        "def display_random_data (data, labels, w, b):\n",
        "  # Display data points \n",
        "  pt = labels.flatten()\n",
        "  temp1 = data[pt == 0,:]\n",
        "  temp2 = data[pt == 1,:]\n",
        "  plt.scatter(temp1[:,0], temp1[:,1], c='blue', label='X_1')\n",
        "  plt.scatter(temp2[:,0], temp2[:,1], c='red', label='X_2')\n",
        "\n",
        "  # Displays line that splits the data\n",
        "  slope = np.linspace(0, 1)\n",
        "  y = w * slope + b\n",
        "  plt.plot(slope, y, 'black')\n",
        "\n",
        "  # Labels the graph\n",
        "  plt.title('Data Distribution')\n",
        "  plt.xlabel('$Y$')\n",
        "  plt.ylabel('$X$')\n",
        "\n",
        "\n",
        "# Testing Data\n",
        "w = 2\n",
        "b = 7\n",
        "mu = 4\n",
        "sigma = 1.5\n",
        "m = 1000\n",
        "\n",
        "data, labels = get_random_data(w, b, mu, sigma, m)\n",
        "display_random_data(data, labels, w, b)\n",
        "train_data, test_data, train_labels, test_labels = split_data(data, labels)\n",
        "\n"
      ],
      "execution_count": 2,
      "outputs": [
        {
          "output_type": "display_data",
          "data": {
            "image/png": "[encoded data removed]",
            "text/plain": [
              "<Figure size 432x288 with 1 Axes>"
            ]
          },
          "metadata": {
            "tags": []
          }
        }
      ]
    },
    {
      "cell_type": "markdown",
      "metadata": {
        "id": "W0QQy21Yi87K",
        "colab_type": "text"
      },
      "source": [
        "# **Problem 2:**"
      ]
    },
    {
      "cell_type": "markdown",
      "metadata": {
        "id": "Y9W5cvp9Mopo",
        "colab_type": "text"
      },
      "source": [
        "## Description:"
      ]
    },
    {
      "cell_type": "markdown",
      "metadata": {
        "id": "xm65CLSlMonj",
        "colab_type": "text"
      },
      "source": [
        "Create a Keras to implement logistic regression with two features and train it with the data generated in Problem 1. The loss should be the binary cross entropy loss.\n",
        "\n",
        "How well does the trained model separate the red and blue dots? You can obtain the separating line determined by the model by extracting the weights from the dense layer using the function get_weights. See https://keras.io/layers/about-keras-layers/.\n",
        "\n",
        "Create a plot showing the random data, the true line used to generate the data, and the separating line of the trained model. Make sure that you describe in detail in your notebook how you proceed to obtain the separating line.\n",
        "\n",
        "Note that you have to carry out some simple steps to obtain the separating line from the model weights (the two weights and the bias term of the dense layer). This is not immediately obvious. It maybe helpful to take a look at the heatmap below.\n",
        "\n",
        "The trained model realizes function f : R^2 -> R that takes two features as input and outputs a number in the interval [0, 1]. Use a heatmap to visualize this function."
      ]
    },
    {
      "cell_type": "markdown",
      "metadata": {
        "id": "fHC1HmNANTsA",
        "colab_type": "text"
      },
      "source": [
        "## Implementation:"
      ]
    },
    {
      "cell_type": "code",
      "metadata": {
        "id": "2zIjfhi0MuP5",
        "colab_type": "code",
        "colab": {}
      },
      "source": [
        "import numpy as np\n",
        "%tensorflow_version 2.x\n",
        "import tensorflow as tf\n",
        "%matplotlib inline\n",
        "import matplotlib as mpl\n",
        "import matplotlib.pyplot as plt\n",
        "\n",
        "# Gathering data from problem 1 with sample data.\n",
        "w = 2\n",
        "b = 7\n",
        "mu = 4\n",
        "sigma = 1.5\n",
        "m = 1000\n",
        "\n",
        "data, labels = get_random_data(w, b, mu, sigma, m)\n",
        "train_data, test_data, train_labels, test_labels = split_data(data, labels)"
      ],
      "execution_count": 0,
      "outputs": []
    },
    {
      "cell_type": "code",
      "metadata": {
        "id": "PQod5RhdphvS",
        "colab_type": "code",
        "outputId": "3eeb41d8-e0f6-4e62-e7a5-cf422d42cbf4",
        "colab": {
          "base_uri": "https://localhost:8080/",
          "height": 1000
        }
      },
      "source": [
        "# HyperParameters\n",
        "epochs = 50\n",
        "batch_size = 40\n",
        "\n",
        "# Creates the model\n",
        "model = tf.keras.models.Sequential()\n",
        "\n",
        "# Adds dense layer to the model\n",
        "layer = tf.keras.layers.Dense(1, activation='sigmoid', input_shape=(2, ))\n",
        "model.add(layer)\n",
        "\n",
        "# Compiles the model\n",
        "model.compile(optimizer=tf.keras.optimizers.RMSprop(0.01), loss='binary_crossentropy', metrics=['accuracy'])\n",
        "\n",
        "# Trains the model\n",
        "model.fit(train_data, train_labels, epochs=epochs, batch_size=batch_size, validation_data=(test_data, test_labels))"
      ],
      "execution_count": 4,
      "outputs": [
        {
          "output_type": "stream",
          "text": [
            "Epoch 1/50\n",
            "20/20 [==============================] - 0s 10ms/step - loss: 3.6406 - accuracy: 0.4938 - val_loss: 2.9463 - val_accuracy: 0.4650\n",
            "Epoch 2/50\n",
            "20/20 [==============================] - 0s 3ms/step - loss: 2.3627 - accuracy: 0.4313 - val_loss: 1.8738 - val_accuracy: 0.2900\n",
            "Epoch 3/50\n",
            "20/20 [==============================] - 0s 3ms/step - loss: 1.4755 - accuracy: 0.1838 - val_loss: 1.1941 - val_accuracy: 0.0600\n",
            "Epoch 4/50\n",
            "20/20 [==============================] - 0s 3ms/step - loss: 1.0122 - accuracy: 0.1887 - val_loss: 0.9248 - val_accuracy: 0.3750\n",
            "Epoch 5/50\n",
            "20/20 [==============================] - 0s 3ms/step - loss: 0.8475 - accuracy: 0.4663 - val_loss: 0.8141 - val_accuracy: 0.5000\n",
            "Epoch 6/50\n",
            "20/20 [==============================] - 0s 3ms/step - loss: 0.7625 - accuracy: 0.4837 - val_loss: 0.7362 - val_accuracy: 0.5000\n",
            "Epoch 7/50\n",
            "20/20 [==============================] - 0s 3ms/step - loss: 0.6954 - accuracy: 0.4875 - val_loss: 0.6701 - val_accuracy: 0.5100\n",
            "Epoch 8/50\n",
            "20/20 [==============================] - 0s 3ms/step - loss: 0.6335 - accuracy: 0.5075 - val_loss: 0.6060 - val_accuracy: 0.5400\n",
            "Epoch 9/50\n",
            "20/20 [==============================] - 0s 2ms/step - loss: 0.5771 - accuracy: 0.5713 - val_loss: 0.5479 - val_accuracy: 0.5800\n",
            "Epoch 10/50\n",
            "20/20 [==============================] - 0s 3ms/step - loss: 0.5233 - accuracy: 0.6488 - val_loss: 0.4948 - val_accuracy: 0.6800\n",
            "Epoch 11/50\n",
            "20/20 [==============================] - 0s 3ms/step - loss: 0.4760 - accuracy: 0.7362 - val_loss: 0.4485 - val_accuracy: 0.8300\n",
            "Epoch 12/50\n",
            "20/20 [==============================] - 0s 3ms/step - loss: 0.4312 - accuracy: 0.8313 - val_loss: 0.4026 - val_accuracy: 0.9150\n",
            "Epoch 13/50\n",
            "20/20 [==============================] - 0s 3ms/step - loss: 0.3915 - accuracy: 0.9075 - val_loss: 0.3621 - val_accuracy: 0.9400\n",
            "Epoch 14/50\n",
            "20/20 [==============================] - 0s 3ms/step - loss: 0.3554 - accuracy: 0.9275 - val_loss: 0.3270 - val_accuracy: 0.9600\n",
            "Epoch 15/50\n",
            "20/20 [==============================] - 0s 3ms/step - loss: 0.3230 - accuracy: 0.9525 - val_loss: 0.2968 - val_accuracy: 0.9800\n",
            "Epoch 16/50\n",
            "20/20 [==============================] - 0s 3ms/step - loss: 0.2939 - accuracy: 0.9638 - val_loss: 0.2678 - val_accuracy: 0.9800\n",
            "Epoch 17/50\n",
            "20/20 [==============================] - 0s 3ms/step - loss: 0.2674 - accuracy: 0.9737 - val_loss: 0.2450 - val_accuracy: 0.9850\n",
            "Epoch 18/50\n",
            "20/20 [==============================] - 0s 2ms/step - loss: 0.2442 - accuracy: 0.9787 - val_loss: 0.2202 - val_accuracy: 0.9800\n",
            "Epoch 19/50\n",
            "20/20 [==============================] - 0s 3ms/step - loss: 0.2229 - accuracy: 0.9850 - val_loss: 0.2007 - val_accuracy: 0.9850\n",
            "Epoch 20/50\n",
            "20/20 [==============================] - 0s 3ms/step - loss: 0.2044 - accuracy: 0.9837 - val_loss: 0.1835 - val_accuracy: 0.9900\n",
            "Epoch 21/50\n",
            "20/20 [==============================] - 0s 3ms/step - loss: 0.1886 - accuracy: 0.9862 - val_loss: 0.1690 - val_accuracy: 0.9900\n",
            "Epoch 22/50\n",
            "20/20 [==============================] - 0s 3ms/step - loss: 0.1735 - accuracy: 0.9912 - val_loss: 0.1558 - val_accuracy: 0.9850\n",
            "Epoch 23/50\n",
            "20/20 [==============================] - 0s 3ms/step - loss: 0.1613 - accuracy: 0.9900 - val_loss: 0.1453 - val_accuracy: 0.9900\n",
            "Epoch 24/50\n",
            "20/20 [==============================] - 0s 3ms/step - loss: 0.1500 - accuracy: 0.9912 - val_loss: 0.1341 - val_accuracy: 0.9900\n",
            "Epoch 25/50\n",
            "20/20 [==============================] - 0s 3ms/step - loss: 0.1402 - accuracy: 0.9912 - val_loss: 0.1253 - val_accuracy: 0.9900\n",
            "Epoch 26/50\n",
            "20/20 [==============================] - 0s 3ms/step - loss: 0.1306 - accuracy: 0.9912 - val_loss: 0.1192 - val_accuracy: 0.9900\n",
            "Epoch 27/50\n",
            "20/20 [==============================] - 0s 3ms/step - loss: 0.1222 - accuracy: 0.9900 - val_loss: 0.1105 - val_accuracy: 0.9900\n",
            "Epoch 28/50\n",
            "20/20 [==============================] - 0s 3ms/step - loss: 0.1153 - accuracy: 0.9887 - val_loss: 0.1045 - val_accuracy: 0.9900\n",
            "Epoch 29/50\n",
            "20/20 [==============================] - 0s 3ms/step - loss: 0.1089 - accuracy: 0.9900 - val_loss: 0.0990 - val_accuracy: 0.9900\n",
            "Epoch 30/50\n",
            "20/20 [==============================] - 0s 3ms/step - loss: 0.1028 - accuracy: 0.9912 - val_loss: 0.0940 - val_accuracy: 0.9900\n",
            "Epoch 31/50\n",
            "20/20 [==============================] - 0s 3ms/step - loss: 0.0970 - accuracy: 0.9925 - val_loss: 0.0886 - val_accuracy: 0.9900\n",
            "Epoch 32/50\n",
            "20/20 [==============================] - 0s 3ms/step - loss: 0.0919 - accuracy: 0.9900 - val_loss: 0.0842 - val_accuracy: 0.9900\n",
            "Epoch 33/50\n",
            "20/20 [==============================] - 0s 3ms/step - loss: 0.0871 - accuracy: 0.9912 - val_loss: 0.0825 - val_accuracy: 0.9850\n",
            "Epoch 34/50\n",
            "20/20 [==============================] - 0s 3ms/step - loss: 0.0834 - accuracy: 0.9900 - val_loss: 0.0771 - val_accuracy: 0.9900\n",
            "Epoch 35/50\n",
            "20/20 [==============================] - 0s 3ms/step - loss: 0.0795 - accuracy: 0.9900 - val_loss: 0.0744 - val_accuracy: 0.9900\n",
            "Epoch 36/50\n",
            "20/20 [==============================] - 0s 3ms/step - loss: 0.0763 - accuracy: 0.9912 - val_loss: 0.0731 - val_accuracy: 0.9850\n",
            "Epoch 37/50\n",
            "20/20 [==============================] - 0s 3ms/step - loss: 0.0733 - accuracy: 0.9900 - val_loss: 0.0690 - val_accuracy: 0.9900\n",
            "Epoch 38/50\n",
            "20/20 [==============================] - 0s 3ms/step - loss: 0.0702 - accuracy: 0.9925 - val_loss: 0.0715 - val_accuracy: 0.9850\n",
            "Epoch 39/50\n",
            "20/20 [==============================] - 0s 3ms/step - loss: 0.0685 - accuracy: 0.9887 - val_loss: 0.0658 - val_accuracy: 0.9900\n",
            "Epoch 40/50\n",
            "20/20 [==============================] - 0s 3ms/step - loss: 0.0653 - accuracy: 0.9912 - val_loss: 0.0641 - val_accuracy: 0.9850\n",
            "Epoch 41/50\n",
            "20/20 [==============================] - 0s 3ms/step - loss: 0.0632 - accuracy: 0.9912 - val_loss: 0.0614 - val_accuracy: 0.9900\n",
            "Epoch 42/50\n",
            "20/20 [==============================] - 0s 2ms/step - loss: 0.0609 - accuracy: 0.9912 - val_loss: 0.0596 - val_accuracy: 0.9900\n",
            "Epoch 43/50\n",
            "20/20 [==============================] - 0s 3ms/step - loss: 0.0586 - accuracy: 0.9925 - val_loss: 0.0575 - val_accuracy: 0.9900\n",
            "Epoch 44/50\n",
            "20/20 [==============================] - 0s 3ms/step - loss: 0.0568 - accuracy: 0.9925 - val_loss: 0.0574 - val_accuracy: 0.9850\n",
            "Epoch 45/50\n",
            "20/20 [==============================] - 0s 3ms/step - loss: 0.0553 - accuracy: 0.9900 - val_loss: 0.0551 - val_accuracy: 0.9900\n",
            "Epoch 46/50\n",
            "20/20 [==============================] - 0s 3ms/step - loss: 0.0540 - accuracy: 0.9925 - val_loss: 0.0552 - val_accuracy: 0.9850\n",
            "Epoch 47/50\n",
            "20/20 [==============================] - 0s 3ms/step - loss: 0.0524 - accuracy: 0.9912 - val_loss: 0.0535 - val_accuracy: 0.9900\n",
            "Epoch 48/50\n",
            "20/20 [==============================] - 0s 3ms/step - loss: 0.0508 - accuracy: 0.9925 - val_loss: 0.0523 - val_accuracy: 0.9900\n",
            "Epoch 49/50\n",
            "20/20 [==============================] - 0s 3ms/step - loss: 0.0491 - accuracy: 0.9912 - val_loss: 0.0510 - val_accuracy: 0.9900\n",
            "Epoch 50/50\n",
            "20/20 [==============================] - 0s 3ms/step - loss: 0.0491 - accuracy: 0.9900 - val_loss: 0.0505 - val_accuracy: 0.9900\n"
          ],
          "name": "stdout"
        },
        {
          "output_type": "execute_result",
          "data": {
            "text/plain": [
              "<tensorflow.python.keras.callbacks.History at 0x7f08aff67cc0>"
            ]
          },
          "metadata": {
            "tags": []
          },
          "execution_count": 4
        }
      ]
    },
    {
      "cell_type": "code",
      "metadata": {
        "id": "GxDxTePQpk6U",
        "colab_type": "code",
        "colab": {}
      },
      "source": [
        ""
      ],
      "execution_count": 0,
      "outputs": []
    },
    {
      "cell_type": "markdown",
      "metadata": {
        "id": "2nVzh9VttlMG",
        "colab_type": "text"
      },
      "source": [
        "To get the trained model separating line we are using the all the weights produced by the trained model."
      ]
    },
    {
      "cell_type": "code",
      "metadata": {
        "id": "S5jL1Wjdp5hR",
        "colab_type": "code",
        "colab": {}
      },
      "source": [
        "# Function in charge to display the trained model separating line.\n",
        "def display_trained_model_line():\n",
        "  W, b = layer.get_weights()\n",
        "  slope = np.linspace(0, 1)\n",
        "  Y = -((W[0] * slope + b) / W[1])\n",
        "  plt.title('Trained model separating line')\n",
        "  plt.plot(slope, Y, color='green')\n",
        "  plt.show()\n"
      ],
      "execution_count": 0,
      "outputs": []
    },
    {
      "cell_type": "code",
      "metadata": {
        "id": "QW7xVkMIp5hZ",
        "colab_type": "code",
        "outputId": "ede19ea1-5d2b-4842-b1fc-d93ee9419dc4",
        "colab": {
          "base_uri": "https://localhost:8080/",
          "height": 297
        }
      },
      "source": [
        "display_random_data(test_data, test_labels, w, b)\n",
        "display_trained_model_line()"
      ],
      "execution_count": 6,
      "outputs": [
        {
          "output_type": "display_data",
          "data": {
            "image/png": "[encoded data removed]",
            "text/plain": [
              "<Figure size 432x288 with 1 Axes>"
            ]
          },
          "metadata": {
            "tags": []
          }
        }
      ]
    },
    {
      "cell_type": "code",
      "metadata": {
        "id": "jElFSRCBux15",
        "colab_type": "code",
        "outputId": "cdaa7ed6-7943-4296-b6c5-e6c8b5d38167",
        "colab": {
          "base_uri": "https://localhost:8080/",
          "height": 281
        }
      },
      "source": [
        "# Function in charge to display the heat map.\n",
        "def heatmap():\n",
        "  # Setting up the plane\n",
        "  X, Y = np.meshgrid(np.linspace(0, 1), np.linspace(0, 12))\n",
        "\n",
        "  # Acquires the weights\n",
        "  W, b = layer.get_weights()\n",
        "  \n",
        "  # Apply weights and bias\n",
        "  T = W[0] * X + W[1] * Y + b\n",
        "\n",
        "  # Displays the heatmap plane\n",
        "  plt.contourf(X, Y, 1.0 / (1.0 + np.exp(np.negative(T))), 100, cmap='RdBu_r')\n",
        "  plt.title('Heatmap')\n",
        "  plt.colorbar()\n",
        "  plt.show()\n",
        "\n",
        "heatmap()\n"
      ],
      "execution_count": 7,
      "outputs": [
        {
          "output_type": "display_data",
          "data": {
            "image/png": "[encoded data removed]",
            "text/plain": [
              "<Figure size 432x288 with 2 Axes>"
            ]
          },
          "metadata": {
            "tags": []
          }
        }
      ]
    },
    {
      "cell_type": "markdown",
      "metadata": {
        "id": "qECStOrTM3_P",
        "colab_type": "text"
      },
      "source": [
        "# **Problem 3:**"
      ]
    },
    {
      "cell_type": "markdown",
      "metadata": {
        "id": "V9phPumJM39f",
        "colab_type": "text"
      },
      "source": [
        "## Description:"
      ]
    },
    {
      "cell_type": "markdown",
      "metadata": {
        "id": "gKOXt6rXO4VA",
        "colab_type": "text"
      },
      "source": [
        "Use numpy to implement a logistic regression model from scratch and train it with the data generated as in Problem 1.\n",
        "\n",
        "Hints: Look at the notes on logistic regression to figure out what the gradient is of the binary cross entropy loss with respect to w and b. Note that you only have to implement stochastic gradient, that is, you do not have to write vectorized code for mini-batch gradient descent.\n",
        "\n",
        "Create a plot showing the random data, the true line used to generate the data, and the separating line of the trained model.\n",
        "\n",
        "Use a heatmap to visualize the function defined by your trained model.\n",
        "\n",
        "You also have to compute the binary cross entropy loss and accuracy on the test set."
      ]
    },
    {
      "cell_type": "markdown",
      "metadata": {
        "id": "mTFo5tj3NByd",
        "colab_type": "text"
      },
      "source": [
        "## Implementation: "
      ]
    },
    {
      "cell_type": "code",
      "metadata": {
        "id": "U7iHBa3tcF3T",
        "colab_type": "code",
        "colab": {}
      },
      "source": [
        "import numpy as np\n",
        "%tensorflow_version 2.x\n",
        "import tensorflow as tf\n",
        "\n",
        "# Gathering data from problem 1 with sample data.\n",
        "w = 2\n",
        "b = 7\n",
        "mu = 4\n",
        "sigma = 1.5\n",
        "m = 1000\n",
        "\n",
        "epochs = 20\n",
        "learning_rate = 0.01\n",
        "\n",
        "data, labels = get_random_data(w, b, mu, sigma, m)\n",
        "train_data, test_data, train_labels, test_labels = split_data(data, labels)"
      ],
      "execution_count": 0,
      "outputs": []
    },
    {
      "cell_type": "code",
      "metadata": {
        "id": "xJestxxxAr9a",
        "colab_type": "code",
        "colab": {}
      },
      "source": [
        "#  Enforces that activation on the value z inside the interval [0, 1]\n",
        "def sigmoid(z):\n",
        "    return 1.0 / (1.0 + np.exp(-z))\n",
        "\n",
        "# Calculates the binary cross entropy loss\n",
        "def binary_cross_entropy_loss(a, label):\n",
        "    return (-label * np.log(a)) - ((1 - label) * np.log(1 - a))\n",
        "\n",
        "# Computes the logistic regression\n",
        "def logistic_regression_model(train_data, train_labels, test_data, test_labels, epochs, learing_rate):\n",
        "    weights = np.random.random_sample((3, ))\n",
        "    for epoch in np.arange(epochs):\n",
        "        loss = 0\n",
        "        accuracy = 0\n",
        "\n",
        "        for i in np.arange(len(train_data)):\n",
        "            z = np.concatenate(([1], train_data[i]))\n",
        "            a = sigmoid(weights.T.dot(z))\n",
        "            weights -= ((a - train_labels[i]) * z) * learning_rate\n",
        "\n",
        "        for i in range(len(test_data)):\n",
        "            z = np.concatenate(([1], test_data[i]))\n",
        "            a = sigmoid(weights.T.dot(z))\n",
        "            \n",
        "            if a > 0.5:\n",
        "              prediction = 1\n",
        "            else:\n",
        "              prediction = 0\n",
        "\n",
        "            if prediction == test_labels[i]:\n",
        "                accuracy += 1\n",
        "            \n",
        "            loss += binary_cross_entropy_loss(a, test_labels[i])\n",
        "\n",
        "        loss, accuracy = (loss[0] / len(test_data), accuracy / len(test_data))\n",
        "            \n",
        "    return weights\n",
        "\n",
        "weights = logistic_regression_model(train_data, train_labels, test_data, test_labels, epochs, learning_rate)\n"
      ],
      "execution_count": 0,
      "outputs": []
    },
    {
      "cell_type": "code",
      "metadata": {
        "id": "u1O5KPcQA4Py",
        "colab_type": "code",
        "outputId": "2c7af0fa-d939-4b51-fd72-d665cf024e0c",
        "colab": {
          "base_uri": "https://localhost:8080/",
          "height": 297
        }
      },
      "source": [
        "def display_data_problem_3():\n",
        "  # Displays the data with original line separating the data\n",
        "  display_random_data(test_data, test_labels, w, b)\n",
        "\n",
        "  # Generates trained line\n",
        "  slope = np.linspace(0, 1, 100)\n",
        "  Y = -((weights[1] * slope + weights[0]) / weights[2])\n",
        "  plt.title('Numpy\\'s logistic regression')\n",
        "  plt.plot(slope, Y, color='green')\n",
        "  plt.show()\n",
        "\n",
        "display_data_problem_3()\n"
      ],
      "execution_count": 10,
      "outputs": [
        {
          "output_type": "display_data",
          "data": {
            "image/png": "[encoded data removed]",
            "text/plain": [
              "<Figure size 432x288 with 1 Axes>"
            ]
          },
          "metadata": {
            "tags": []
          }
        }
      ]
    },
    {
      "cell_type": "code",
      "metadata": {
        "id": "drEL6dwXgcG4",
        "colab_type": "code",
        "outputId": "f0021a61-df26-41a9-c84a-81d0624e5c4c",
        "colab": {
          "base_uri": "https://localhost:8080/",
          "height": 281
        }
      },
      "source": [
        "def heatmap_problem_3():\n",
        "  # Setting up the plane\n",
        "  X, Y = np.meshgrid(np.linspace(0, 1), np.linspace(0, 16))\n",
        "\n",
        "  # Sigmoid activation with the computed weights\n",
        "  val = sigmoid(weights[1] * X + weights[2] * Y + weights[0])\n",
        "\n",
        "  # Displays the heatmap plane\n",
        "  plt.contourf(X, Y, val, 100, cmap='RdBu_r')\n",
        "  plt.title('Heatmap: Numpy\\'s logistic regression')\n",
        "  plt.colorbar()\n",
        "  plt.show()\n",
        "\n",
        "heatmap_problem_3()"
      ],
      "execution_count": 11,
      "outputs": [
        {
          "output_type": "display_data",
          "data": {
            "image/png": "[encoded data removed]",
            "text/plain": [
              "<Figure size 432x288 with 2 Axes>"
            ]
          },
          "metadata": {
            "tags": []
          }
        }
      ]
    },
    {
      "cell_type": "markdown",
      "metadata": {
        "id": "DcdxfRl5NBtg",
        "colab_type": "text"
      },
      "source": [
        "# **Resources:** "
      ]
    },
    {
      "cell_type": "markdown",
      "metadata": {
        "id": "rhWgy-JQTaEo",
        "colab_type": "text"
      },
      "source": [
        "https://colab.research.google.com/drive/1qBxfTPoNcSFvpwu1NDl1V6cHEqL3aQl-\n",
        "https://github.com/schneider128k/machine_learning_course"
      ]
    }
  ]
}