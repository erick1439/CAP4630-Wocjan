{
  "nbformat": 4,
  "nbformat_minor": 0,
  "metadata": {
    "colab": {
      "name": "Problem_1.ipynb",
      "provenance": [],
      "collapsed_sections": [],
      "authorship_tag": "ABX9TyMjyMt5jstn7zSmVbrt4F0q",
      "include_colab_link": true
    },
    "kernelspec": {
      "name": "python3",
      "display_name": "Python 3"
    }
  },
  "cells": [
    {
      "cell_type": "markdown",
      "metadata": {
        "id": "view-in-github",
        "colab_type": "text"
      },
      "source": [
        "<a href=\"https://colab.research.google.com/github/erick1439/CAP4630-Wocjan/blob/master/HW_4/Problem_1.ipynb\" target=\"_parent\"><img src=\"https://colab.research.google.com/assets/colab-badge.svg\" alt=\"Open In Colab\"/></a>"
      ]
    },
    {
      "cell_type": "markdown",
      "metadata": {
        "id": "QBgctGHvRMY5",
        "colab_type": "text"
      },
      "source": [
        "#**Description:**"
      ]
    },
    {
      "cell_type": "markdown",
      "metadata": {
        "id": "j6gbr1fERJ6u",
        "colab_type": "text"
      },
      "source": [
        "Using only numpy, implement the function conv2d. It takes as input input_mat and kernel_mat and outputs output_mat. All variables are square matrices. It should compute the convolution of input_mat with the kernel kernel_mat using valid padding."
      ]
    },
    {
      "cell_type": "markdown",
      "metadata": {
        "id": "6QQ68BnkRWh-",
        "colab_type": "text"
      },
      "source": [
        "#**Implementation:**"
      ]
    },
    {
      "cell_type": "code",
      "metadata": {
        "id": "_jHN62GYRC3k",
        "colab_type": "code",
        "colab": {}
      },
      "source": [
        "import numpy as np\n",
        "\n",
        "def conv2d(input_mat, kernel_mat):\n",
        "    # Special cases in order to avoid errors on the computation.\n",
        "\n",
        "    if kernel_mat.shape[0] != kernel_mat.shape[1]:\n",
        "      return \"Kernel matrix is not square\"\n",
        "    \n",
        "    if input_mat.shape[0] != input_mat.shape[1]:\n",
        "      return \"Input matrix is not square\"\n",
        "\n",
        "    if kernel_mat.shape[0] > input_mat.shape[0]:\n",
        "      return \"Kernel size is greater than the input size\"\n",
        "\n",
        "    # Statements that calculate the new length of the result matrix.\n",
        "    result_mat = np.zeros((input_mat.shape[0] - kernel_mat.shape[0] + 1, input_mat.shape[0] - kernel_mat.shape[0] + 1))\n",
        "\n",
        "    # Loops that calculate the convolution computations\n",
        "    for col in range(result_mat.shape[0]):\n",
        "        for row in range(result_mat.shape[1]):\n",
        "          x_bound = row + kernel_mat.shape[0];\n",
        "          y_bound = col + kernel_mat.shape[0]\n",
        "          temp_mat = np.multiply(input_mat[col:y_bound, row:x_bound], kernel_mat)\n",
        "          result_mat[col][row] = np.sum(temp_mat)\n",
        "\n",
        "    return result_mat"
      ],
      "execution_count": 0,
      "outputs": []
    },
    {
      "cell_type": "markdown",
      "metadata": {
        "id": "b-MfcG4qjPC0",
        "colab_type": "text"
      },
      "source": [
        "# **Custom Test cases:**"
      ]
    },
    {
      "cell_type": "code",
      "metadata": {
        "id": "NDTua4rXjNg-",
        "colab_type": "code",
        "outputId": "ba386fb4-f950-4ac7-8717-ab1ae4b0df7a",
        "colab": {
          "base_uri": "https://localhost:8080/",
          "height": 151
        }
      },
      "source": [
        "# Test case 1: \n",
        "input_mat = np.array([[1, 2, 3],\n",
        "                      [1, 2, 3],\n",
        "                      [1, 2, 3]])\n",
        "\n",
        "kernel_mat = np.array([[1, 1],\n",
        "                       [1, 1]])\n",
        "\n",
        "print(conv2d(input_mat, kernel_mat), end=\"\\n\\n\")\n",
        "\n",
        "# Test case 2:\n",
        "input_mat = np.array([[1, 1, 1],\n",
        "                      [2, 2, 2],\n",
        "                      [3, 3, 3]])\n",
        "\n",
        "kernel_mat = np.array([[1,0],\n",
        "                       [0,1]])\n",
        "\n",
        "print(conv2d(input_mat, kernel_mat), end=\"\\n\\n\")\n",
        "\n",
        "# Test case 3: (kernel_len > input_len)\n",
        "input_mat = np.array([[1,0],\n",
        "                      [0,1]])\n",
        "\n",
        "kernel_mat = np.array([[1, 1, 1],\n",
        "                       [2, 2, 2],\n",
        "                       [3, 3, 3]])\n",
        "\n",
        "print(conv2d(input_mat, kernel_mat), end=\"\\n\\n\")\n",
        "\n"
      ],
      "execution_count": 0,
      "outputs": [
        {
          "output_type": "stream",
          "text": [
            "[[ 6. 10.]\n",
            " [ 6. 10.]]\n",
            "\n",
            "[[3. 3.]\n",
            " [5. 5.]]\n",
            "\n",
            "Kernel size is greater than the input size\n",
            "\n"
          ],
          "name": "stdout"
        }
      ]
    },
    {
      "cell_type": "markdown",
      "metadata": {
        "id": "WbgdANmKlxG3",
        "colab_type": "text"
      },
      "source": [
        "# **Provided test cases:**"
      ]
    },
    {
      "cell_type": "code",
      "metadata": {
        "id": "bsAkRmvnS4w9",
        "colab_type": "code",
        "outputId": "bcd5c28f-c16a-4ea6-c7a3-7c22ee35fd5c",
        "colab": {
          "base_uri": "https://localhost:8080/",
          "height": 370
        }
      },
      "source": [
        "from scipy import signal\n",
        "import numpy as np\n",
        "\n",
        "input_mat = []\n",
        "kernel_mat = []\n",
        "expected_mat = []\n",
        "\n",
        "# test case 1\n",
        "input_mat.append(np.array([[1, 2, 1, 2],\n",
        "                           [2, 1, 2, 1],\n",
        "                           [1, 2, 1, 2],\n",
        "                           [2, 1, 2, 1]]))\n",
        "\n",
        "kernel_mat.append(np.array([[1, 0],\n",
        "                            [0, 1]]))\n",
        "\n",
        "expected_mat.append(np.array([[2, 4, 2],\n",
        "                              [4, 2, 4],\n",
        "                              [2, 4, 2]]))\n",
        "\n",
        "# test case 2\n",
        "input_mat.append(np.array([[1, 0, 0, 0],\n",
        "                          [0, 1, 0, 0],\n",
        "                          [0, 0, 1, 0],\n",
        "                          [0, 0, 0, 1]]))\n",
        "\n",
        "kernel_mat.append(np.array([[1, 0], \n",
        "                            [0, 1]]))\n",
        "\n",
        "expected_mat.append(np.array([[2, 0, 0], \n",
        "                              [0, 2, 0], \n",
        "                              [0, 0, 2]]))\n",
        "\n",
        "\n",
        "# test case 3\n",
        "input_mat.append(np.array([[1, 0, 0, 0],\n",
        "                           [0, 1, 0, 0],\n",
        "                           [0, 0, 1, 0],\n",
        "                           [0, 0, 0, 1]]))\n",
        "\n",
        "kernel_mat.append(np.array([[1, -1],\n",
        "                            [-1, 0]]))\n",
        "\n",
        "expected_mat.append(np.array([[ 1, -1,  0], \n",
        "                              [-1,  1, -1],\n",
        "                              [ 0, -1,  1]]))\n",
        "\n",
        "\n",
        "# test case 4\n",
        "input_mat.append(np.array([[1, 0, 0, 0],\n",
        "                           [0, 1, 0, 0],\n",
        "                           [0, 0, 1, 0],\n",
        "                           [0, 0, 0, 1]]))\n",
        "\n",
        "\n",
        "kernel_mat.append(np.array([[1, 0, 0, 0],\n",
        "                            [0, 1, 0, 0],\n",
        "                            [0, 0, 1, 0],\n",
        "                            [0, 0, 0, 1]]))\n",
        "\n",
        "expected_mat.append(np.array([[4]]))\n",
        "\n",
        "\n",
        "# test case 5 - should either through an error, or return empty matrix\n",
        "input_mat.append(np.array([[1, -1],\n",
        "                           [-1, 0]]))\n",
        "\n",
        "kernel_mat.append(np.array([[1, 0, 0, 0],\n",
        "                            [0, 1, 0, 0],\n",
        "                            [0, 0, 1, 0],\n",
        "                            [0, 0, 0, 1]]))\n",
        "\n",
        "expected_mat.append([])\n",
        "\n",
        "\n",
        "\n",
        "for i in range(len(input_mat)):\n",
        "  # uncomment line for student code testing\n",
        "  #output_mat = conv2d(input_mat[i], kernel_mat[i])\n",
        "\n",
        "  # uncomment lines below (and comment line above) for generating test cases.\n",
        "  if input_mat[i].shape[0] < kernel_mat[i].shape[0]:\n",
        "    output_mat = []\n",
        "  else:\n",
        "    output_mat = signal.convolve2d(input_mat[i], kernel_mat[i], mode='valid')\n",
        "\n",
        "  print(output_mat)\n",
        "  if np.array_equal(output_mat, expected_mat[i]):\n",
        "    print(\"Correct output!\\n\")\n",
        "  else:\n",
        "    print(\"Incorrect output!\\n\")\n"
      ],
      "execution_count": 0,
      "outputs": [
        {
          "output_type": "stream",
          "text": [
            "[[2 4 2]\n",
            " [4 2 4]\n",
            " [2 4 2]]\n",
            "Correct output!\n",
            "\n",
            "[[2 0 0]\n",
            " [0 2 0]\n",
            " [0 0 2]]\n",
            "Correct output!\n",
            "\n",
            "[[ 1 -1  0]\n",
            " [-1  1 -1]\n",
            " [ 0 -1  1]]\n",
            "Correct output!\n",
            "\n",
            "[[4]]\n",
            "Correct output!\n",
            "\n",
            "[]\n",
            "Correct output!\n",
            "\n"
          ],
          "name": "stdout"
        }
      ]
    },
    {
      "cell_type": "markdown",
      "metadata": {
        "id": "hXKvNgLxfnha",
        "colab_type": "text"
      },
      "source": [
        "#**Resources:**"
      ]
    },
    {
      "cell_type": "markdown",
      "metadata": {
        "id": "RwCQrG4gfry6",
        "colab_type": "text"
      },
      "source": [
        "https://keras.io/layers/convolutional/\n",
        "\n",
        "https://www.youtube.com/watch?v=sTTuaNp5LTw"
      ]
    }
  ]
}