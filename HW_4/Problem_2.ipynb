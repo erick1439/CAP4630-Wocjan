{
  "nbformat": 4,
  "nbformat_minor": 0,
  "metadata": {
    "colab": {
      "name": "Problem_2.ipynb",
      "provenance": [],
      "collapsed_sections": [],
      "authorship_tag": "ABX9TyMJp1saDMGTJ3Ju7etGktvl",
      "include_colab_link": true
    },
    "kernelspec": {
      "name": "python3",
      "display_name": "Python 3"
    }
  },
  "cells": [
    {
      "cell_type": "markdown",
      "metadata": {
        "id": "view-in-github",
        "colab_type": "text"
      },
      "source": [
        "<a href=\"https://colab.research.google.com/github/erick1439/CAP4630-Wocjan/blob/master/HW_4/Problem_2.ipynb\" target=\"_parent\"><img src=\"https://colab.research.google.com/assets/colab-badge.svg\" alt=\"Open In Colab\"/></a>"
      ]
    },
    {
      "cell_type": "markdown",
      "metadata": {
        "id": "re1ypdCjqHuV",
        "colab_type": "text"
      },
      "source": [
        "#**Description:**"
      ]
    },
    {
      "cell_type": "markdown",
      "metadata": {
        "id": "RpMFpreMqddq",
        "colab_type": "text"
      },
      "source": [
        "Using only numpy, implement the function maxpooling2d. It takes as input input_mat and s and outputs output_mat. The variables input_mat and output_mat are square matrices and s is an integer. It should compute the maxpooling operation on input_mat using window of shape s times s."
      ]
    },
    {
      "cell_type": "markdown",
      "metadata": {
        "id": "ZKTg3M1iqHxI",
        "colab_type": "text"
      },
      "source": [
        "#**Implementation:**"
      ]
    },
    {
      "cell_type": "code",
      "metadata": {
        "id": "kQRKEU7npy9Q",
        "colab_type": "code",
        "colab": {}
      },
      "source": [
        "import numpy as np\n",
        "\n",
        "def maxpooling2d(input_mat, s):\n",
        "\n",
        "  # Special cases in order to avoid errors on the computation.\n",
        "  if input_mat.shape[0] != input_mat.shape[1]:\n",
        "    return \"Input Matrix is not square\"\n",
        "\n",
        "  if s <= 0:\n",
        "    return \"Make sure the value in s is valid\"\n",
        "\n",
        "  if s > input_mat.shape[0]:\n",
        "    return \"The value in s is largert the input size\"\n",
        "\n",
        "  # Statements that calculate the new length of the result matrix.\n",
        "  result_mat = np.zeros((input_mat.shape[0] // s, input_mat.shape[0] // s))\n",
        "\n",
        "  # Perform the max pooling operation\n",
        "  for col in range(result_mat.shape[0]):\n",
        "    for row in range(result_mat.shape[0]):\n",
        "      x_bound = row * s\n",
        "      y_bound = col * s\n",
        "      result_mat[col][row] = np.amax(input_mat[y_bound:y_bound + s, x_bound:x_bound + s])\n",
        "\n",
        "  return result_mat"
      ],
      "execution_count": 0,
      "outputs": []
    },
    {
      "cell_type": "markdown",
      "metadata": {
        "id": "7onbXrK9qHzd",
        "colab_type": "text"
      },
      "source": [
        "#**Custom Test Cases:**"
      ]
    },
    {
      "cell_type": "code",
      "metadata": {
        "id": "pmttC3KNTZFB",
        "colab_type": "code",
        "outputId": "2f1921d5-4502-41e9-fac5-d0cf02f80cc6",
        "colab": {
          "base_uri": "https://localhost:8080/",
          "height": 151
        }
      },
      "source": [
        "# Test case 1:\n",
        "input_mat = np.array([[1, 2, 3, 4],\n",
        "                      [5, 6, 7, 8],\n",
        "                      [9, 10, 11, 12],\n",
        "                      [13, 14, 15, 16]])\n",
        "\n",
        "print(maxpooling2d(input_mat, 2), end=\"\\n\\n\")\n",
        "\n",
        "# Test case 2:\n",
        "input_mat = np.array([[1, 1, 1],\n",
        "                      [2, 2, 2],\n",
        "                      [3, 3, 3]])\n",
        "\n",
        "print(maxpooling2d(input_mat, 1), end=\"\\n\\n\")\n",
        "\n",
        "# Test case 3:\n",
        "input_mat = np.array([[1, 2, 3],\n",
        "                      [4, 5, 6], \n",
        "                      [7, 8, 9]])\n",
        "\n",
        "print(maxpooling2d(input_mat, 3))\n"
      ],
      "execution_count": 0,
      "outputs": [
        {
          "output_type": "stream",
          "text": [
            "[[ 6.  8.]\n",
            " [14. 16.]]\n",
            "\n",
            "[[1. 1. 1.]\n",
            " [2. 2. 2.]\n",
            " [3. 3. 3.]]\n",
            "\n",
            "[[9.]]\n"
          ],
          "name": "stdout"
        }
      ]
    },
    {
      "cell_type": "markdown",
      "metadata": {
        "id": "UIzTTri_nkeh",
        "colab_type": "text"
      },
      "source": [
        "# **Given Test cases:**"
      ]
    },
    {
      "cell_type": "code",
      "metadata": {
        "id": "ZwxRmtpSTGtB",
        "colab_type": "code",
        "outputId": "f854ea4e-32f3-4f0b-b65b-8f471dcb7f16",
        "colab": {
          "base_uri": "https://localhost:8080/",
          "height": 101
        }
      },
      "source": [
        "import skimage.measure\n",
        "\n",
        "input_mat = []\n",
        "expected_mat = []\n",
        "s = []\n",
        "input_mat.append(np.array([[1, 2, 1, 2],\n",
        "                           [2, 4, 2, 1],\n",
        "                           [1, 2, 4, 2],\n",
        "                           [2, 1, 2, 1]]))\n",
        "s.append(2)\n",
        "\n",
        "expected_mat.append(np.array([[4, 2],\n",
        "                              [2, 4]]))\n",
        "\n",
        "input_mat.append(np.array([[1, 2, 1, 2, 4, 5],\n",
        "                           [2, 4, 2, 1, 0, 3],\n",
        "                           [1, 2, 4, 2, 4, 5],\n",
        "                           [2, 1, 2, 1, 2, 1],\n",
        "                           [1, 1, 2, 3, 1, 2]]))\n",
        "s.append(2)\n",
        "\n",
        "expected_mat.append(\"Input Matrix is not square\")\n",
        "\n",
        "\n",
        "for i in range(len(input_mat)):\n",
        "  # uncomment top line and comment second line to test code\n",
        "  output_mat = maxpooling2d(input_mat[i], s[i])\n",
        "  #output_mat = skimage.measure.block_reduce(input_mat[i], (s[i],s[i]), np.max)\n",
        "\n",
        "  print(output_mat)\n",
        "\n",
        "  if np.array_equal(output_mat, expected_mat[i]):\n",
        "    print(\"Correct output!\")\n",
        "  else:\n",
        "    print(\"Incorrect output!\")"
      ],
      "execution_count": 0,
      "outputs": [
        {
          "output_type": "stream",
          "text": [
            "[[4. 2.]\n",
            " [2. 4.]]\n",
            "Correct output!\n",
            "Input Matrix is not square\n",
            "Correct output!\n"
          ],
          "name": "stdout"
        }
      ]
    },
    {
      "cell_type": "markdown",
      "metadata": {
        "id": "rLbBaaX1qH1u",
        "colab_type": "text"
      },
      "source": [
        "#**Resources:**"
      ]
    },
    {
      "cell_type": "markdown",
      "metadata": {
        "id": "by704TRb1FgR",
        "colab_type": "text"
      },
      "source": [
        "https://keras.io/layers/pooling/\n",
        "\n",
        "https://www.youtube.com/watch?v=8oOgPUO-TBY"
      ]
    }
  ]
}