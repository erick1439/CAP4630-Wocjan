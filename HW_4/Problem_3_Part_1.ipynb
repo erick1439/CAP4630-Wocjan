{
  "nbformat": 4,
  "nbformat_minor": 0,
  "metadata": {
    "colab": {
      "name": "Problem_3_Part_1.ipynb",
      "provenance": [],
      "collapsed_sections": [],
      "include_colab_link": true
    },
    "kernelspec": {
      "name": "python3",
      "display_name": "Python 3"
    },
    "accelerator": "GPU"
  },
  "cells": [
    {
      "cell_type": "markdown",
      "metadata": {
        "id": "view-in-github",
        "colab_type": "text"
      },
      "source": [
        "<a href=\"https://colab.research.google.com/github/erick1439/CAP4630-Wocjan/blob/master/HW_4/Problem_3_Part_1.ipynb\" target=\"_parent\"><img src=\"https://colab.research.google.com/assets/colab-badge.svg\" alt=\"Open In Colab\"/></a>"
      ]
    },
    {
      "cell_type": "markdown",
      "metadata": {
        "id": "KSrgMJ5vKFzQ",
        "colab_type": "text"
      },
      "source": [
        "# Fine-tuning: Xception"
      ]
    },
    {
      "cell_type": "markdown",
      "metadata": {
        "id": "zawjJ5tjHRAf",
        "colab_type": "text"
      },
      "source": [
        "Modifications: I am replacing the Xception over the VGG16 conv base. For the tuning I am following the instrutions form the book and i am trying to unfreeze layers located more to the top before retraining them to have better results."
      ]
    },
    {
      "cell_type": "markdown",
      "metadata": {
        "id": "BqIG8QHMLNOn",
        "colab_type": "text"
      },
      "source": [
        "## Download the data"
      ]
    },
    {
      "cell_type": "markdown",
      "metadata": {
        "id": "t3I1jd7cKV6_",
        "colab_type": "text"
      },
      "source": [
        "Download the example data, a zip. of 2,000 JPG pictures of cats and dogs and extract it locally in ```/tmp```.\n",
        "\n"
      ]
    },
    {
      "cell_type": "code",
      "metadata": {
        "id": "JWjprHEXJ5Qi",
        "colab_type": "code",
        "outputId": "4c8449d1-e496-4778-9e97-ef7ab206c9fb",
        "colab": {
          "base_uri": "https://localhost:8080/",
          "height": 222
        }
      },
      "source": [
        "!wget --no-check-certificate \\\n",
        "    https://storage.googleapis.com/mledu-datasets/cats_and_dogs_filtered.zip \\\n",
        "    -O /tmp/cats_and_dogs_filtered.zip"
      ],
      "execution_count": 0,
      "outputs": [
        {
          "output_type": "stream",
          "text": [
            "--2020-04-21 18:00:17--  https://storage.googleapis.com/mledu-datasets/cats_and_dogs_filtered.zip\n",
            "Resolving storage.googleapis.com (storage.googleapis.com)... 173.194.69.128, 2a00:1450:4013:c00::80\n",
            "Connecting to storage.googleapis.com (storage.googleapis.com)|173.194.69.128|:443... connected.\n",
            "HTTP request sent, awaiting response... 200 OK\n",
            "Length: 68606236 (65M) [application/zip]\n",
            "Saving to: ‘/tmp/cats_and_dogs_filtered.zip’\n",
            "\n",
            "/tmp/cats_and_dogs_ 100%[===================>]  65.43M  87.0MB/s    in 0.8s    \n",
            "\n",
            "2020-04-21 18:00:18 (87.0 MB/s) - ‘/tmp/cats_and_dogs_filtered.zip’ saved [68606236/68606236]\n",
            "\n"
          ],
          "name": "stdout"
        }
      ]
    },
    {
      "cell_type": "code",
      "metadata": {
        "id": "WvoHtdA-K6Rw",
        "colab_type": "code",
        "colab": {}
      },
      "source": [
        "import os\n",
        "import zipfile\n",
        "\n",
        "local_zip = '/tmp/cats_and_dogs_filtered.zip'\n",
        "zip_ref = zipfile.ZipFile(local_zip, 'r')\n",
        "zip_ref.extractall('/tmp')\n",
        "zip_ref.close()"
      ],
      "execution_count": 0,
      "outputs": []
    },
    {
      "cell_type": "markdown",
      "metadata": {
        "id": "shZiOBnJMyy_",
        "colab_type": "text"
      },
      "source": [
        "Note that the data provided by Google does not have a test set."
      ]
    },
    {
      "cell_type": "code",
      "metadata": {
        "id": "dL8ikM89LlsH",
        "colab_type": "code",
        "colab": {}
      },
      "source": [
        "base_dir = '/tmp/cats_and_dogs_filtered'\n",
        "train_dir = os.path.join(base_dir, 'train')\n",
        "validation_dir = os.path.join(base_dir, 'validation')\n",
        "\n",
        "# Directory with our training cat pictures\n",
        "train_cats_dir = os.path.join(train_dir, 'cats')\n",
        "\n",
        "# Directory with our training dog pictures\n",
        "train_dogs_dir = os.path.join(train_dir, 'dogs')\n",
        "\n",
        "# Directory with our validation cat pictures\n",
        "validation_cats_dir = os.path.join(validation_dir, 'cats')\n",
        "\n",
        "# Directory with our validation dog pictures\n",
        "validation_dogs_dir = os.path.join(validation_dir, 'dogs')"
      ],
      "execution_count": 0,
      "outputs": []
    },
    {
      "cell_type": "markdown",
      "metadata": {
        "id": "inyP8bcdXnn-",
        "colab_type": "text"
      },
      "source": [
        "## Build network with Xception convolution base and custom densely connected layers"
      ]
    },
    {
      "cell_type": "markdown",
      "metadata": {
        "id": "kQ48W5T9rHWu",
        "colab_type": "text"
      },
      "source": [
        "### Load the convolutional base"
      ]
    },
    {
      "cell_type": "code",
      "metadata": {
        "id": "Y0FgtANCXm_H",
        "colab_type": "code",
        "outputId": "6001522a-a23f-4a75-9546-6d0ae48f70a8",
        "colab": {
          "base_uri": "https://localhost:8080/",
          "height": 1000
        }
      },
      "source": [
        "from keras.applications import Xception\n",
        "\n",
        "conv_base = Xception(\n",
        "    weights='imagenet', \n",
        "    include_top=False, \n",
        "    input_shape=(150, 150, 3))\n",
        "\n",
        "conv_base.summary()"
      ],
      "execution_count": 0,
      "outputs": [
        {
          "output_type": "stream",
          "text": [
            "Using TensorFlow backend.\n"
          ],
          "name": "stderr"
        },
        {
          "output_type": "stream",
          "text": [
            "Downloading data from https://github.com/fchollet/deep-learning-models/releases/download/v0.4/xception_weights_tf_dim_ordering_tf_kernels_notop.h5\n",
            "83689472/83683744 [==============================] - 3s 0us/step\n",
            "Model: \"xception\"\n",
            "__________________________________________________________________________________________________\n",
            "Layer (type)                    Output Shape         Param #     Connected to                     \n",
            "==================================================================================================\n",
            "input_1 (InputLayer)            (None, 150, 150, 3)  0                                            \n",
            "__________________________________________________________________________________________________\n",
            "block1_conv1 (Conv2D)           (None, 74, 74, 32)   864         input_1[0][0]                    \n",
            "__________________________________________________________________________________________________\n",
            "block1_conv1_bn (BatchNormaliza (None, 74, 74, 32)   128         block1_conv1[0][0]               \n",
            "__________________________________________________________________________________________________\n",
            "block1_conv1_act (Activation)   (None, 74, 74, 32)   0           block1_conv1_bn[0][0]            \n",
            "__________________________________________________________________________________________________\n",
            "block1_conv2 (Conv2D)           (None, 72, 72, 64)   18432       block1_conv1_act[0][0]           \n",
            "__________________________________________________________________________________________________\n",
            "block1_conv2_bn (BatchNormaliza (None, 72, 72, 64)   256         block1_conv2[0][0]               \n",
            "__________________________________________________________________________________________________\n",
            "block1_conv2_act (Activation)   (None, 72, 72, 64)   0           block1_conv2_bn[0][0]            \n",
            "__________________________________________________________________________________________________\n",
            "block2_sepconv1 (SeparableConv2 (None, 72, 72, 128)  8768        block1_conv2_act[0][0]           \n",
            "__________________________________________________________________________________________________\n",
            "block2_sepconv1_bn (BatchNormal (None, 72, 72, 128)  512         block2_sepconv1[0][0]            \n",
            "__________________________________________________________________________________________________\n",
            "block2_sepconv2_act (Activation (None, 72, 72, 128)  0           block2_sepconv1_bn[0][0]         \n",
            "__________________________________________________________________________________________________\n",
            "block2_sepconv2 (SeparableConv2 (None, 72, 72, 128)  17536       block2_sepconv2_act[0][0]        \n",
            "__________________________________________________________________________________________________\n",
            "block2_sepconv2_bn (BatchNormal (None, 72, 72, 128)  512         block2_sepconv2[0][0]            \n",
            "__________________________________________________________________________________________________\n",
            "conv2d_1 (Conv2D)               (None, 36, 36, 128)  8192        block1_conv2_act[0][0]           \n",
            "__________________________________________________________________________________________________\n",
            "block2_pool (MaxPooling2D)      (None, 36, 36, 128)  0           block2_sepconv2_bn[0][0]         \n",
            "__________________________________________________________________________________________________\n",
            "batch_normalization_1 (BatchNor (None, 36, 36, 128)  512         conv2d_1[0][0]                   \n",
            "__________________________________________________________________________________________________\n",
            "add_1 (Add)                     (None, 36, 36, 128)  0           block2_pool[0][0]                \n",
            "                                                                 batch_normalization_1[0][0]      \n",
            "__________________________________________________________________________________________________\n",
            "block3_sepconv1_act (Activation (None, 36, 36, 128)  0           add_1[0][0]                      \n",
            "__________________________________________________________________________________________________\n",
            "block3_sepconv1 (SeparableConv2 (None, 36, 36, 256)  33920       block3_sepconv1_act[0][0]        \n",
            "__________________________________________________________________________________________________\n",
            "block3_sepconv1_bn (BatchNormal (None, 36, 36, 256)  1024        block3_sepconv1[0][0]            \n",
            "__________________________________________________________________________________________________\n",
            "block3_sepconv2_act (Activation (None, 36, 36, 256)  0           block3_sepconv1_bn[0][0]         \n",
            "__________________________________________________________________________________________________\n",
            "block3_sepconv2 (SeparableConv2 (None, 36, 36, 256)  67840       block3_sepconv2_act[0][0]        \n",
            "__________________________________________________________________________________________________\n",
            "block3_sepconv2_bn (BatchNormal (None, 36, 36, 256)  1024        block3_sepconv2[0][0]            \n",
            "__________________________________________________________________________________________________\n",
            "conv2d_2 (Conv2D)               (None, 18, 18, 256)  32768       add_1[0][0]                      \n",
            "__________________________________________________________________________________________________\n",
            "block3_pool (MaxPooling2D)      (None, 18, 18, 256)  0           block3_sepconv2_bn[0][0]         \n",
            "__________________________________________________________________________________________________\n",
            "batch_normalization_2 (BatchNor (None, 18, 18, 256)  1024        conv2d_2[0][0]                   \n",
            "__________________________________________________________________________________________________\n",
            "add_2 (Add)                     (None, 18, 18, 256)  0           block3_pool[0][0]                \n",
            "                                                                 batch_normalization_2[0][0]      \n",
            "__________________________________________________________________________________________________\n",
            "block4_sepconv1_act (Activation (None, 18, 18, 256)  0           add_2[0][0]                      \n",
            "__________________________________________________________________________________________________\n",
            "block4_sepconv1 (SeparableConv2 (None, 18, 18, 728)  188672      block4_sepconv1_act[0][0]        \n",
            "__________________________________________________________________________________________________\n",
            "block4_sepconv1_bn (BatchNormal (None, 18, 18, 728)  2912        block4_sepconv1[0][0]            \n",
            "__________________________________________________________________________________________________\n",
            "block4_sepconv2_act (Activation (None, 18, 18, 728)  0           block4_sepconv1_bn[0][0]         \n",
            "__________________________________________________________________________________________________\n",
            "block4_sepconv2 (SeparableConv2 (None, 18, 18, 728)  536536      block4_sepconv2_act[0][0]        \n",
            "__________________________________________________________________________________________________\n",
            "block4_sepconv2_bn (BatchNormal (None, 18, 18, 728)  2912        block4_sepconv2[0][0]            \n",
            "__________________________________________________________________________________________________\n",
            "conv2d_3 (Conv2D)               (None, 9, 9, 728)    186368      add_2[0][0]                      \n",
            "__________________________________________________________________________________________________\n",
            "block4_pool (MaxPooling2D)      (None, 9, 9, 728)    0           block4_sepconv2_bn[0][0]         \n",
            "__________________________________________________________________________________________________\n",
            "batch_normalization_3 (BatchNor (None, 9, 9, 728)    2912        conv2d_3[0][0]                   \n",
            "__________________________________________________________________________________________________\n",
            "add_3 (Add)                     (None, 9, 9, 728)    0           block4_pool[0][0]                \n",
            "                                                                 batch_normalization_3[0][0]      \n",
            "__________________________________________________________________________________________________\n",
            "block5_sepconv1_act (Activation (None, 9, 9, 728)    0           add_3[0][0]                      \n",
            "__________________________________________________________________________________________________\n",
            "block5_sepconv1 (SeparableConv2 (None, 9, 9, 728)    536536      block5_sepconv1_act[0][0]        \n",
            "__________________________________________________________________________________________________\n",
            "block5_sepconv1_bn (BatchNormal (None, 9, 9, 728)    2912        block5_sepconv1[0][0]            \n",
            "__________________________________________________________________________________________________\n",
            "block5_sepconv2_act (Activation (None, 9, 9, 728)    0           block5_sepconv1_bn[0][0]         \n",
            "__________________________________________________________________________________________________\n",
            "block5_sepconv2 (SeparableConv2 (None, 9, 9, 728)    536536      block5_sepconv2_act[0][0]        \n",
            "__________________________________________________________________________________________________\n",
            "block5_sepconv2_bn (BatchNormal (None, 9, 9, 728)    2912        block5_sepconv2[0][0]            \n",
            "__________________________________________________________________________________________________\n",
            "block5_sepconv3_act (Activation (None, 9, 9, 728)    0           block5_sepconv2_bn[0][0]         \n",
            "__________________________________________________________________________________________________\n",
            "block5_sepconv3 (SeparableConv2 (None, 9, 9, 728)    536536      block5_sepconv3_act[0][0]        \n",
            "__________________________________________________________________________________________________\n",
            "block5_sepconv3_bn (BatchNormal (None, 9, 9, 728)    2912        block5_sepconv3[0][0]            \n",
            "__________________________________________________________________________________________________\n",
            "add_4 (Add)                     (None, 9, 9, 728)    0           block5_sepconv3_bn[0][0]         \n",
            "                                                                 add_3[0][0]                      \n",
            "__________________________________________________________________________________________________\n",
            "block6_sepconv1_act (Activation (None, 9, 9, 728)    0           add_4[0][0]                      \n",
            "__________________________________________________________________________________________________\n",
            "block6_sepconv1 (SeparableConv2 (None, 9, 9, 728)    536536      block6_sepconv1_act[0][0]        \n",
            "__________________________________________________________________________________________________\n",
            "block6_sepconv1_bn (BatchNormal (None, 9, 9, 728)    2912        block6_sepconv1[0][0]            \n",
            "__________________________________________________________________________________________________\n",
            "block6_sepconv2_act (Activation (None, 9, 9, 728)    0           block6_sepconv1_bn[0][0]         \n",
            "__________________________________________________________________________________________________\n",
            "block6_sepconv2 (SeparableConv2 (None, 9, 9, 728)    536536      block6_sepconv2_act[0][0]        \n",
            "__________________________________________________________________________________________________\n",
            "block6_sepconv2_bn (BatchNormal (None, 9, 9, 728)    2912        block6_sepconv2[0][0]            \n",
            "__________________________________________________________________________________________________\n",
            "block6_sepconv3_act (Activation (None, 9, 9, 728)    0           block6_sepconv2_bn[0][0]         \n",
            "__________________________________________________________________________________________________\n",
            "block6_sepconv3 (SeparableConv2 (None, 9, 9, 728)    536536      block6_sepconv3_act[0][0]        \n",
            "__________________________________________________________________________________________________\n",
            "block6_sepconv3_bn (BatchNormal (None, 9, 9, 728)    2912        block6_sepconv3[0][0]            \n",
            "__________________________________________________________________________________________________\n",
            "add_5 (Add)                     (None, 9, 9, 728)    0           block6_sepconv3_bn[0][0]         \n",
            "                                                                 add_4[0][0]                      \n",
            "__________________________________________________________________________________________________\n",
            "block7_sepconv1_act (Activation (None, 9, 9, 728)    0           add_5[0][0]                      \n",
            "__________________________________________________________________________________________________\n",
            "block7_sepconv1 (SeparableConv2 (None, 9, 9, 728)    536536      block7_sepconv1_act[0][0]        \n",
            "__________________________________________________________________________________________________\n",
            "block7_sepconv1_bn (BatchNormal (None, 9, 9, 728)    2912        block7_sepconv1[0][0]            \n",
            "__________________________________________________________________________________________________\n",
            "block7_sepconv2_act (Activation (None, 9, 9, 728)    0           block7_sepconv1_bn[0][0]         \n",
            "__________________________________________________________________________________________________\n",
            "block7_sepconv2 (SeparableConv2 (None, 9, 9, 728)    536536      block7_sepconv2_act[0][0]        \n",
            "__________________________________________________________________________________________________\n",
            "block7_sepconv2_bn (BatchNormal (None, 9, 9, 728)    2912        block7_sepconv2[0][0]            \n",
            "__________________________________________________________________________________________________\n",
            "block7_sepconv3_act (Activation (None, 9, 9, 728)    0           block7_sepconv2_bn[0][0]         \n",
            "__________________________________________________________________________________________________\n",
            "block7_sepconv3 (SeparableConv2 (None, 9, 9, 728)    536536      block7_sepconv3_act[0][0]        \n",
            "__________________________________________________________________________________________________\n",
            "block7_sepconv3_bn (BatchNormal (None, 9, 9, 728)    2912        block7_sepconv3[0][0]            \n",
            "__________________________________________________________________________________________________\n",
            "add_6 (Add)                     (None, 9, 9, 728)    0           block7_sepconv3_bn[0][0]         \n",
            "                                                                 add_5[0][0]                      \n",
            "__________________________________________________________________________________________________\n",
            "block8_sepconv1_act (Activation (None, 9, 9, 728)    0           add_6[0][0]                      \n",
            "__________________________________________________________________________________________________\n",
            "block8_sepconv1 (SeparableConv2 (None, 9, 9, 728)    536536      block8_sepconv1_act[0][0]        \n",
            "__________________________________________________________________________________________________\n",
            "block8_sepconv1_bn (BatchNormal (None, 9, 9, 728)    2912        block8_sepconv1[0][0]            \n",
            "__________________________________________________________________________________________________\n",
            "block8_sepconv2_act (Activation (None, 9, 9, 728)    0           block8_sepconv1_bn[0][0]         \n",
            "__________________________________________________________________________________________________\n",
            "block8_sepconv2 (SeparableConv2 (None, 9, 9, 728)    536536      block8_sepconv2_act[0][0]        \n",
            "__________________________________________________________________________________________________\n",
            "block8_sepconv2_bn (BatchNormal (None, 9, 9, 728)    2912        block8_sepconv2[0][0]            \n",
            "__________________________________________________________________________________________________\n",
            "block8_sepconv3_act (Activation (None, 9, 9, 728)    0           block8_sepconv2_bn[0][0]         \n",
            "__________________________________________________________________________________________________\n",
            "block8_sepconv3 (SeparableConv2 (None, 9, 9, 728)    536536      block8_sepconv3_act[0][0]        \n",
            "__________________________________________________________________________________________________\n",
            "block8_sepconv3_bn (BatchNormal (None, 9, 9, 728)    2912        block8_sepconv3[0][0]            \n",
            "__________________________________________________________________________________________________\n",
            "add_7 (Add)                     (None, 9, 9, 728)    0           block8_sepconv3_bn[0][0]         \n",
            "                                                                 add_6[0][0]                      \n",
            "__________________________________________________________________________________________________\n",
            "block9_sepconv1_act (Activation (None, 9, 9, 728)    0           add_7[0][0]                      \n",
            "__________________________________________________________________________________________________\n",
            "block9_sepconv1 (SeparableConv2 (None, 9, 9, 728)    536536      block9_sepconv1_act[0][0]        \n",
            "__________________________________________________________________________________________________\n",
            "block9_sepconv1_bn (BatchNormal (None, 9, 9, 728)    2912        block9_sepconv1[0][0]            \n",
            "__________________________________________________________________________________________________\n",
            "block9_sepconv2_act (Activation (None, 9, 9, 728)    0           block9_sepconv1_bn[0][0]         \n",
            "__________________________________________________________________________________________________\n",
            "block9_sepconv2 (SeparableConv2 (None, 9, 9, 728)    536536      block9_sepconv2_act[0][0]        \n",
            "__________________________________________________________________________________________________\n",
            "block9_sepconv2_bn (BatchNormal (None, 9, 9, 728)    2912        block9_sepconv2[0][0]            \n",
            "__________________________________________________________________________________________________\n",
            "block9_sepconv3_act (Activation (None, 9, 9, 728)    0           block9_sepconv2_bn[0][0]         \n",
            "__________________________________________________________________________________________________\n",
            "block9_sepconv3 (SeparableConv2 (None, 9, 9, 728)    536536      block9_sepconv3_act[0][0]        \n",
            "__________________________________________________________________________________________________\n",
            "block9_sepconv3_bn (BatchNormal (None, 9, 9, 728)    2912        block9_sepconv3[0][0]            \n",
            "__________________________________________________________________________________________________\n",
            "add_8 (Add)                     (None, 9, 9, 728)    0           block9_sepconv3_bn[0][0]         \n",
            "                                                                 add_7[0][0]                      \n",
            "__________________________________________________________________________________________________\n",
            "block10_sepconv1_act (Activatio (None, 9, 9, 728)    0           add_8[0][0]                      \n",
            "__________________________________________________________________________________________________\n",
            "block10_sepconv1 (SeparableConv (None, 9, 9, 728)    536536      block10_sepconv1_act[0][0]       \n",
            "__________________________________________________________________________________________________\n",
            "block10_sepconv1_bn (BatchNorma (None, 9, 9, 728)    2912        block10_sepconv1[0][0]           \n",
            "__________________________________________________________________________________________________\n",
            "block10_sepconv2_act (Activatio (None, 9, 9, 728)    0           block10_sepconv1_bn[0][0]        \n",
            "__________________________________________________________________________________________________\n",
            "block10_sepconv2 (SeparableConv (None, 9, 9, 728)    536536      block10_sepconv2_act[0][0]       \n",
            "__________________________________________________________________________________________________\n",
            "block10_sepconv2_bn (BatchNorma (None, 9, 9, 728)    2912        block10_sepconv2[0][0]           \n",
            "__________________________________________________________________________________________________\n",
            "block10_sepconv3_act (Activatio (None, 9, 9, 728)    0           block10_sepconv2_bn[0][0]        \n",
            "__________________________________________________________________________________________________\n",
            "block10_sepconv3 (SeparableConv (None, 9, 9, 728)    536536      block10_sepconv3_act[0][0]       \n",
            "__________________________________________________________________________________________________\n",
            "block10_sepconv3_bn (BatchNorma (None, 9, 9, 728)    2912        block10_sepconv3[0][0]           \n",
            "__________________________________________________________________________________________________\n",
            "add_9 (Add)                     (None, 9, 9, 728)    0           block10_sepconv3_bn[0][0]        \n",
            "                                                                 add_8[0][0]                      \n",
            "__________________________________________________________________________________________________\n",
            "block11_sepconv1_act (Activatio (None, 9, 9, 728)    0           add_9[0][0]                      \n",
            "__________________________________________________________________________________________________\n",
            "block11_sepconv1 (SeparableConv (None, 9, 9, 728)    536536      block11_sepconv1_act[0][0]       \n",
            "__________________________________________________________________________________________________\n",
            "block11_sepconv1_bn (BatchNorma (None, 9, 9, 728)    2912        block11_sepconv1[0][0]           \n",
            "__________________________________________________________________________________________________\n",
            "block11_sepconv2_act (Activatio (None, 9, 9, 728)    0           block11_sepconv1_bn[0][0]        \n",
            "__________________________________________________________________________________________________\n",
            "block11_sepconv2 (SeparableConv (None, 9, 9, 728)    536536      block11_sepconv2_act[0][0]       \n",
            "__________________________________________________________________________________________________\n",
            "block11_sepconv2_bn (BatchNorma (None, 9, 9, 728)    2912        block11_sepconv2[0][0]           \n",
            "__________________________________________________________________________________________________\n",
            "block11_sepconv3_act (Activatio (None, 9, 9, 728)    0           block11_sepconv2_bn[0][0]        \n",
            "__________________________________________________________________________________________________\n",
            "block11_sepconv3 (SeparableConv (None, 9, 9, 728)    536536      block11_sepconv3_act[0][0]       \n",
            "__________________________________________________________________________________________________\n",
            "block11_sepconv3_bn (BatchNorma (None, 9, 9, 728)    2912        block11_sepconv3[0][0]           \n",
            "__________________________________________________________________________________________________\n",
            "add_10 (Add)                    (None, 9, 9, 728)    0           block11_sepconv3_bn[0][0]        \n",
            "                                                                 add_9[0][0]                      \n",
            "__________________________________________________________________________________________________\n",
            "block12_sepconv1_act (Activatio (None, 9, 9, 728)    0           add_10[0][0]                     \n",
            "__________________________________________________________________________________________________\n",
            "block12_sepconv1 (SeparableConv (None, 9, 9, 728)    536536      block12_sepconv1_act[0][0]       \n",
            "__________________________________________________________________________________________________\n",
            "block12_sepconv1_bn (BatchNorma (None, 9, 9, 728)    2912        block12_sepconv1[0][0]           \n",
            "__________________________________________________________________________________________________\n",
            "block12_sepconv2_act (Activatio (None, 9, 9, 728)    0           block12_sepconv1_bn[0][0]        \n",
            "__________________________________________________________________________________________________\n",
            "block12_sepconv2 (SeparableConv (None, 9, 9, 728)    536536      block12_sepconv2_act[0][0]       \n",
            "__________________________________________________________________________________________________\n",
            "block12_sepconv2_bn (BatchNorma (None, 9, 9, 728)    2912        block12_sepconv2[0][0]           \n",
            "__________________________________________________________________________________________________\n",
            "block12_sepconv3_act (Activatio (None, 9, 9, 728)    0           block12_sepconv2_bn[0][0]        \n",
            "__________________________________________________________________________________________________\n",
            "block12_sepconv3 (SeparableConv (None, 9, 9, 728)    536536      block12_sepconv3_act[0][0]       \n",
            "__________________________________________________________________________________________________\n",
            "block12_sepconv3_bn (BatchNorma (None, 9, 9, 728)    2912        block12_sepconv3[0][0]           \n",
            "__________________________________________________________________________________________________\n",
            "add_11 (Add)                    (None, 9, 9, 728)    0           block12_sepconv3_bn[0][0]        \n",
            "                                                                 add_10[0][0]                     \n",
            "__________________________________________________________________________________________________\n",
            "block13_sepconv1_act (Activatio (None, 9, 9, 728)    0           add_11[0][0]                     \n",
            "__________________________________________________________________________________________________\n",
            "block13_sepconv1 (SeparableConv (None, 9, 9, 728)    536536      block13_sepconv1_act[0][0]       \n",
            "__________________________________________________________________________________________________\n",
            "block13_sepconv1_bn (BatchNorma (None, 9, 9, 728)    2912        block13_sepconv1[0][0]           \n",
            "__________________________________________________________________________________________________\n",
            "block13_sepconv2_act (Activatio (None, 9, 9, 728)    0           block13_sepconv1_bn[0][0]        \n",
            "__________________________________________________________________________________________________\n",
            "block13_sepconv2 (SeparableConv (None, 9, 9, 1024)   752024      block13_sepconv2_act[0][0]       \n",
            "__________________________________________________________________________________________________\n",
            "block13_sepconv2_bn (BatchNorma (None, 9, 9, 1024)   4096        block13_sepconv2[0][0]           \n",
            "__________________________________________________________________________________________________\n",
            "conv2d_4 (Conv2D)               (None, 5, 5, 1024)   745472      add_11[0][0]                     \n",
            "__________________________________________________________________________________________________\n",
            "block13_pool (MaxPooling2D)     (None, 5, 5, 1024)   0           block13_sepconv2_bn[0][0]        \n",
            "__________________________________________________________________________________________________\n",
            "batch_normalization_4 (BatchNor (None, 5, 5, 1024)   4096        conv2d_4[0][0]                   \n",
            "__________________________________________________________________________________________________\n",
            "add_12 (Add)                    (None, 5, 5, 1024)   0           block13_pool[0][0]               \n",
            "                                                                 batch_normalization_4[0][0]      \n",
            "__________________________________________________________________________________________________\n",
            "block14_sepconv1 (SeparableConv (None, 5, 5, 1536)   1582080     add_12[0][0]                     \n",
            "__________________________________________________________________________________________________\n",
            "block14_sepconv1_bn (BatchNorma (None, 5, 5, 1536)   6144        block14_sepconv1[0][0]           \n",
            "__________________________________________________________________________________________________\n",
            "block14_sepconv1_act (Activatio (None, 5, 5, 1536)   0           block14_sepconv1_bn[0][0]        \n",
            "__________________________________________________________________________________________________\n",
            "block14_sepconv2 (SeparableConv (None, 5, 5, 2048)   3159552     block14_sepconv1_act[0][0]       \n",
            "__________________________________________________________________________________________________\n",
            "block14_sepconv2_bn (BatchNorma (None, 5, 5, 2048)   8192        block14_sepconv2[0][0]           \n",
            "__________________________________________________________________________________________________\n",
            "block14_sepconv2_act (Activatio (None, 5, 5, 2048)   0           block14_sepconv2_bn[0][0]        \n",
            "==================================================================================================\n",
            "Total params: 20,861,480\n",
            "Trainable params: 20,806,952\n",
            "Non-trainable params: 54,528\n",
            "__________________________________________________________________________________________________\n"
          ],
          "name": "stdout"
        }
      ]
    },
    {
      "cell_type": "markdown",
      "metadata": {
        "id": "D6OBHOO9q1ou",
        "colab_type": "text"
      },
      "source": [
        "### Freeze the convolutional base"
      ]
    },
    {
      "cell_type": "code",
      "metadata": {
        "id": "UleRo4Dpq6Ld",
        "colab_type": "code",
        "colab": {}
      },
      "source": [
        "conv_base.trainable = False"
      ],
      "execution_count": 0,
      "outputs": []
    },
    {
      "cell_type": "markdown",
      "metadata": {
        "id": "Qfx6PqhPrb7Q",
        "colab_type": "text"
      },
      "source": [
        "### Concatenate the convolutional base and densely connected layers"
      ]
    },
    {
      "cell_type": "code",
      "metadata": {
        "id": "qUpmocDAO3xm",
        "colab_type": "code",
        "colab": {}
      },
      "source": [
        "from keras import layers\n",
        "from keras import models\n",
        "from keras import optimizers\n",
        "\n",
        "model = models.Sequential()\n",
        "model.add(conv_base)\n",
        "model.add(layers.Flatten())\n",
        "model.add(layers.Dense(256, activation='relu'))\n",
        "#model.add(layers.Dropout(0.1))\n",
        "model.add(layers.Dense(1, activation='sigmoid'))"
      ],
      "execution_count": 0,
      "outputs": []
    },
    {
      "cell_type": "code",
      "metadata": {
        "id": "Fh6gZSeAjF7c",
        "colab_type": "code",
        "outputId": "4a34eb0f-a484-4fbc-a9d3-3a65c1dce604",
        "colab": {
          "base_uri": "https://localhost:8080/",
          "height": 286
        }
      },
      "source": [
        "model.summary()"
      ],
      "execution_count": 0,
      "outputs": [
        {
          "output_type": "stream",
          "text": [
            "Model: \"sequential_1\"\n",
            "_________________________________________________________________\n",
            "Layer (type)                 Output Shape              Param #   \n",
            "=================================================================\n",
            "xception (Model)             (None, 5, 5, 2048)        20861480  \n",
            "_________________________________________________________________\n",
            "flatten_1 (Flatten)          (None, 51200)             0         \n",
            "_________________________________________________________________\n",
            "dense_1 (Dense)              (None, 256)               13107456  \n",
            "_________________________________________________________________\n",
            "dense_2 (Dense)              (None, 1)                 257       \n",
            "=================================================================\n",
            "Total params: 33,969,193\n",
            "Trainable params: 13,107,713\n",
            "Non-trainable params: 20,861,480\n",
            "_________________________________________________________________\n"
          ],
          "name": "stdout"
        }
      ]
    },
    {
      "cell_type": "markdown",
      "metadata": {
        "id": "eZjBiddhi5Qj",
        "colab_type": "text"
      },
      "source": [
        "## Train the model end to end with frozen convolutional base"
      ]
    },
    {
      "cell_type": "code",
      "metadata": {
        "id": "tfAQlC2Oi41L",
        "colab_type": "code",
        "outputId": "5b78988c-39e2-48eb-f70c-c5965ce9418d",
        "colab": {
          "base_uri": "https://localhost:8080/",
          "height": 1000
        }
      },
      "source": [
        "from keras.preprocessing.image import ImageDataGenerator\n",
        "from keras import optimizers\n",
        "\n",
        "# data augmentation\n",
        "\n",
        "train_datagen = ImageDataGenerator(\n",
        "    rescale=1./255, \n",
        "    rotation_range=40,\n",
        "    width_shift_range=0.2,\n",
        "    height_shift_range=0.2,\n",
        "    shear_range=0.2,\n",
        "    zoom_range=0.2,\n",
        "    horizontal_flip=True,\n",
        "    fill_mode='nearest'\n",
        ")\n",
        "\n",
        "train_generator = train_datagen.flow_from_directory(\n",
        "    train_dir,\n",
        "    target_size=(150, 150),\n",
        "    batch_size=20,\n",
        "    class_mode='binary')\n",
        "\n",
        "validation_datagen = ImageDataGenerator(rescale=1./255)\n",
        "\n",
        "validation_generator = validation_datagen.flow_from_directory(\n",
        "    validation_dir,\n",
        "    target_size=(150, 150),\n",
        "    batch_size=20,\n",
        "    class_mode='binary')\n",
        "\n",
        "# compile model\n",
        "\n",
        "model.compile(\n",
        "    loss='binary_crossentropy', \n",
        "    optimizer=optimizers.RMSprop(lr=2e-5), \n",
        "    metrics=['acc'])\n",
        "\n",
        "# train\n",
        "\n",
        "history = model.fit_generator(\n",
        "    train_generator,\n",
        "    steps_per_epoch=100,\n",
        "    epochs=30,\n",
        "    validation_data=validation_generator,\n",
        "    validation_steps=50\n",
        ")"
      ],
      "execution_count": 0,
      "outputs": [
        {
          "output_type": "stream",
          "text": [
            "Found 2000 images belonging to 2 classes.\n",
            "Found 1000 images belonging to 2 classes.\n",
            "Epoch 1/30\n",
            "100/100 [==============================] - 26s 256ms/step - loss: 0.4600 - acc: 0.7580 - val_loss: 0.3950 - val_acc: 0.8990\n",
            "Epoch 2/30\n",
            "100/100 [==============================] - 17s 167ms/step - loss: 0.3845 - acc: 0.8100 - val_loss: 0.0855 - val_acc: 0.9610\n",
            "Epoch 3/30\n",
            "100/100 [==============================] - 17s 168ms/step - loss: 0.3524 - acc: 0.8435 - val_loss: 0.2570 - val_acc: 0.9650\n",
            "Epoch 4/30\n",
            "100/100 [==============================] - 17s 168ms/step - loss: 0.3320 - acc: 0.8505 - val_loss: 0.0231 - val_acc: 0.9640\n",
            "Epoch 5/30\n",
            "100/100 [==============================] - 17s 174ms/step - loss: 0.3480 - acc: 0.8425 - val_loss: 0.1753 - val_acc: 0.9530\n",
            "Epoch 6/30\n",
            "100/100 [==============================] - 17s 172ms/step - loss: 0.3125 - acc: 0.8580 - val_loss: 0.0277 - val_acc: 0.9650\n",
            "Epoch 7/30\n",
            "100/100 [==============================] - 17s 171ms/step - loss: 0.3241 - acc: 0.8520 - val_loss: 0.0164 - val_acc: 0.9720\n",
            "Epoch 8/30\n",
            "100/100 [==============================] - 17s 169ms/step - loss: 0.2992 - acc: 0.8655 - val_loss: 0.2657 - val_acc: 0.9710\n",
            "Epoch 9/30\n",
            "100/100 [==============================] - 17s 168ms/step - loss: 0.3203 - acc: 0.8610 - val_loss: 0.0557 - val_acc: 0.9520\n",
            "Epoch 10/30\n",
            "100/100 [==============================] - 17s 169ms/step - loss: 0.2923 - acc: 0.8705 - val_loss: 0.0019 - val_acc: 0.9680\n",
            "Epoch 11/30\n",
            "100/100 [==============================] - 17s 172ms/step - loss: 0.2980 - acc: 0.8720 - val_loss: 0.0017 - val_acc: 0.9730\n",
            "Epoch 12/30\n",
            "100/100 [==============================] - 17s 168ms/step - loss: 0.2792 - acc: 0.8785 - val_loss: 3.5843e-06 - val_acc: 0.9720\n",
            "Epoch 13/30\n",
            "100/100 [==============================] - 17s 169ms/step - loss: 0.3127 - acc: 0.8595 - val_loss: 0.0244 - val_acc: 0.9620\n",
            "Epoch 14/30\n",
            "100/100 [==============================] - 17s 169ms/step - loss: 0.2866 - acc: 0.8750 - val_loss: 1.7241e-06 - val_acc: 0.9720\n",
            "Epoch 15/30\n",
            "100/100 [==============================] - 17s 171ms/step - loss: 0.2947 - acc: 0.8745 - val_loss: 0.7771 - val_acc: 0.9690\n",
            "Epoch 16/30\n",
            "100/100 [==============================] - 17s 170ms/step - loss: 0.2905 - acc: 0.8690 - val_loss: 3.8990e-04 - val_acc: 0.9610\n",
            "Epoch 17/30\n",
            "100/100 [==============================] - 17s 170ms/step - loss: 0.3135 - acc: 0.8660 - val_loss: 1.1188e-04 - val_acc: 0.9720\n",
            "Epoch 18/30\n",
            "100/100 [==============================] - 17s 169ms/step - loss: 0.2733 - acc: 0.8855 - val_loss: 0.0870 - val_acc: 0.9750\n",
            "Epoch 19/30\n",
            "100/100 [==============================] - 17s 170ms/step - loss: 0.2768 - acc: 0.8860 - val_loss: 1.1557e-04 - val_acc: 0.9610\n",
            "Epoch 20/30\n",
            "100/100 [==============================] - 17s 171ms/step - loss: 0.2649 - acc: 0.8850 - val_loss: 0.1990 - val_acc: 0.9730\n",
            "Epoch 21/30\n",
            "100/100 [==============================] - 17s 169ms/step - loss: 0.2986 - acc: 0.8690 - val_loss: 0.4394 - val_acc: 0.9700\n",
            "Epoch 22/30\n",
            "100/100 [==============================] - 17s 169ms/step - loss: 0.2746 - acc: 0.8860 - val_loss: 0.1351 - val_acc: 0.9710\n",
            "Epoch 23/30\n",
            "100/100 [==============================] - 17s 168ms/step - loss: 0.2735 - acc: 0.8915 - val_loss: 0.5464 - val_acc: 0.9710\n",
            "Epoch 24/30\n",
            "100/100 [==============================] - 17s 167ms/step - loss: 0.2701 - acc: 0.8910 - val_loss: 7.9454e-04 - val_acc: 0.9700\n",
            "Epoch 25/30\n",
            "100/100 [==============================] - 17s 169ms/step - loss: 0.2707 - acc: 0.8890 - val_loss: 0.1590 - val_acc: 0.9680\n",
            "Epoch 26/30\n",
            "100/100 [==============================] - 17s 166ms/step - loss: 0.2647 - acc: 0.8860 - val_loss: 6.0955e-06 - val_acc: 0.9700\n",
            "Epoch 27/30\n",
            "100/100 [==============================] - 17s 167ms/step - loss: 0.2731 - acc: 0.8850 - val_loss: 0.0011 - val_acc: 0.9730\n",
            "Epoch 28/30\n",
            "100/100 [==============================] - 17s 167ms/step - loss: 0.2558 - acc: 0.8915 - val_loss: 0.0021 - val_acc: 0.9710\n",
            "Epoch 29/30\n",
            "100/100 [==============================] - 17s 170ms/step - loss: 0.2859 - acc: 0.8840 - val_loss: 0.8807 - val_acc: 0.9640\n",
            "Epoch 30/30\n",
            "100/100 [==============================] - 17s 171ms/step - loss: 0.2582 - acc: 0.8720 - val_loss: 0.0028 - val_acc: 0.9700\n"
          ],
          "name": "stdout"
        }
      ]
    },
    {
      "cell_type": "markdown",
      "metadata": {
        "id": "xqRc_vHKc92U",
        "colab_type": "text"
      },
      "source": [
        "## Display curves of loss and accuracy during training"
      ]
    },
    {
      "cell_type": "code",
      "metadata": {
        "id": "ybWwdzz9bwuQ",
        "colab_type": "code",
        "outputId": "1855d991-ad07-452d-a93e-33508b1545b6",
        "colab": {
          "base_uri": "https://localhost:8080/",
          "height": 545
        }
      },
      "source": [
        "%matplotlib inline\n",
        "\n",
        "import matplotlib.pyplot as plt\n",
        "\n",
        "acc = history.history['acc']\n",
        "val_acc = history.history['val_acc']\n",
        "\n",
        "loss = history.history['loss']\n",
        "val_loss = history.history['val_loss']\n",
        "\n",
        "epochs = range(1, len(acc) + 1)\n",
        "\n",
        "# training and validation accuracy\n",
        "\n",
        "plt.plot(epochs, acc, 'bo', label='training acc')\n",
        "plt.plot(epochs, val_acc, 'b', label='validation acc')\n",
        "plt.title('training and validation accuracy')\n",
        "plt.legend()\n",
        "\n",
        "plt.figure()\n",
        "\n",
        "# training and validation loss\n",
        "\n",
        "plt.plot(epochs, loss, 'bo', label='training loss')\n",
        "plt.plot(epochs, val_loss, 'b', label='validation loss')\n",
        "plt.title('training and validation loss')\n",
        "plt.legend()\n",
        "\n",
        "plt.show()"
      ],
      "execution_count": 0,
      "outputs": [
        {
          "output_type": "display_data",
          "data": {
            "image/png": "[encoded data removed]",
            "text/plain": [
              "<Figure size 432x288 with 1 Axes>"
            ]
          },
          "metadata": {
            "tags": [],
            "needs_background": "light"
          }
        },
        {
          "output_type": "display_data",
          "data": {
            "image/png": "[encoded data removed]",
            "text/plain": [
              "<Figure size 432x288 with 1 Axes>"
            ]
          },
          "metadata": {
            "tags": [],
            "needs_background": "light"
          }
        }
      ]
    },
    {
      "cell_type": "markdown",
      "metadata": {
        "id": "lOWsxpey8lN0",
        "colab_type": "text"
      },
      "source": [
        "## Fine-tuning"
      ]
    },
    {
      "cell_type": "code",
      "metadata": {
        "id": "PwkVMx8N8qMw",
        "colab_type": "code",
        "colab": {}
      },
      "source": [
        "conv_base.trainable = True\n",
        "\n",
        "set_trainable = False\n",
        "for layer in conv_base.layers:\n",
        "  if layer.name == 'block10_sepconv1':\n",
        "    set_trainable = True\n",
        "  if set_trainable:\n",
        "    layer.trainable = True\n",
        "  else:\n",
        "    layer.trainable = False"
      ],
      "execution_count": 0,
      "outputs": []
    },
    {
      "cell_type": "code",
      "metadata": {
        "id": "DyN-J7rs9cvo",
        "colab_type": "code",
        "outputId": "3b604114-32b4-42b3-b050-f6b2b943731e",
        "colab": {
          "base_uri": "https://localhost:8080/",
          "height": 1000
        }
      },
      "source": [
        "# compile model\n",
        "\n",
        "model.compile(\n",
        "    loss='binary_crossentropy',\n",
        "    #\n",
        "    # choose a smaller learning rate\n",
        "    #\n",
        "    optimizer=optimizers.RMSprop(lr=1e-5), \n",
        "    metrics=['acc'])\n",
        "\n",
        "# train\n",
        "\n",
        "history = model.fit_generator(\n",
        "    train_generator,\n",
        "    steps_per_epoch=100,\n",
        "    epochs=100,\n",
        "    validation_data=validation_generator,\n",
        "    validation_steps=50)"
      ],
      "execution_count": 0,
      "outputs": [
        {
          "output_type": "stream",
          "text": [
            "Epoch 1/100\n",
            "100/100 [==============================] - 23s 233ms/step - loss: 0.2394 - acc: 0.8935 - val_loss: 0.4364 - val_acc: 0.9540\n",
            "Epoch 2/100\n",
            "100/100 [==============================] - 19s 185ms/step - loss: 0.2307 - acc: 0.9030 - val_loss: 0.1631 - val_acc: 0.9360\n",
            "Epoch 3/100\n",
            "100/100 [==============================] - 19s 189ms/step - loss: 0.2461 - acc: 0.9075 - val_loss: 0.6524 - val_acc: 0.9480\n",
            "Epoch 4/100\n",
            "100/100 [==============================] - 19s 190ms/step - loss: 0.2107 - acc: 0.9135 - val_loss: 0.2872 - val_acc: 0.9450\n",
            "Epoch 5/100\n",
            "100/100 [==============================] - 19s 188ms/step - loss: 0.2241 - acc: 0.9020 - val_loss: 0.5104 - val_acc: 0.9330\n",
            "Epoch 6/100\n",
            "100/100 [==============================] - 19s 187ms/step - loss: 0.1908 - acc: 0.9255 - val_loss: 0.0147 - val_acc: 0.9310\n",
            "Epoch 7/100\n",
            "100/100 [==============================] - 19s 188ms/step - loss: 0.1614 - acc: 0.9360 - val_loss: 0.1006 - val_acc: 0.9430\n",
            "Epoch 8/100\n",
            "100/100 [==============================] - 19s 190ms/step - loss: 0.1939 - acc: 0.9250 - val_loss: 0.1657 - val_acc: 0.9270\n",
            "Epoch 9/100\n",
            "100/100 [==============================] - 19s 185ms/step - loss: 0.1598 - acc: 0.9415 - val_loss: 0.0043 - val_acc: 0.9320\n",
            "Epoch 10/100\n",
            "100/100 [==============================] - 18s 184ms/step - loss: 0.1812 - acc: 0.9275 - val_loss: 0.1252 - val_acc: 0.9510\n",
            "Epoch 11/100\n",
            "100/100 [==============================] - 18s 185ms/step - loss: 0.1594 - acc: 0.9365 - val_loss: 0.1732 - val_acc: 0.9500\n",
            "Epoch 12/100\n",
            "100/100 [==============================] - 18s 185ms/step - loss: 0.1521 - acc: 0.9370 - val_loss: 0.0139 - val_acc: 0.9480\n",
            "Epoch 13/100\n",
            "100/100 [==============================] - 18s 182ms/step - loss: 0.1630 - acc: 0.9330 - val_loss: 0.0212 - val_acc: 0.9450\n",
            "Epoch 14/100\n",
            "100/100 [==============================] - 18s 183ms/step - loss: 0.1491 - acc: 0.9405 - val_loss: 0.0842 - val_acc: 0.9440\n",
            "Epoch 15/100\n",
            "100/100 [==============================] - 18s 184ms/step - loss: 0.1556 - acc: 0.9360 - val_loss: 0.0183 - val_acc: 0.9420\n",
            "Epoch 16/100\n",
            "100/100 [==============================] - 19s 186ms/step - loss: 0.1418 - acc: 0.9455 - val_loss: 0.0397 - val_acc: 0.9550\n",
            "Epoch 17/100\n",
            "100/100 [==============================] - 18s 185ms/step - loss: 0.1441 - acc: 0.9455 - val_loss: 0.1429 - val_acc: 0.9450\n",
            "Epoch 18/100\n",
            "100/100 [==============================] - 18s 184ms/step - loss: 0.1407 - acc: 0.9385 - val_loss: 0.0433 - val_acc: 0.9450\n",
            "Epoch 19/100\n",
            "100/100 [==============================] - 19s 191ms/step - loss: 0.1436 - acc: 0.9410 - val_loss: 0.0526 - val_acc: 0.9410\n",
            "Epoch 20/100\n",
            "100/100 [==============================] - 19s 191ms/step - loss: 0.1532 - acc: 0.9420 - val_loss: 0.0918 - val_acc: 0.9490\n",
            "Epoch 21/100\n",
            "100/100 [==============================] - 19s 189ms/step - loss: 0.1178 - acc: 0.9540 - val_loss: 0.2695 - val_acc: 0.9560\n",
            "Epoch 22/100\n",
            "100/100 [==============================] - 18s 185ms/step - loss: 0.1483 - acc: 0.9490 - val_loss: 0.0244 - val_acc: 0.9510\n",
            "Epoch 23/100\n",
            "100/100 [==============================] - 19s 187ms/step - loss: 0.1285 - acc: 0.9570 - val_loss: 0.0401 - val_acc: 0.9480\n",
            "Epoch 24/100\n",
            "100/100 [==============================] - 19s 187ms/step - loss: 0.1229 - acc: 0.9545 - val_loss: 0.0338 - val_acc: 0.9550\n",
            "Epoch 25/100\n",
            "100/100 [==============================] - 19s 186ms/step - loss: 0.1310 - acc: 0.9500 - val_loss: 0.1030 - val_acc: 0.9560\n",
            "Epoch 26/100\n",
            "100/100 [==============================] - 18s 183ms/step - loss: 0.1271 - acc: 0.9525 - val_loss: 0.0316 - val_acc: 0.9460\n",
            "Epoch 27/100\n",
            "100/100 [==============================] - 18s 184ms/step - loss: 0.1149 - acc: 0.9530 - val_loss: 0.6455 - val_acc: 0.9400\n",
            "Epoch 28/100\n",
            "100/100 [==============================] - 18s 182ms/step - loss: 0.1225 - acc: 0.9535 - val_loss: 0.0036 - val_acc: 0.9560\n",
            "Epoch 29/100\n",
            "100/100 [==============================] - 18s 184ms/step - loss: 0.1386 - acc: 0.9510 - val_loss: 0.0227 - val_acc: 0.9570\n",
            "Epoch 30/100\n",
            "100/100 [==============================] - 18s 183ms/step - loss: 0.1005 - acc: 0.9595 - val_loss: 0.1336 - val_acc: 0.9630\n",
            "Epoch 31/100\n",
            "100/100 [==============================] - 18s 183ms/step - loss: 0.1041 - acc: 0.9585 - val_loss: 8.3099e-04 - val_acc: 0.9600\n",
            "Epoch 32/100\n",
            "100/100 [==============================] - 18s 184ms/step - loss: 0.1109 - acc: 0.9600 - val_loss: 0.1393 - val_acc: 0.9620\n",
            "Epoch 33/100\n",
            "100/100 [==============================] - 18s 183ms/step - loss: 0.1141 - acc: 0.9565 - val_loss: 0.0274 - val_acc: 0.9570\n",
            "Epoch 34/100\n",
            "100/100 [==============================] - 19s 185ms/step - loss: 0.0900 - acc: 0.9685 - val_loss: 0.2444 - val_acc: 0.9470\n",
            "Epoch 35/100\n",
            "100/100 [==============================] - 18s 182ms/step - loss: 0.1130 - acc: 0.9550 - val_loss: 0.1320 - val_acc: 0.9520\n",
            "Epoch 36/100\n",
            "100/100 [==============================] - 18s 182ms/step - loss: 0.0882 - acc: 0.9655 - val_loss: 0.0331 - val_acc: 0.9510\n",
            "Epoch 37/100\n",
            "100/100 [==============================] - 18s 185ms/step - loss: 0.0964 - acc: 0.9635 - val_loss: 0.0308 - val_acc: 0.9550\n",
            "Epoch 38/100\n",
            "100/100 [==============================] - 19s 186ms/step - loss: 0.0889 - acc: 0.9690 - val_loss: 0.0579 - val_acc: 0.9560\n",
            "Epoch 39/100\n",
            "100/100 [==============================] - 18s 183ms/step - loss: 0.0957 - acc: 0.9630 - val_loss: 0.0946 - val_acc: 0.9560\n",
            "Epoch 40/100\n",
            "100/100 [==============================] - 18s 182ms/step - loss: 0.1048 - acc: 0.9620 - val_loss: 0.0994 - val_acc: 0.9600\n",
            "Epoch 41/100\n",
            "100/100 [==============================] - 18s 183ms/step - loss: 0.0918 - acc: 0.9670 - val_loss: 0.2882 - val_acc: 0.9610\n",
            "Epoch 42/100\n",
            "100/100 [==============================] - 18s 182ms/step - loss: 0.0762 - acc: 0.9720 - val_loss: 0.2644 - val_acc: 0.9650\n",
            "Epoch 43/100\n",
            "100/100 [==============================] - 18s 183ms/step - loss: 0.0808 - acc: 0.9700 - val_loss: 0.3194 - val_acc: 0.9570\n",
            "Epoch 44/100\n",
            "100/100 [==============================] - 18s 182ms/step - loss: 0.0863 - acc: 0.9740 - val_loss: 0.0732 - val_acc: 0.9610\n",
            "Epoch 45/100\n",
            "100/100 [==============================] - 18s 182ms/step - loss: 0.0780 - acc: 0.9695 - val_loss: 0.0107 - val_acc: 0.9610\n",
            "Epoch 46/100\n",
            "100/100 [==============================] - 18s 182ms/step - loss: 0.0860 - acc: 0.9655 - val_loss: 0.3903 - val_acc: 0.9660\n",
            "Epoch 47/100\n",
            "100/100 [==============================] - 18s 183ms/step - loss: 0.0808 - acc: 0.9725 - val_loss: 0.0646 - val_acc: 0.9520\n",
            "Epoch 48/100\n",
            "100/100 [==============================] - 18s 182ms/step - loss: 0.0607 - acc: 0.9760 - val_loss: 0.0682 - val_acc: 0.9580\n",
            "Epoch 49/100\n",
            "100/100 [==============================] - 18s 183ms/step - loss: 0.0770 - acc: 0.9690 - val_loss: 0.0138 - val_acc: 0.9640\n",
            "Epoch 50/100\n",
            "100/100 [==============================] - 18s 183ms/step - loss: 0.0671 - acc: 0.9740 - val_loss: 0.0125 - val_acc: 0.9620\n",
            "Epoch 51/100\n",
            "100/100 [==============================] - 18s 182ms/step - loss: 0.0706 - acc: 0.9760 - val_loss: 0.0155 - val_acc: 0.9620\n",
            "Epoch 52/100\n",
            "100/100 [==============================] - 18s 182ms/step - loss: 0.0956 - acc: 0.9685 - val_loss: 0.0133 - val_acc: 0.9650\n",
            "Epoch 53/100\n",
            "100/100 [==============================] - 19s 185ms/step - loss: 0.0672 - acc: 0.9780 - val_loss: 9.4722e-04 - val_acc: 0.9660\n",
            "Epoch 54/100\n",
            "100/100 [==============================] - 19s 186ms/step - loss: 0.0832 - acc: 0.9730 - val_loss: 1.8843e-04 - val_acc: 0.9670\n",
            "Epoch 55/100\n",
            "100/100 [==============================] - 18s 182ms/step - loss: 0.0645 - acc: 0.9725 - val_loss: 0.0096 - val_acc: 0.9600\n",
            "Epoch 56/100\n",
            "100/100 [==============================] - 18s 183ms/step - loss: 0.0880 - acc: 0.9720 - val_loss: 0.0165 - val_acc: 0.9650\n",
            "Epoch 57/100\n",
            "100/100 [==============================] - 18s 182ms/step - loss: 0.0797 - acc: 0.9710 - val_loss: 0.0085 - val_acc: 0.9630\n",
            "Epoch 58/100\n",
            "100/100 [==============================] - 18s 181ms/step - loss: 0.0700 - acc: 0.9765 - val_loss: 0.0336 - val_acc: 0.9620\n",
            "Epoch 59/100\n",
            "100/100 [==============================] - 18s 182ms/step - loss: 0.0611 - acc: 0.9775 - val_loss: 0.0580 - val_acc: 0.9580\n",
            "Epoch 60/100\n",
            "100/100 [==============================] - 18s 182ms/step - loss: 0.0695 - acc: 0.9720 - val_loss: 0.1966 - val_acc: 0.9640\n",
            "Epoch 61/100\n",
            "100/100 [==============================] - 18s 181ms/step - loss: 0.0525 - acc: 0.9815 - val_loss: 0.0047 - val_acc: 0.9620\n",
            "Epoch 62/100\n",
            "100/100 [==============================] - 18s 182ms/step - loss: 0.0651 - acc: 0.9750 - val_loss: 0.2380 - val_acc: 0.9620\n",
            "Epoch 63/100\n",
            "100/100 [==============================] - 18s 181ms/step - loss: 0.0463 - acc: 0.9845 - val_loss: 0.0019 - val_acc: 0.9650\n",
            "Epoch 64/100\n",
            "100/100 [==============================] - 18s 181ms/step - loss: 0.0646 - acc: 0.9770 - val_loss: 0.0798 - val_acc: 0.9650\n",
            "Epoch 65/100\n",
            "100/100 [==============================] - 18s 182ms/step - loss: 0.0710 - acc: 0.9760 - val_loss: 0.0111 - val_acc: 0.9620\n",
            "Epoch 66/100\n",
            "100/100 [==============================] - 18s 182ms/step - loss: 0.0767 - acc: 0.9760 - val_loss: 0.0511 - val_acc: 0.9610\n",
            "Epoch 67/100\n",
            "100/100 [==============================] - 18s 183ms/step - loss: 0.0517 - acc: 0.9790 - val_loss: 0.0047 - val_acc: 0.9600\n",
            "Epoch 68/100\n",
            "100/100 [==============================] - 18s 181ms/step - loss: 0.0736 - acc: 0.9730 - val_loss: 0.2610 - val_acc: 0.9580\n",
            "Epoch 69/100\n",
            "100/100 [==============================] - 18s 182ms/step - loss: 0.0575 - acc: 0.9795 - val_loss: 0.1591 - val_acc: 0.9580\n",
            "Epoch 70/100\n",
            "100/100 [==============================] - 18s 181ms/step - loss: 0.0661 - acc: 0.9805 - val_loss: 7.5230e-04 - val_acc: 0.9640\n",
            "Epoch 71/100\n",
            "100/100 [==============================] - 18s 181ms/step - loss: 0.0474 - acc: 0.9830 - val_loss: 0.0621 - val_acc: 0.9630\n",
            "Epoch 72/100\n",
            "100/100 [==============================] - 18s 181ms/step - loss: 0.0468 - acc: 0.9800 - val_loss: 0.0014 - val_acc: 0.9620\n",
            "Epoch 73/100\n",
            "100/100 [==============================] - 18s 181ms/step - loss: 0.0663 - acc: 0.9800 - val_loss: 0.9704 - val_acc: 0.9630\n",
            "Epoch 74/100\n",
            "100/100 [==============================] - 18s 181ms/step - loss: 0.0537 - acc: 0.9820 - val_loss: 0.1062 - val_acc: 0.9630\n",
            "Epoch 75/100\n",
            "100/100 [==============================] - 18s 181ms/step - loss: 0.0467 - acc: 0.9820 - val_loss: 0.0080 - val_acc: 0.9600\n",
            "Epoch 76/100\n",
            "100/100 [==============================] - 18s 181ms/step - loss: 0.0529 - acc: 0.9805 - val_loss: 0.0461 - val_acc: 0.9630\n",
            "Epoch 77/100\n",
            "100/100 [==============================] - 18s 181ms/step - loss: 0.0366 - acc: 0.9835 - val_loss: 0.1857 - val_acc: 0.9610\n",
            "Epoch 78/100\n",
            "100/100 [==============================] - 18s 183ms/step - loss: 0.0520 - acc: 0.9795 - val_loss: 0.0264 - val_acc: 0.9580\n",
            "Epoch 79/100\n",
            "100/100 [==============================] - 18s 181ms/step - loss: 0.0546 - acc: 0.9785 - val_loss: 0.0978 - val_acc: 0.9630\n",
            "Epoch 80/100\n",
            "100/100 [==============================] - 18s 181ms/step - loss: 0.0531 - acc: 0.9850 - val_loss: 0.1520 - val_acc: 0.9650\n",
            "Epoch 81/100\n",
            "100/100 [==============================] - 18s 181ms/step - loss: 0.0508 - acc: 0.9820 - val_loss: 0.0369 - val_acc: 0.9620\n",
            "Epoch 82/100\n",
            "100/100 [==============================] - 18s 182ms/step - loss: 0.0445 - acc: 0.9845 - val_loss: 0.1199 - val_acc: 0.9630\n",
            "Epoch 83/100\n",
            "100/100 [==============================] - 18s 182ms/step - loss: 0.0457 - acc: 0.9835 - val_loss: 0.0674 - val_acc: 0.9610\n",
            "Epoch 84/100\n",
            "100/100 [==============================] - 18s 182ms/step - loss: 0.0556 - acc: 0.9780 - val_loss: 0.0026 - val_acc: 0.9680\n",
            "Epoch 85/100\n",
            "100/100 [==============================] - 18s 181ms/step - loss: 0.0542 - acc: 0.9790 - val_loss: 0.2516 - val_acc: 0.9640\n",
            "Epoch 86/100\n",
            "100/100 [==============================] - 18s 181ms/step - loss: 0.0337 - acc: 0.9885 - val_loss: 0.0015 - val_acc: 0.9620\n",
            "Epoch 87/100\n",
            "100/100 [==============================] - 18s 182ms/step - loss: 0.0407 - acc: 0.9855 - val_loss: 0.1222 - val_acc: 0.9660\n",
            "Epoch 88/100\n",
            "100/100 [==============================] - 18s 183ms/step - loss: 0.0363 - acc: 0.9865 - val_loss: 0.0365 - val_acc: 0.9620\n",
            "Epoch 89/100\n",
            "100/100 [==============================] - 18s 181ms/step - loss: 0.0586 - acc: 0.9810 - val_loss: 0.2898 - val_acc: 0.9630\n",
            "Epoch 90/100\n",
            "100/100 [==============================] - 18s 181ms/step - loss: 0.0585 - acc: 0.9810 - val_loss: 0.0409 - val_acc: 0.9640\n",
            "Epoch 91/100\n",
            "100/100 [==============================] - 18s 182ms/step - loss: 0.0576 - acc: 0.9800 - val_loss: 7.4567e-05 - val_acc: 0.9630\n",
            "Epoch 92/100\n",
            "100/100 [==============================] - 18s 182ms/step - loss: 0.0404 - acc: 0.9845 - val_loss: 0.0046 - val_acc: 0.9620\n",
            "Epoch 93/100\n",
            "100/100 [==============================] - 18s 182ms/step - loss: 0.0568 - acc: 0.9805 - val_loss: 0.2624 - val_acc: 0.9630\n",
            "Epoch 94/100\n",
            "100/100 [==============================] - 18s 181ms/step - loss: 0.0421 - acc: 0.9865 - val_loss: 0.3405 - val_acc: 0.9640\n",
            "Epoch 95/100\n",
            "100/100 [==============================] - 18s 182ms/step - loss: 0.0449 - acc: 0.9835 - val_loss: 0.4870 - val_acc: 0.9650\n",
            "Epoch 96/100\n",
            "100/100 [==============================] - 18s 182ms/step - loss: 0.0557 - acc: 0.9800 - val_loss: 0.0144 - val_acc: 0.9610\n",
            "Epoch 97/100\n",
            "100/100 [==============================] - 18s 182ms/step - loss: 0.0397 - acc: 0.9845 - val_loss: 0.0089 - val_acc: 0.9650\n",
            "Epoch 98/100\n",
            "100/100 [==============================] - 18s 181ms/step - loss: 0.0380 - acc: 0.9865 - val_loss: 0.5450 - val_acc: 0.9660\n",
            "Epoch 99/100\n",
            "100/100 [==============================] - 18s 180ms/step - loss: 0.0511 - acc: 0.9820 - val_loss: 8.9754e-05 - val_acc: 0.9660\n",
            "Epoch 100/100\n",
            "100/100 [==============================] - 18s 182ms/step - loss: 0.0469 - acc: 0.9845 - val_loss: 0.5147 - val_acc: 0.9670\n"
          ],
          "name": "stdout"
        }
      ]
    },
    {
      "cell_type": "markdown",
      "metadata": {
        "id": "eVBQgh5M-Rtz",
        "colab_type": "text"
      },
      "source": [
        "## Display learning curves during fine-tuning"
      ]
    },
    {
      "cell_type": "code",
      "metadata": {
        "id": "mbkIw7Ie-NP4",
        "colab_type": "code",
        "outputId": "842a0c82-c9ea-402d-e4f8-6083d2b78fd8",
        "colab": {
          "base_uri": "https://localhost:8080/",
          "height": 545
        }
      },
      "source": [
        "%matplotlib inline\n",
        "\n",
        "import matplotlib.pyplot as plt\n",
        "\n",
        "acc = history.history['acc']\n",
        "val_acc = history.history['val_acc']\n",
        "\n",
        "loss = history.history['loss']\n",
        "val_loss = history.history['val_loss']\n",
        "\n",
        "epochs = range(1, len(acc) + 1)\n",
        "\n",
        "# training and validation accuracy\n",
        "\n",
        "plt.plot(epochs, acc, 'bo', label='training acc')\n",
        "plt.plot(epochs, val_acc, 'b', label='validation acc')\n",
        "plt.title('training and validation accuracy')\n",
        "plt.legend()\n",
        "\n",
        "plt.figure()\n",
        "\n",
        "# training and validation loss\n",
        "\n",
        "plt.plot(epochs, loss, 'bo', label='training loss')\n",
        "plt.plot(epochs, val_loss, 'b', label='validation loss')\n",
        "plt.title('training and validation loss')\n",
        "plt.legend()\n",
        "\n",
        "plt.show()"
      ],
      "execution_count": 0,
      "outputs": [
        {
          "output_type": "display_data",
          "data": {
            "image/png": "[encoded data removed]",
            "text/plain": [
              "<Figure size 432x288 with 1 Axes>"
            ]
          },
          "metadata": {
            "tags": [],
            "needs_background": "light"
          }
        },
        {
          "output_type": "display_data",
          "data": {
            "image/png": "[encoded data removed]",
            "text/plain": [
              "<Figure size 432x288 with 1 Axes>"
            ]
          },
          "metadata": {
            "tags": [],
            "needs_background": "light"
          }
        }
      ]
    },
    {
      "cell_type": "markdown",
      "metadata": {
        "id": "he3Nw6TOJwjx",
        "colab_type": "text"
      },
      "source": [
        "## Print out validation loss and accuracy"
      ]
    },
    {
      "cell_type": "code",
      "metadata": {
        "id": "SVQtrk7uJdhl",
        "colab_type": "code",
        "colab": {}
      },
      "source": [
        "val_loss, val_acc = model.evaluate_generator(validation_generator, steps=50)"
      ],
      "execution_count": 0,
      "outputs": []
    },
    {
      "cell_type": "code",
      "metadata": {
        "id": "HpdddLi1SUMe",
        "colab_type": "code",
        "outputId": "547314d2-3362-4454-e29f-a3a946f19bcb",
        "colab": {
          "base_uri": "https://localhost:8080/",
          "height": 50
        }
      },
      "source": [
        "print(\"Validation loss:\", val_loss)\n",
        "print(\"Validation accuracy:\", val_acc)"
      ],
      "execution_count": 0,
      "outputs": [
        {
          "output_type": "stream",
          "text": [
            "Validation loss: 0.514712393283844\n",
            "Validation accuracy: 0.9670000076293945\n"
          ],
          "name": "stdout"
        }
      ]
    },
    {
      "cell_type": "markdown",
      "metadata": {
        "id": "AO2Wb2a6FNvB",
        "colab_type": "text"
      },
      "source": [
        "#Resources:"
      ]
    },
    {
      "cell_type": "markdown",
      "metadata": {
        "id": "C-GqarmxFRo6",
        "colab_type": "text"
      },
      "source": [
        "Deep learning for computer vision (Chapter 5)\n",
        "\n",
        "https://keras.io/applications/\n",
        "\n",
        "https://colab.research.google.com/drive/1F-RWvoxH8MmT7c1UmNy41iuOp-ejiLoF"
      ]
    }
  ]
}