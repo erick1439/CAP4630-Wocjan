{
  "nbformat": 4,
  "nbformat_minor": 0,
  "metadata": {
    "colab": {
      "name": "Problem_3_Part_2.ipynb",
      "provenance": [],
      "collapsed_sections": [],
      "include_colab_link": true
    },
    "kernelspec": {
      "name": "python3",
      "display_name": "Python 3"
    },
    "accelerator": "GPU"
  },
  "cells": [
    {
      "cell_type": "markdown",
      "metadata": {
        "id": "view-in-github",
        "colab_type": "text"
      },
      "source": [
        "<a href=\"https://colab.research.google.com/github/erick1439/CAP4630-Wocjan/blob/master/HW_4/Problem_3_Part_2.ipynb\" target=\"_parent\"><img src=\"https://colab.research.google.com/assets/colab-badge.svg\" alt=\"Open In Colab\"/></a>"
      ]
    },
    {
      "cell_type": "markdown",
      "metadata": {
        "id": "KSrgMJ5vKFzQ",
        "colab_type": "text"
      },
      "source": [
        "# Fine-tuning: Xception"
      ]
    },
    {
      "cell_type": "markdown",
      "metadata": {
        "id": "zawjJ5tjHRAf",
        "colab_type": "text"
      },
      "source": [
        "This is part 2 of problem 3. In this notebook I am using the same notebook as part 1 but exchanging the clasifiers."
      ]
    },
    {
      "cell_type": "markdown",
      "metadata": {
        "id": "BqIG8QHMLNOn",
        "colab_type": "text"
      },
      "source": [
        "## Download the data"
      ]
    },
    {
      "cell_type": "markdown",
      "metadata": {
        "id": "t3I1jd7cKV6_",
        "colab_type": "text"
      },
      "source": [
        "Download the example data, a zip. of 2,000 JPG pictures of cats and dogs and extract it locally in ```/tmp```.\n",
        "\n"
      ]
    },
    {
      "cell_type": "code",
      "metadata": {
        "id": "JWjprHEXJ5Qi",
        "colab_type": "code",
        "outputId": "edcb1d7a-a954-4bf1-85d9-92a23e848c01",
        "colab": {
          "base_uri": "https://localhost:8080/",
          "height": 222
        }
      },
      "source": [
        "!wget --no-check-certificate \\\n",
        "    https://storage.googleapis.com/mledu-datasets/cats_and_dogs_filtered.zip \\\n",
        "    -O /tmp/cats_and_dogs_filtered.zip"
      ],
      "execution_count": 0,
      "outputs": [
        {
          "output_type": "stream",
          "text": [
            "--2020-04-22 02:25:26--  https://storage.googleapis.com/mledu-datasets/cats_and_dogs_filtered.zip\n",
            "Resolving storage.googleapis.com (storage.googleapis.com)... 173.194.79.128, 2a00:1450:4013:c04::80\n",
            "Connecting to storage.googleapis.com (storage.googleapis.com)|173.194.79.128|:443... connected.\n",
            "HTTP request sent, awaiting response... 200 OK\n",
            "Length: 68606236 (65M) [application/zip]\n",
            "Saving to: ‘/tmp/cats_and_dogs_filtered.zip’\n",
            "\n",
            "/tmp/cats_and_dogs_ 100%[===================>]  65.43M  67.6MB/s    in 1.0s    \n",
            "\n",
            "2020-04-22 02:25:28 (67.6 MB/s) - ‘/tmp/cats_and_dogs_filtered.zip’ saved [68606236/68606236]\n",
            "\n"
          ],
          "name": "stdout"
        }
      ]
    },
    {
      "cell_type": "code",
      "metadata": {
        "id": "WvoHtdA-K6Rw",
        "colab_type": "code",
        "colab": {}
      },
      "source": [
        "import os\n",
        "import zipfile\n",
        "\n",
        "local_zip = '/tmp/cats_and_dogs_filtered.zip'\n",
        "zip_ref = zipfile.ZipFile(local_zip, 'r')\n",
        "zip_ref.extractall('/tmp')\n",
        "zip_ref.close()"
      ],
      "execution_count": 0,
      "outputs": []
    },
    {
      "cell_type": "markdown",
      "metadata": {
        "id": "shZiOBnJMyy_",
        "colab_type": "text"
      },
      "source": [
        "Note that the data provided by Google does not have a test set."
      ]
    },
    {
      "cell_type": "code",
      "metadata": {
        "id": "dL8ikM89LlsH",
        "colab_type": "code",
        "colab": {}
      },
      "source": [
        "base_dir = '/tmp/cats_and_dogs_filtered'\n",
        "train_dir = os.path.join(base_dir, 'train')\n",
        "validation_dir = os.path.join(base_dir, 'validation')\n",
        "\n",
        "# Directory with our training cat pictures\n",
        "train_cats_dir = os.path.join(train_dir, 'cats')\n",
        "\n",
        "# Directory with our training dog pictures\n",
        "train_dogs_dir = os.path.join(train_dir, 'dogs')\n",
        "\n",
        "# Directory with our validation cat pictures\n",
        "validation_cats_dir = os.path.join(validation_dir, 'cats')\n",
        "\n",
        "# Directory with our validation dog pictures\n",
        "validation_dogs_dir = os.path.join(validation_dir, 'dogs')"
      ],
      "execution_count": 0,
      "outputs": []
    },
    {
      "cell_type": "markdown",
      "metadata": {
        "id": "inyP8bcdXnn-",
        "colab_type": "text"
      },
      "source": [
        "## Build network with Xception convolution base and custom densely connected layers"
      ]
    },
    {
      "cell_type": "markdown",
      "metadata": {
        "id": "kQ48W5T9rHWu",
        "colab_type": "text"
      },
      "source": [
        "### Load the convolutional base"
      ]
    },
    {
      "cell_type": "code",
      "metadata": {
        "id": "Y0FgtANCXm_H",
        "colab_type": "code",
        "outputId": "68f0b1f0-8a6a-4c52-810b-bb09f3a17060",
        "colab": {
          "base_uri": "https://localhost:8080/",
          "height": 1000
        }
      },
      "source": [
        "from keras.applications import Xception\n",
        "\n",
        "conv_base = Xception(\n",
        "    weights='imagenet', \n",
        "    include_top=False, \n",
        "    input_shape=(150, 150, 3))\n",
        "\n",
        "conv_base.summary()"
      ],
      "execution_count": 0,
      "outputs": [
        {
          "output_type": "stream",
          "text": [
            "Using TensorFlow backend.\n"
          ],
          "name": "stderr"
        },
        {
          "output_type": "stream",
          "text": [
            "Model: \"xception\"\n",
            "__________________________________________________________________________________________________\n",
            "Layer (type)                    Output Shape         Param #     Connected to                     \n",
            "==================================================================================================\n",
            "input_1 (InputLayer)            (None, 150, 150, 3)  0                                            \n",
            "__________________________________________________________________________________________________\n",
            "block1_conv1 (Conv2D)           (None, 74, 74, 32)   864         input_1[0][0]                    \n",
            "__________________________________________________________________________________________________\n",
            "block1_conv1_bn (BatchNormaliza (None, 74, 74, 32)   128         block1_conv1[0][0]               \n",
            "__________________________________________________________________________________________________\n",
            "block1_conv1_act (Activation)   (None, 74, 74, 32)   0           block1_conv1_bn[0][0]            \n",
            "__________________________________________________________________________________________________\n",
            "block1_conv2 (Conv2D)           (None, 72, 72, 64)   18432       block1_conv1_act[0][0]           \n",
            "__________________________________________________________________________________________________\n",
            "block1_conv2_bn (BatchNormaliza (None, 72, 72, 64)   256         block1_conv2[0][0]               \n",
            "__________________________________________________________________________________________________\n",
            "block1_conv2_act (Activation)   (None, 72, 72, 64)   0           block1_conv2_bn[0][0]            \n",
            "__________________________________________________________________________________________________\n",
            "block2_sepconv1 (SeparableConv2 (None, 72, 72, 128)  8768        block1_conv2_act[0][0]           \n",
            "__________________________________________________________________________________________________\n",
            "block2_sepconv1_bn (BatchNormal (None, 72, 72, 128)  512         block2_sepconv1[0][0]            \n",
            "__________________________________________________________________________________________________\n",
            "block2_sepconv2_act (Activation (None, 72, 72, 128)  0           block2_sepconv1_bn[0][0]         \n",
            "__________________________________________________________________________________________________\n",
            "block2_sepconv2 (SeparableConv2 (None, 72, 72, 128)  17536       block2_sepconv2_act[0][0]        \n",
            "__________________________________________________________________________________________________\n",
            "block2_sepconv2_bn (BatchNormal (None, 72, 72, 128)  512         block2_sepconv2[0][0]            \n",
            "__________________________________________________________________________________________________\n",
            "conv2d_1 (Conv2D)               (None, 36, 36, 128)  8192        block1_conv2_act[0][0]           \n",
            "__________________________________________________________________________________________________\n",
            "block2_pool (MaxPooling2D)      (None, 36, 36, 128)  0           block2_sepconv2_bn[0][0]         \n",
            "__________________________________________________________________________________________________\n",
            "batch_normalization_1 (BatchNor (None, 36, 36, 128)  512         conv2d_1[0][0]                   \n",
            "__________________________________________________________________________________________________\n",
            "add_1 (Add)                     (None, 36, 36, 128)  0           block2_pool[0][0]                \n",
            "                                                                 batch_normalization_1[0][0]      \n",
            "__________________________________________________________________________________________________\n",
            "block3_sepconv1_act (Activation (None, 36, 36, 128)  0           add_1[0][0]                      \n",
            "__________________________________________________________________________________________________\n",
            "block3_sepconv1 (SeparableConv2 (None, 36, 36, 256)  33920       block3_sepconv1_act[0][0]        \n",
            "__________________________________________________________________________________________________\n",
            "block3_sepconv1_bn (BatchNormal (None, 36, 36, 256)  1024        block3_sepconv1[0][0]            \n",
            "__________________________________________________________________________________________________\n",
            "block3_sepconv2_act (Activation (None, 36, 36, 256)  0           block3_sepconv1_bn[0][0]         \n",
            "__________________________________________________________________________________________________\n",
            "block3_sepconv2 (SeparableConv2 (None, 36, 36, 256)  67840       block3_sepconv2_act[0][0]        \n",
            "__________________________________________________________________________________________________\n",
            "block3_sepconv2_bn (BatchNormal (None, 36, 36, 256)  1024        block3_sepconv2[0][0]            \n",
            "__________________________________________________________________________________________________\n",
            "conv2d_2 (Conv2D)               (None, 18, 18, 256)  32768       add_1[0][0]                      \n",
            "__________________________________________________________________________________________________\n",
            "block3_pool (MaxPooling2D)      (None, 18, 18, 256)  0           block3_sepconv2_bn[0][0]         \n",
            "__________________________________________________________________________________________________\n",
            "batch_normalization_2 (BatchNor (None, 18, 18, 256)  1024        conv2d_2[0][0]                   \n",
            "__________________________________________________________________________________________________\n",
            "add_2 (Add)                     (None, 18, 18, 256)  0           block3_pool[0][0]                \n",
            "                                                                 batch_normalization_2[0][0]      \n",
            "__________________________________________________________________________________________________\n",
            "block4_sepconv1_act (Activation (None, 18, 18, 256)  0           add_2[0][0]                      \n",
            "__________________________________________________________________________________________________\n",
            "block4_sepconv1 (SeparableConv2 (None, 18, 18, 728)  188672      block4_sepconv1_act[0][0]        \n",
            "__________________________________________________________________________________________________\n",
            "block4_sepconv1_bn (BatchNormal (None, 18, 18, 728)  2912        block4_sepconv1[0][0]            \n",
            "__________________________________________________________________________________________________\n",
            "block4_sepconv2_act (Activation (None, 18, 18, 728)  0           block4_sepconv1_bn[0][0]         \n",
            "__________________________________________________________________________________________________\n",
            "block4_sepconv2 (SeparableConv2 (None, 18, 18, 728)  536536      block4_sepconv2_act[0][0]        \n",
            "__________________________________________________________________________________________________\n",
            "block4_sepconv2_bn (BatchNormal (None, 18, 18, 728)  2912        block4_sepconv2[0][0]            \n",
            "__________________________________________________________________________________________________\n",
            "conv2d_3 (Conv2D)               (None, 9, 9, 728)    186368      add_2[0][0]                      \n",
            "__________________________________________________________________________________________________\n",
            "block4_pool (MaxPooling2D)      (None, 9, 9, 728)    0           block4_sepconv2_bn[0][0]         \n",
            "__________________________________________________________________________________________________\n",
            "batch_normalization_3 (BatchNor (None, 9, 9, 728)    2912        conv2d_3[0][0]                   \n",
            "__________________________________________________________________________________________________\n",
            "add_3 (Add)                     (None, 9, 9, 728)    0           block4_pool[0][0]                \n",
            "                                                                 batch_normalization_3[0][0]      \n",
            "__________________________________________________________________________________________________\n",
            "block5_sepconv1_act (Activation (None, 9, 9, 728)    0           add_3[0][0]                      \n",
            "__________________________________________________________________________________________________\n",
            "block5_sepconv1 (SeparableConv2 (None, 9, 9, 728)    536536      block5_sepconv1_act[0][0]        \n",
            "__________________________________________________________________________________________________\n",
            "block5_sepconv1_bn (BatchNormal (None, 9, 9, 728)    2912        block5_sepconv1[0][0]            \n",
            "__________________________________________________________________________________________________\n",
            "block5_sepconv2_act (Activation (None, 9, 9, 728)    0           block5_sepconv1_bn[0][0]         \n",
            "__________________________________________________________________________________________________\n",
            "block5_sepconv2 (SeparableConv2 (None, 9, 9, 728)    536536      block5_sepconv2_act[0][0]        \n",
            "__________________________________________________________________________________________________\n",
            "block5_sepconv2_bn (BatchNormal (None, 9, 9, 728)    2912        block5_sepconv2[0][0]            \n",
            "__________________________________________________________________________________________________\n",
            "block5_sepconv3_act (Activation (None, 9, 9, 728)    0           block5_sepconv2_bn[0][0]         \n",
            "__________________________________________________________________________________________________\n",
            "block5_sepconv3 (SeparableConv2 (None, 9, 9, 728)    536536      block5_sepconv3_act[0][0]        \n",
            "__________________________________________________________________________________________________\n",
            "block5_sepconv3_bn (BatchNormal (None, 9, 9, 728)    2912        block5_sepconv3[0][0]            \n",
            "__________________________________________________________________________________________________\n",
            "add_4 (Add)                     (None, 9, 9, 728)    0           block5_sepconv3_bn[0][0]         \n",
            "                                                                 add_3[0][0]                      \n",
            "__________________________________________________________________________________________________\n",
            "block6_sepconv1_act (Activation (None, 9, 9, 728)    0           add_4[0][0]                      \n",
            "__________________________________________________________________________________________________\n",
            "block6_sepconv1 (SeparableConv2 (None, 9, 9, 728)    536536      block6_sepconv1_act[0][0]        \n",
            "__________________________________________________________________________________________________\n",
            "block6_sepconv1_bn (BatchNormal (None, 9, 9, 728)    2912        block6_sepconv1[0][0]            \n",
            "__________________________________________________________________________________________________\n",
            "block6_sepconv2_act (Activation (None, 9, 9, 728)    0           block6_sepconv1_bn[0][0]         \n",
            "__________________________________________________________________________________________________\n",
            "block6_sepconv2 (SeparableConv2 (None, 9, 9, 728)    536536      block6_sepconv2_act[0][0]        \n",
            "__________________________________________________________________________________________________\n",
            "block6_sepconv2_bn (BatchNormal (None, 9, 9, 728)    2912        block6_sepconv2[0][0]            \n",
            "__________________________________________________________________________________________________\n",
            "block6_sepconv3_act (Activation (None, 9, 9, 728)    0           block6_sepconv2_bn[0][0]         \n",
            "__________________________________________________________________________________________________\n",
            "block6_sepconv3 (SeparableConv2 (None, 9, 9, 728)    536536      block6_sepconv3_act[0][0]        \n",
            "__________________________________________________________________________________________________\n",
            "block6_sepconv3_bn (BatchNormal (None, 9, 9, 728)    2912        block6_sepconv3[0][0]            \n",
            "__________________________________________________________________________________________________\n",
            "add_5 (Add)                     (None, 9, 9, 728)    0           block6_sepconv3_bn[0][0]         \n",
            "                                                                 add_4[0][0]                      \n",
            "__________________________________________________________________________________________________\n",
            "block7_sepconv1_act (Activation (None, 9, 9, 728)    0           add_5[0][0]                      \n",
            "__________________________________________________________________________________________________\n",
            "block7_sepconv1 (SeparableConv2 (None, 9, 9, 728)    536536      block7_sepconv1_act[0][0]        \n",
            "__________________________________________________________________________________________________\n",
            "block7_sepconv1_bn (BatchNormal (None, 9, 9, 728)    2912        block7_sepconv1[0][0]            \n",
            "__________________________________________________________________________________________________\n",
            "block7_sepconv2_act (Activation (None, 9, 9, 728)    0           block7_sepconv1_bn[0][0]         \n",
            "__________________________________________________________________________________________________\n",
            "block7_sepconv2 (SeparableConv2 (None, 9, 9, 728)    536536      block7_sepconv2_act[0][0]        \n",
            "__________________________________________________________________________________________________\n",
            "block7_sepconv2_bn (BatchNormal (None, 9, 9, 728)    2912        block7_sepconv2[0][0]            \n",
            "__________________________________________________________________________________________________\n",
            "block7_sepconv3_act (Activation (None, 9, 9, 728)    0           block7_sepconv2_bn[0][0]         \n",
            "__________________________________________________________________________________________________\n",
            "block7_sepconv3 (SeparableConv2 (None, 9, 9, 728)    536536      block7_sepconv3_act[0][0]        \n",
            "__________________________________________________________________________________________________\n",
            "block7_sepconv3_bn (BatchNormal (None, 9, 9, 728)    2912        block7_sepconv3[0][0]            \n",
            "__________________________________________________________________________________________________\n",
            "add_6 (Add)                     (None, 9, 9, 728)    0           block7_sepconv3_bn[0][0]         \n",
            "                                                                 add_5[0][0]                      \n",
            "__________________________________________________________________________________________________\n",
            "block8_sepconv1_act (Activation (None, 9, 9, 728)    0           add_6[0][0]                      \n",
            "__________________________________________________________________________________________________\n",
            "block8_sepconv1 (SeparableConv2 (None, 9, 9, 728)    536536      block8_sepconv1_act[0][0]        \n",
            "__________________________________________________________________________________________________\n",
            "block8_sepconv1_bn (BatchNormal (None, 9, 9, 728)    2912        block8_sepconv1[0][0]            \n",
            "__________________________________________________________________________________________________\n",
            "block8_sepconv2_act (Activation (None, 9, 9, 728)    0           block8_sepconv1_bn[0][0]         \n",
            "__________________________________________________________________________________________________\n",
            "block8_sepconv2 (SeparableConv2 (None, 9, 9, 728)    536536      block8_sepconv2_act[0][0]        \n",
            "__________________________________________________________________________________________________\n",
            "block8_sepconv2_bn (BatchNormal (None, 9, 9, 728)    2912        block8_sepconv2[0][0]            \n",
            "__________________________________________________________________________________________________\n",
            "block8_sepconv3_act (Activation (None, 9, 9, 728)    0           block8_sepconv2_bn[0][0]         \n",
            "__________________________________________________________________________________________________\n",
            "block8_sepconv3 (SeparableConv2 (None, 9, 9, 728)    536536      block8_sepconv3_act[0][0]        \n",
            "__________________________________________________________________________________________________\n",
            "block8_sepconv3_bn (BatchNormal (None, 9, 9, 728)    2912        block8_sepconv3[0][0]            \n",
            "__________________________________________________________________________________________________\n",
            "add_7 (Add)                     (None, 9, 9, 728)    0           block8_sepconv3_bn[0][0]         \n",
            "                                                                 add_6[0][0]                      \n",
            "__________________________________________________________________________________________________\n",
            "block9_sepconv1_act (Activation (None, 9, 9, 728)    0           add_7[0][0]                      \n",
            "__________________________________________________________________________________________________\n",
            "block9_sepconv1 (SeparableConv2 (None, 9, 9, 728)    536536      block9_sepconv1_act[0][0]        \n",
            "__________________________________________________________________________________________________\n",
            "block9_sepconv1_bn (BatchNormal (None, 9, 9, 728)    2912        block9_sepconv1[0][0]            \n",
            "__________________________________________________________________________________________________\n",
            "block9_sepconv2_act (Activation (None, 9, 9, 728)    0           block9_sepconv1_bn[0][0]         \n",
            "__________________________________________________________________________________________________\n",
            "block9_sepconv2 (SeparableConv2 (None, 9, 9, 728)    536536      block9_sepconv2_act[0][0]        \n",
            "__________________________________________________________________________________________________\n",
            "block9_sepconv2_bn (BatchNormal (None, 9, 9, 728)    2912        block9_sepconv2[0][0]            \n",
            "__________________________________________________________________________________________________\n",
            "block9_sepconv3_act (Activation (None, 9, 9, 728)    0           block9_sepconv2_bn[0][0]         \n",
            "__________________________________________________________________________________________________\n",
            "block9_sepconv3 (SeparableConv2 (None, 9, 9, 728)    536536      block9_sepconv3_act[0][0]        \n",
            "__________________________________________________________________________________________________\n",
            "block9_sepconv3_bn (BatchNormal (None, 9, 9, 728)    2912        block9_sepconv3[0][0]            \n",
            "__________________________________________________________________________________________________\n",
            "add_8 (Add)                     (None, 9, 9, 728)    0           block9_sepconv3_bn[0][0]         \n",
            "                                                                 add_7[0][0]                      \n",
            "__________________________________________________________________________________________________\n",
            "block10_sepconv1_act (Activatio (None, 9, 9, 728)    0           add_8[0][0]                      \n",
            "__________________________________________________________________________________________________\n",
            "block10_sepconv1 (SeparableConv (None, 9, 9, 728)    536536      block10_sepconv1_act[0][0]       \n",
            "__________________________________________________________________________________________________\n",
            "block10_sepconv1_bn (BatchNorma (None, 9, 9, 728)    2912        block10_sepconv1[0][0]           \n",
            "__________________________________________________________________________________________________\n",
            "block10_sepconv2_act (Activatio (None, 9, 9, 728)    0           block10_sepconv1_bn[0][0]        \n",
            "__________________________________________________________________________________________________\n",
            "block10_sepconv2 (SeparableConv (None, 9, 9, 728)    536536      block10_sepconv2_act[0][0]       \n",
            "__________________________________________________________________________________________________\n",
            "block10_sepconv2_bn (BatchNorma (None, 9, 9, 728)    2912        block10_sepconv2[0][0]           \n",
            "__________________________________________________________________________________________________\n",
            "block10_sepconv3_act (Activatio (None, 9, 9, 728)    0           block10_sepconv2_bn[0][0]        \n",
            "__________________________________________________________________________________________________\n",
            "block10_sepconv3 (SeparableConv (None, 9, 9, 728)    536536      block10_sepconv3_act[0][0]       \n",
            "__________________________________________________________________________________________________\n",
            "block10_sepconv3_bn (BatchNorma (None, 9, 9, 728)    2912        block10_sepconv3[0][0]           \n",
            "__________________________________________________________________________________________________\n",
            "add_9 (Add)                     (None, 9, 9, 728)    0           block10_sepconv3_bn[0][0]        \n",
            "                                                                 add_8[0][0]                      \n",
            "__________________________________________________________________________________________________\n",
            "block11_sepconv1_act (Activatio (None, 9, 9, 728)    0           add_9[0][0]                      \n",
            "__________________________________________________________________________________________________\n",
            "block11_sepconv1 (SeparableConv (None, 9, 9, 728)    536536      block11_sepconv1_act[0][0]       \n",
            "__________________________________________________________________________________________________\n",
            "block11_sepconv1_bn (BatchNorma (None, 9, 9, 728)    2912        block11_sepconv1[0][0]           \n",
            "__________________________________________________________________________________________________\n",
            "block11_sepconv2_act (Activatio (None, 9, 9, 728)    0           block11_sepconv1_bn[0][0]        \n",
            "__________________________________________________________________________________________________\n",
            "block11_sepconv2 (SeparableConv (None, 9, 9, 728)    536536      block11_sepconv2_act[0][0]       \n",
            "__________________________________________________________________________________________________\n",
            "block11_sepconv2_bn (BatchNorma (None, 9, 9, 728)    2912        block11_sepconv2[0][0]           \n",
            "__________________________________________________________________________________________________\n",
            "block11_sepconv3_act (Activatio (None, 9, 9, 728)    0           block11_sepconv2_bn[0][0]        \n",
            "__________________________________________________________________________________________________\n",
            "block11_sepconv3 (SeparableConv (None, 9, 9, 728)    536536      block11_sepconv3_act[0][0]       \n",
            "__________________________________________________________________________________________________\n",
            "block11_sepconv3_bn (BatchNorma (None, 9, 9, 728)    2912        block11_sepconv3[0][0]           \n",
            "__________________________________________________________________________________________________\n",
            "add_10 (Add)                    (None, 9, 9, 728)    0           block11_sepconv3_bn[0][0]        \n",
            "                                                                 add_9[0][0]                      \n",
            "__________________________________________________________________________________________________\n",
            "block12_sepconv1_act (Activatio (None, 9, 9, 728)    0           add_10[0][0]                     \n",
            "__________________________________________________________________________________________________\n",
            "block12_sepconv1 (SeparableConv (None, 9, 9, 728)    536536      block12_sepconv1_act[0][0]       \n",
            "__________________________________________________________________________________________________\n",
            "block12_sepconv1_bn (BatchNorma (None, 9, 9, 728)    2912        block12_sepconv1[0][0]           \n",
            "__________________________________________________________________________________________________\n",
            "block12_sepconv2_act (Activatio (None, 9, 9, 728)    0           block12_sepconv1_bn[0][0]        \n",
            "__________________________________________________________________________________________________\n",
            "block12_sepconv2 (SeparableConv (None, 9, 9, 728)    536536      block12_sepconv2_act[0][0]       \n",
            "__________________________________________________________________________________________________\n",
            "block12_sepconv2_bn (BatchNorma (None, 9, 9, 728)    2912        block12_sepconv2[0][0]           \n",
            "__________________________________________________________________________________________________\n",
            "block12_sepconv3_act (Activatio (None, 9, 9, 728)    0           block12_sepconv2_bn[0][0]        \n",
            "__________________________________________________________________________________________________\n",
            "block12_sepconv3 (SeparableConv (None, 9, 9, 728)    536536      block12_sepconv3_act[0][0]       \n",
            "__________________________________________________________________________________________________\n",
            "block12_sepconv3_bn (BatchNorma (None, 9, 9, 728)    2912        block12_sepconv3[0][0]           \n",
            "__________________________________________________________________________________________________\n",
            "add_11 (Add)                    (None, 9, 9, 728)    0           block12_sepconv3_bn[0][0]        \n",
            "                                                                 add_10[0][0]                     \n",
            "__________________________________________________________________________________________________\n",
            "block13_sepconv1_act (Activatio (None, 9, 9, 728)    0           add_11[0][0]                     \n",
            "__________________________________________________________________________________________________\n",
            "block13_sepconv1 (SeparableConv (None, 9, 9, 728)    536536      block13_sepconv1_act[0][0]       \n",
            "__________________________________________________________________________________________________\n",
            "block13_sepconv1_bn (BatchNorma (None, 9, 9, 728)    2912        block13_sepconv1[0][0]           \n",
            "__________________________________________________________________________________________________\n",
            "block13_sepconv2_act (Activatio (None, 9, 9, 728)    0           block13_sepconv1_bn[0][0]        \n",
            "__________________________________________________________________________________________________\n",
            "block13_sepconv2 (SeparableConv (None, 9, 9, 1024)   752024      block13_sepconv2_act[0][0]       \n",
            "__________________________________________________________________________________________________\n",
            "block13_sepconv2_bn (BatchNorma (None, 9, 9, 1024)   4096        block13_sepconv2[0][0]           \n",
            "__________________________________________________________________________________________________\n",
            "conv2d_4 (Conv2D)               (None, 5, 5, 1024)   745472      add_11[0][0]                     \n",
            "__________________________________________________________________________________________________\n",
            "block13_pool (MaxPooling2D)     (None, 5, 5, 1024)   0           block13_sepconv2_bn[0][0]        \n",
            "__________________________________________________________________________________________________\n",
            "batch_normalization_4 (BatchNor (None, 5, 5, 1024)   4096        conv2d_4[0][0]                   \n",
            "__________________________________________________________________________________________________\n",
            "add_12 (Add)                    (None, 5, 5, 1024)   0           block13_pool[0][0]               \n",
            "                                                                 batch_normalization_4[0][0]      \n",
            "__________________________________________________________________________________________________\n",
            "block14_sepconv1 (SeparableConv (None, 5, 5, 1536)   1582080     add_12[0][0]                     \n",
            "__________________________________________________________________________________________________\n",
            "block14_sepconv1_bn (BatchNorma (None, 5, 5, 1536)   6144        block14_sepconv1[0][0]           \n",
            "__________________________________________________________________________________________________\n",
            "block14_sepconv1_act (Activatio (None, 5, 5, 1536)   0           block14_sepconv1_bn[0][0]        \n",
            "__________________________________________________________________________________________________\n",
            "block14_sepconv2 (SeparableConv (None, 5, 5, 2048)   3159552     block14_sepconv1_act[0][0]       \n",
            "__________________________________________________________________________________________________\n",
            "block14_sepconv2_bn (BatchNorma (None, 5, 5, 2048)   8192        block14_sepconv2[0][0]           \n",
            "__________________________________________________________________________________________________\n",
            "block14_sepconv2_act (Activatio (None, 5, 5, 2048)   0           block14_sepconv2_bn[0][0]        \n",
            "==================================================================================================\n",
            "Total params: 20,861,480\n",
            "Trainable params: 20,806,952\n",
            "Non-trainable params: 54,528\n",
            "__________________________________________________________________________________________________\n"
          ],
          "name": "stdout"
        }
      ]
    },
    {
      "cell_type": "markdown",
      "metadata": {
        "id": "D6OBHOO9q1ou",
        "colab_type": "text"
      },
      "source": [
        "### Freeze the convolutional base"
      ]
    },
    {
      "cell_type": "code",
      "metadata": {
        "id": "UleRo4Dpq6Ld",
        "colab_type": "code",
        "colab": {}
      },
      "source": [
        "conv_base.trainable = False"
      ],
      "execution_count": 0,
      "outputs": []
    },
    {
      "cell_type": "markdown",
      "metadata": {
        "id": "Qfx6PqhPrb7Q",
        "colab_type": "text"
      },
      "source": [
        "### Concatenate the convolutional base and densely connected layers"
      ]
    },
    {
      "cell_type": "code",
      "metadata": {
        "id": "qUpmocDAO3xm",
        "colab_type": "code",
        "colab": {}
      },
      "source": [
        "from keras import layers\n",
        "from keras import models\n",
        "from keras import optimizers\n",
        "\n",
        "model = models.Sequential()\n",
        "model.add(conv_base)\n",
        "model.add(layers.Flatten())\n",
        "model.add(layers.Dense(256, activation='relu'))\n",
        "model.add(layers.Dense(100, activation='relu'))\n",
        "# model.add(layers.Dropout(0.1))\n",
        "model.add(layers.Dense(1, activation='sigmoid'))"
      ],
      "execution_count": 0,
      "outputs": []
    },
    {
      "cell_type": "code",
      "metadata": {
        "id": "Fh6gZSeAjF7c",
        "colab_type": "code",
        "outputId": "ec0d6f9b-86f6-45f7-c599-6dbec6053e49",
        "colab": {
          "base_uri": "https://localhost:8080/",
          "height": 319
        }
      },
      "source": [
        "model.summary()"
      ],
      "execution_count": 0,
      "outputs": [
        {
          "output_type": "stream",
          "text": [
            "Model: \"sequential_1\"\n",
            "_________________________________________________________________\n",
            "Layer (type)                 Output Shape              Param #   \n",
            "=================================================================\n",
            "xception (Model)             (None, 5, 5, 2048)        20861480  \n",
            "_________________________________________________________________\n",
            "flatten_1 (Flatten)          (None, 51200)             0         \n",
            "_________________________________________________________________\n",
            "dense_1 (Dense)              (None, 256)               13107456  \n",
            "_________________________________________________________________\n",
            "dense_2 (Dense)              (None, 100)               25700     \n",
            "_________________________________________________________________\n",
            "dense_3 (Dense)              (None, 1)                 101       \n",
            "=================================================================\n",
            "Total params: 33,994,737\n",
            "Trainable params: 13,133,257\n",
            "Non-trainable params: 20,861,480\n",
            "_________________________________________________________________\n"
          ],
          "name": "stdout"
        }
      ]
    },
    {
      "cell_type": "markdown",
      "metadata": {
        "id": "eZjBiddhi5Qj",
        "colab_type": "text"
      },
      "source": [
        "## Train the model end to end with frozen convolutional base"
      ]
    },
    {
      "cell_type": "code",
      "metadata": {
        "id": "tfAQlC2Oi41L",
        "colab_type": "code",
        "outputId": "773df2e0-4212-4c8e-ddf0-dfe9260da821",
        "colab": {
          "base_uri": "https://localhost:8080/",
          "height": 1000
        }
      },
      "source": [
        "from keras.preprocessing.image import ImageDataGenerator\n",
        "from keras import optimizers\n",
        "\n",
        "# data augmentation\n",
        "\n",
        "train_datagen = ImageDataGenerator(\n",
        "    rescale=1./255, \n",
        "    rotation_range=40,\n",
        "    width_shift_range=0.2,\n",
        "    height_shift_range=0.2,\n",
        "    shear_range=0.2,\n",
        "    zoom_range=0.2,\n",
        "    horizontal_flip=True,\n",
        "    fill_mode='nearest'\n",
        ")\n",
        "\n",
        "train_generator = train_datagen.flow_from_directory(\n",
        "    train_dir,\n",
        "    target_size=(150, 150),\n",
        "    batch_size=20,\n",
        "    class_mode='binary')\n",
        "\n",
        "validation_datagen = ImageDataGenerator(rescale=1./255)\n",
        "\n",
        "validation_generator = validation_datagen.flow_from_directory(\n",
        "    validation_dir,\n",
        "    target_size=(150, 150),\n",
        "    batch_size=20,\n",
        "    class_mode='binary')\n",
        "\n",
        "# compile model\n",
        "\n",
        "model.compile(\n",
        "    loss='binary_crossentropy', \n",
        "    optimizer=optimizers.RMSprop(lr=2e-5), \n",
        "    metrics=['acc'])\n",
        "\n",
        "# train\n",
        "\n",
        "history = model.fit_generator(\n",
        "    train_generator,\n",
        "    steps_per_epoch=100,\n",
        "    epochs=30,\n",
        "    validation_data=validation_generator,\n",
        "    validation_steps=50\n",
        ")"
      ],
      "execution_count": 0,
      "outputs": [
        {
          "output_type": "stream",
          "text": [
            "Found 2000 images belonging to 2 classes.\n",
            "Found 1000 images belonging to 2 classes.\n",
            "Epoch 1/30\n",
            "100/100 [==============================] - 25s 251ms/step - loss: 0.4718 - acc: 0.7645 - val_loss: 0.0159 - val_acc: 0.9540\n",
            "Epoch 2/30\n",
            "100/100 [==============================] - 19s 189ms/step - loss: 0.3748 - acc: 0.8215 - val_loss: 0.0366 - val_acc: 0.9590\n",
            "Epoch 3/30\n",
            "100/100 [==============================] - 19s 189ms/step - loss: 0.3416 - acc: 0.8395 - val_loss: 3.6460e-04 - val_acc: 0.9640\n",
            "Epoch 4/30\n",
            "100/100 [==============================] - 19s 188ms/step - loss: 0.3584 - acc: 0.8430 - val_loss: 0.0294 - val_acc: 0.9670\n",
            "Epoch 5/30\n",
            "100/100 [==============================] - 19s 188ms/step - loss: 0.3290 - acc: 0.8545 - val_loss: 0.0328 - val_acc: 0.9580\n",
            "Epoch 6/30\n",
            "100/100 [==============================] - 19s 190ms/step - loss: 0.3259 - acc: 0.8490 - val_loss: 0.0196 - val_acc: 0.9650\n",
            "Epoch 7/30\n",
            "100/100 [==============================] - 19s 188ms/step - loss: 0.3070 - acc: 0.8630 - val_loss: 0.0053 - val_acc: 0.9670\n",
            "Epoch 8/30\n",
            "100/100 [==============================] - 19s 188ms/step - loss: 0.3060 - acc: 0.8675 - val_loss: 0.6389 - val_acc: 0.9650\n",
            "Epoch 9/30\n",
            "100/100 [==============================] - 19s 189ms/step - loss: 0.3319 - acc: 0.8565 - val_loss: 0.0014 - val_acc: 0.9630\n",
            "Epoch 10/30\n",
            "100/100 [==============================] - 19s 192ms/step - loss: 0.3104 - acc: 0.8580 - val_loss: 0.5030 - val_acc: 0.9690\n",
            "Epoch 11/30\n",
            "100/100 [==============================] - 19s 190ms/step - loss: 0.3003 - acc: 0.8675 - val_loss: 0.4462 - val_acc: 0.9550\n",
            "Epoch 12/30\n",
            "100/100 [==============================] - 19s 190ms/step - loss: 0.2827 - acc: 0.8795 - val_loss: 0.1403 - val_acc: 0.9690\n",
            "Epoch 13/30\n",
            "100/100 [==============================] - 19s 188ms/step - loss: 0.2786 - acc: 0.8825 - val_loss: 5.3336e-04 - val_acc: 0.9680\n",
            "Epoch 14/30\n",
            "100/100 [==============================] - 19s 191ms/step - loss: 0.2961 - acc: 0.8730 - val_loss: 0.1830 - val_acc: 0.9610\n",
            "Epoch 15/30\n",
            "100/100 [==============================] - 19s 191ms/step - loss: 0.2888 - acc: 0.8750 - val_loss: 0.0202 - val_acc: 0.9680\n",
            "Epoch 16/30\n",
            "100/100 [==============================] - 19s 190ms/step - loss: 0.3024 - acc: 0.8710 - val_loss: 0.0017 - val_acc: 0.9680\n",
            "Epoch 17/30\n",
            "100/100 [==============================] - 19s 190ms/step - loss: 0.2989 - acc: 0.8645 - val_loss: 0.0350 - val_acc: 0.9680\n",
            "Epoch 18/30\n",
            "100/100 [==============================] - 19s 190ms/step - loss: 0.2802 - acc: 0.8785 - val_loss: 1.1003e-04 - val_acc: 0.9680\n",
            "Epoch 19/30\n",
            "100/100 [==============================] - 19s 191ms/step - loss: 0.2834 - acc: 0.8840 - val_loss: 0.7051 - val_acc: 0.9690\n",
            "Epoch 20/30\n",
            "100/100 [==============================] - 19s 189ms/step - loss: 0.2529 - acc: 0.8965 - val_loss: 0.7931 - val_acc: 0.9660\n",
            "Epoch 21/30\n",
            "100/100 [==============================] - 19s 190ms/step - loss: 0.2786 - acc: 0.8830 - val_loss: 3.9038e-05 - val_acc: 0.9670\n",
            "Epoch 22/30\n",
            "100/100 [==============================] - 19s 190ms/step - loss: 0.2703 - acc: 0.8860 - val_loss: 0.0499 - val_acc: 0.9740\n",
            "Epoch 23/30\n",
            "100/100 [==============================] - 19s 188ms/step - loss: 0.2754 - acc: 0.8815 - val_loss: 6.2317e-04 - val_acc: 0.9690\n",
            "Epoch 24/30\n",
            "100/100 [==============================] - 19s 187ms/step - loss: 0.2605 - acc: 0.8935 - val_loss: 0.6432 - val_acc: 0.9720\n",
            "Epoch 25/30\n",
            "100/100 [==============================] - 19s 189ms/step - loss: 0.2907 - acc: 0.8795 - val_loss: 0.0197 - val_acc: 0.9680\n",
            "Epoch 26/30\n",
            "100/100 [==============================] - 19s 189ms/step - loss: 0.2468 - acc: 0.8970 - val_loss: 0.1411 - val_acc: 0.9670\n",
            "Epoch 27/30\n",
            "100/100 [==============================] - 19s 191ms/step - loss: 0.2707 - acc: 0.8895 - val_loss: 0.0077 - val_acc: 0.9730\n",
            "Epoch 28/30\n",
            "100/100 [==============================] - 19s 188ms/step - loss: 0.2848 - acc: 0.8785 - val_loss: 0.2343 - val_acc: 0.9720\n",
            "Epoch 29/30\n",
            "100/100 [==============================] - 19s 186ms/step - loss: 0.2557 - acc: 0.8880 - val_loss: 0.0981 - val_acc: 0.9650\n",
            "Epoch 30/30\n",
            "100/100 [==============================] - 19s 187ms/step - loss: 0.2666 - acc: 0.8810 - val_loss: 0.0792 - val_acc: 0.9670\n"
          ],
          "name": "stdout"
        }
      ]
    },
    {
      "cell_type": "markdown",
      "metadata": {
        "id": "xqRc_vHKc92U",
        "colab_type": "text"
      },
      "source": [
        "## Display curves of loss and accuracy during training"
      ]
    },
    {
      "cell_type": "code",
      "metadata": {
        "id": "ybWwdzz9bwuQ",
        "colab_type": "code",
        "outputId": "4c9ade9b-58fd-4d7c-eb8a-3660bd4ea7ba",
        "colab": {
          "base_uri": "https://localhost:8080/",
          "height": 545
        }
      },
      "source": [
        "%matplotlib inline\n",
        "\n",
        "import matplotlib.pyplot as plt\n",
        "\n",
        "acc = history.history['acc']\n",
        "val_acc = history.history['val_acc']\n",
        "\n",
        "loss = history.history['loss']\n",
        "val_loss = history.history['val_loss']\n",
        "\n",
        "epochs = range(1, len(acc) + 1)\n",
        "\n",
        "# training and validation accuracy\n",
        "\n",
        "plt.plot(epochs, acc, 'bo', label='training acc')\n",
        "plt.plot(epochs, val_acc, 'b', label='validation acc')\n",
        "plt.title('training and validation accuracy')\n",
        "plt.legend()\n",
        "\n",
        "plt.figure()\n",
        "\n",
        "# training and validation loss\n",
        "\n",
        "plt.plot(epochs, loss, 'bo', label='training loss')\n",
        "plt.plot(epochs, val_loss, 'b', label='validation loss')\n",
        "plt.title('training and validation loss')\n",
        "plt.legend()\n",
        "\n",
        "plt.show()"
      ],
      "execution_count": 0,
      "outputs": [
        {
          "output_type": "display_data",
          "data": {
            "image/png": "[encoded data removed]",
            "text/plain": [
              "<Figure size 432x288 with 1 Axes>"
            ]
          },
          "metadata": {
            "tags": [],
            "needs_background": "light"
          }
        },
        {
          "output_type": "display_data",
          "data": {
            "image/png": "[encoded data removed]",
            "text/plain": [
              "<Figure size 432x288 with 1 Axes>"
            ]
          },
          "metadata": {
            "tags": [],
            "needs_background": "light"
          }
        }
      ]
    },
    {
      "cell_type": "markdown",
      "metadata": {
        "id": "lOWsxpey8lN0",
        "colab_type": "text"
      },
      "source": [
        "## Fine-tuning"
      ]
    },
    {
      "cell_type": "code",
      "metadata": {
        "id": "PwkVMx8N8qMw",
        "colab_type": "code",
        "colab": {}
      },
      "source": [
        "conv_base.trainable = True\n",
        "\n",
        "set_trainable = False\n",
        "for layer in conv_base.layers:\n",
        "  if layer.name == 'block10_sepconv1':\n",
        "    set_trainable = True\n",
        "  if set_trainable:\n",
        "    layer.trainable = True\n",
        "  else:\n",
        "    layer.trainable = False"
      ],
      "execution_count": 0,
      "outputs": []
    },
    {
      "cell_type": "code",
      "metadata": {
        "id": "DyN-J7rs9cvo",
        "colab_type": "code",
        "outputId": "e844877c-9455-444a-c77c-dc45925b04ac",
        "colab": {
          "base_uri": "https://localhost:8080/",
          "height": 1000
        }
      },
      "source": [
        "# compile model\n",
        "\n",
        "model.compile(\n",
        "    loss='binary_crossentropy',\n",
        "    #\n",
        "    # choose a smaller learning rate\n",
        "    #\n",
        "    optimizer=optimizers.RMSprop(lr=1e-5), \n",
        "    metrics=['acc'])\n",
        "\n",
        "# train\n",
        "\n",
        "history = model.fit_generator(\n",
        "    train_generator,\n",
        "    steps_per_epoch=100,\n",
        "    epochs=100,\n",
        "    validation_data=validation_generator,\n",
        "    validation_steps=50)"
      ],
      "execution_count": 0,
      "outputs": [
        {
          "output_type": "stream",
          "text": [
            "Epoch 1/100\n",
            "100/100 [==============================] - 27s 272ms/step - loss: 0.2530 - acc: 0.8940 - val_loss: 0.2585 - val_acc: 0.9510\n",
            "Epoch 2/100\n",
            "100/100 [==============================] - 21s 209ms/step - loss: 0.2531 - acc: 0.8935 - val_loss: 0.1561 - val_acc: 0.9410\n",
            "Epoch 3/100\n",
            "100/100 [==============================] - 21s 210ms/step - loss: 0.2006 - acc: 0.9255 - val_loss: 0.2044 - val_acc: 0.9450\n",
            "Epoch 4/100\n",
            "100/100 [==============================] - 21s 210ms/step - loss: 0.2039 - acc: 0.9180 - val_loss: 0.2709 - val_acc: 0.9400\n",
            "Epoch 5/100\n",
            "100/100 [==============================] - 21s 209ms/step - loss: 0.1966 - acc: 0.9215 - val_loss: 0.0253 - val_acc: 0.9370\n",
            "Epoch 6/100\n",
            "100/100 [==============================] - 21s 210ms/step - loss: 0.2183 - acc: 0.9145 - val_loss: 0.3335 - val_acc: 0.9370\n",
            "Epoch 7/100\n",
            "100/100 [==============================] - 21s 210ms/step - loss: 0.2027 - acc: 0.9165 - val_loss: 0.0631 - val_acc: 0.9440\n",
            "Epoch 8/100\n",
            "100/100 [==============================] - 21s 210ms/step - loss: 0.2070 - acc: 0.9260 - val_loss: 0.0137 - val_acc: 0.9470\n",
            "Epoch 9/100\n",
            "100/100 [==============================] - 21s 212ms/step - loss: 0.1982 - acc: 0.9185 - val_loss: 0.1522 - val_acc: 0.9260\n",
            "Epoch 10/100\n",
            "100/100 [==============================] - 21s 210ms/step - loss: 0.1573 - acc: 0.9340 - val_loss: 0.1081 - val_acc: 0.9440\n",
            "Epoch 11/100\n",
            "100/100 [==============================] - 21s 211ms/step - loss: 0.1475 - acc: 0.9380 - val_loss: 0.0584 - val_acc: 0.9450\n",
            "Epoch 12/100\n",
            "100/100 [==============================] - 21s 210ms/step - loss: 0.1863 - acc: 0.9245 - val_loss: 0.0501 - val_acc: 0.9440\n",
            "Epoch 13/100\n",
            "100/100 [==============================] - 21s 210ms/step - loss: 0.1727 - acc: 0.9305 - val_loss: 0.1163 - val_acc: 0.9420\n",
            "Epoch 14/100\n",
            "100/100 [==============================] - 21s 209ms/step - loss: 0.1567 - acc: 0.9375 - val_loss: 0.1420 - val_acc: 0.9400\n",
            "Epoch 15/100\n",
            "100/100 [==============================] - 21s 210ms/step - loss: 0.1600 - acc: 0.9385 - val_loss: 0.0539 - val_acc: 0.9490\n",
            "Epoch 16/100\n",
            "100/100 [==============================] - 21s 210ms/step - loss: 0.1234 - acc: 0.9490 - val_loss: 0.0075 - val_acc: 0.9550\n",
            "Epoch 17/100\n",
            "100/100 [==============================] - 21s 208ms/step - loss: 0.1648 - acc: 0.9345 - val_loss: 0.9754 - val_acc: 0.9350\n",
            "Epoch 18/100\n",
            "100/100 [==============================] - 21s 209ms/step - loss: 0.1313 - acc: 0.9510 - val_loss: 0.0042 - val_acc: 0.9530\n",
            "Epoch 19/100\n",
            "100/100 [==============================] - 21s 210ms/step - loss: 0.1367 - acc: 0.9530 - val_loss: 0.2340 - val_acc: 0.9510\n",
            "Epoch 20/100\n",
            "100/100 [==============================] - 21s 209ms/step - loss: 0.1361 - acc: 0.9450 - val_loss: 0.0082 - val_acc: 0.9410\n",
            "Epoch 21/100\n",
            "100/100 [==============================] - 21s 209ms/step - loss: 0.1336 - acc: 0.9470 - val_loss: 0.0550 - val_acc: 0.9470\n",
            "Epoch 22/100\n",
            "100/100 [==============================] - 21s 208ms/step - loss: 0.1161 - acc: 0.9540 - val_loss: 0.1073 - val_acc: 0.9580\n",
            "Epoch 23/100\n",
            "100/100 [==============================] - 21s 208ms/step - loss: 0.1408 - acc: 0.9495 - val_loss: 0.4569 - val_acc: 0.9560\n",
            "Epoch 24/100\n",
            "100/100 [==============================] - 21s 211ms/step - loss: 0.0956 - acc: 0.9580 - val_loss: 0.0052 - val_acc: 0.9550\n",
            "Epoch 25/100\n",
            "100/100 [==============================] - 21s 208ms/step - loss: 0.1014 - acc: 0.9590 - val_loss: 0.1472 - val_acc: 0.9530\n",
            "Epoch 26/100\n",
            "100/100 [==============================] - 21s 211ms/step - loss: 0.1092 - acc: 0.9580 - val_loss: 0.0185 - val_acc: 0.9550\n",
            "Epoch 27/100\n",
            "100/100 [==============================] - 21s 208ms/step - loss: 0.1198 - acc: 0.9500 - val_loss: 0.1659 - val_acc: 0.9540\n",
            "Epoch 28/100\n",
            "100/100 [==============================] - 21s 209ms/step - loss: 0.0984 - acc: 0.9625 - val_loss: 0.5226 - val_acc: 0.9540\n",
            "Epoch 29/100\n",
            "100/100 [==============================] - 21s 210ms/step - loss: 0.0973 - acc: 0.9610 - val_loss: 0.0159 - val_acc: 0.9540\n",
            "Epoch 30/100\n",
            "100/100 [==============================] - 21s 210ms/step - loss: 0.1154 - acc: 0.9570 - val_loss: 7.2224e-04 - val_acc: 0.9540\n",
            "Epoch 31/100\n",
            "100/100 [==============================] - 21s 207ms/step - loss: 0.1131 - acc: 0.9550 - val_loss: 0.2920 - val_acc: 0.9500\n",
            "Epoch 32/100\n",
            "100/100 [==============================] - 21s 209ms/step - loss: 0.0946 - acc: 0.9655 - val_loss: 0.0126 - val_acc: 0.9510\n",
            "Epoch 33/100\n",
            "100/100 [==============================] - 21s 210ms/step - loss: 0.1058 - acc: 0.9625 - val_loss: 0.0034 - val_acc: 0.9580\n",
            "Epoch 34/100\n",
            "100/100 [==============================] - 21s 209ms/step - loss: 0.0953 - acc: 0.9630 - val_loss: 0.2987 - val_acc: 0.9550\n",
            "Epoch 35/100\n",
            "100/100 [==============================] - 21s 208ms/step - loss: 0.0956 - acc: 0.9630 - val_loss: 0.0747 - val_acc: 0.9520\n",
            "Epoch 36/100\n",
            "100/100 [==============================] - 21s 208ms/step - loss: 0.0979 - acc: 0.9675 - val_loss: 0.0016 - val_acc: 0.9550\n",
            "Epoch 37/100\n",
            "100/100 [==============================] - 21s 207ms/step - loss: 0.0904 - acc: 0.9645 - val_loss: 0.4830 - val_acc: 0.9500\n",
            "Epoch 38/100\n",
            "100/100 [==============================] - 21s 209ms/step - loss: 0.1079 - acc: 0.9625 - val_loss: 0.2114 - val_acc: 0.9570\n",
            "Epoch 39/100\n",
            "100/100 [==============================] - 21s 210ms/step - loss: 0.0918 - acc: 0.9675 - val_loss: 5.0761e-04 - val_acc: 0.9590\n",
            "Epoch 40/100\n",
            "100/100 [==============================] - 21s 210ms/step - loss: 0.0823 - acc: 0.9680 - val_loss: 0.1391 - val_acc: 0.9480\n",
            "Epoch 41/100\n",
            "100/100 [==============================] - 21s 211ms/step - loss: 0.0913 - acc: 0.9675 - val_loss: 0.1852 - val_acc: 0.9540\n",
            "Epoch 42/100\n",
            "100/100 [==============================] - 21s 209ms/step - loss: 0.0800 - acc: 0.9705 - val_loss: 0.0807 - val_acc: 0.9550\n",
            "Epoch 43/100\n",
            "100/100 [==============================] - 21s 210ms/step - loss: 0.0772 - acc: 0.9720 - val_loss: 0.4280 - val_acc: 0.9610\n",
            "Epoch 44/100\n",
            "100/100 [==============================] - 21s 210ms/step - loss: 0.0813 - acc: 0.9675 - val_loss: 0.5048 - val_acc: 0.9600\n",
            "Epoch 45/100\n",
            "100/100 [==============================] - 21s 211ms/step - loss: 0.0895 - acc: 0.9685 - val_loss: 0.0492 - val_acc: 0.9550\n",
            "Epoch 46/100\n",
            "100/100 [==============================] - 21s 209ms/step - loss: 0.0748 - acc: 0.9765 - val_loss: 0.2333 - val_acc: 0.9640\n",
            "Epoch 47/100\n",
            "100/100 [==============================] - 21s 210ms/step - loss: 0.0845 - acc: 0.9670 - val_loss: 0.0125 - val_acc: 0.9590\n",
            "Epoch 48/100\n",
            "100/100 [==============================] - 21s 210ms/step - loss: 0.0901 - acc: 0.9690 - val_loss: 0.0656 - val_acc: 0.9520\n",
            "Epoch 49/100\n",
            "100/100 [==============================] - 21s 209ms/step - loss: 0.0789 - acc: 0.9695 - val_loss: 0.0640 - val_acc: 0.9570\n",
            "Epoch 50/100\n",
            "100/100 [==============================] - 21s 210ms/step - loss: 0.0893 - acc: 0.9720 - val_loss: 0.0475 - val_acc: 0.9550\n",
            "Epoch 51/100\n",
            "100/100 [==============================] - 21s 210ms/step - loss: 0.0827 - acc: 0.9660 - val_loss: 0.0076 - val_acc: 0.9580\n",
            "Epoch 52/100\n",
            "100/100 [==============================] - 21s 210ms/step - loss: 0.0705 - acc: 0.9735 - val_loss: 0.3402 - val_acc: 0.9580\n",
            "Epoch 53/100\n",
            "100/100 [==============================] - 21s 209ms/step - loss: 0.0740 - acc: 0.9710 - val_loss: 0.2800 - val_acc: 0.9640\n",
            "Epoch 54/100\n",
            "100/100 [==============================] - 21s 209ms/step - loss: 0.0668 - acc: 0.9735 - val_loss: 0.0170 - val_acc: 0.9630\n",
            "Epoch 55/100\n",
            "100/100 [==============================] - 21s 210ms/step - loss: 0.0822 - acc: 0.9700 - val_loss: 0.1689 - val_acc: 0.9570\n",
            "Epoch 56/100\n",
            "100/100 [==============================] - 21s 211ms/step - loss: 0.0572 - acc: 0.9805 - val_loss: 0.0025 - val_acc: 0.9600\n",
            "Epoch 57/100\n",
            "100/100 [==============================] - 21s 209ms/step - loss: 0.0694 - acc: 0.9745 - val_loss: 0.1685 - val_acc: 0.9600\n",
            "Epoch 58/100\n",
            "100/100 [==============================] - 21s 210ms/step - loss: 0.0889 - acc: 0.9690 - val_loss: 0.4561 - val_acc: 0.9620\n",
            "Epoch 59/100\n",
            "100/100 [==============================] - 21s 210ms/step - loss: 0.0674 - acc: 0.9725 - val_loss: 0.2764 - val_acc: 0.9630\n",
            "Epoch 60/100\n",
            "100/100 [==============================] - 21s 210ms/step - loss: 0.0685 - acc: 0.9760 - val_loss: 0.1343 - val_acc: 0.9620\n",
            "Epoch 61/100\n",
            "100/100 [==============================] - 21s 207ms/step - loss: 0.0667 - acc: 0.9790 - val_loss: 0.0040 - val_acc: 0.9620\n",
            "Epoch 62/100\n",
            "100/100 [==============================] - 21s 208ms/step - loss: 0.0753 - acc: 0.9720 - val_loss: 0.3199 - val_acc: 0.9580\n",
            "Epoch 63/100\n",
            "100/100 [==============================] - 21s 208ms/step - loss: 0.0888 - acc: 0.9690 - val_loss: 0.1253 - val_acc: 0.9570\n",
            "Epoch 64/100\n",
            "100/100 [==============================] - 21s 209ms/step - loss: 0.0569 - acc: 0.9780 - val_loss: 0.0497 - val_acc: 0.9620\n",
            "Epoch 65/100\n",
            "100/100 [==============================] - 21s 207ms/step - loss: 0.0605 - acc: 0.9765 - val_loss: 0.3314 - val_acc: 0.9590\n",
            "Epoch 66/100\n",
            "100/100 [==============================] - 21s 207ms/step - loss: 0.0789 - acc: 0.9775 - val_loss: 0.5049 - val_acc: 0.9620\n",
            "Epoch 67/100\n",
            "100/100 [==============================] - 21s 209ms/step - loss: 0.0437 - acc: 0.9845 - val_loss: 0.6705 - val_acc: 0.9630\n",
            "Epoch 68/100\n",
            "100/100 [==============================] - 21s 206ms/step - loss: 0.0587 - acc: 0.9780 - val_loss: 0.1371 - val_acc: 0.9620\n",
            "Epoch 69/100\n",
            "100/100 [==============================] - 21s 208ms/step - loss: 0.0654 - acc: 0.9760 - val_loss: 0.0013 - val_acc: 0.9650\n",
            "Epoch 70/100\n",
            "100/100 [==============================] - 21s 210ms/step - loss: 0.0700 - acc: 0.9760 - val_loss: 0.0074 - val_acc: 0.9610\n",
            "Epoch 71/100\n",
            "100/100 [==============================] - 21s 210ms/step - loss: 0.0745 - acc: 0.9775 - val_loss: 0.0011 - val_acc: 0.9600\n",
            "Epoch 72/100\n",
            "100/100 [==============================] - 21s 207ms/step - loss: 0.0536 - acc: 0.9805 - val_loss: 0.0662 - val_acc: 0.9580\n",
            "Epoch 73/100\n",
            "100/100 [==============================] - 21s 209ms/step - loss: 0.0558 - acc: 0.9820 - val_loss: 0.0172 - val_acc: 0.9610\n",
            "Epoch 74/100\n",
            "100/100 [==============================] - 21s 211ms/step - loss: 0.0501 - acc: 0.9845 - val_loss: 0.4572 - val_acc: 0.9610\n",
            "Epoch 75/100\n",
            "100/100 [==============================] - 21s 208ms/step - loss: 0.0443 - acc: 0.9810 - val_loss: 9.2902e-04 - val_acc: 0.9600\n",
            "Epoch 76/100\n",
            "100/100 [==============================] - 21s 208ms/step - loss: 0.0548 - acc: 0.9800 - val_loss: 0.0023 - val_acc: 0.9610\n",
            "Epoch 77/100\n",
            "100/100 [==============================] - 21s 207ms/step - loss: 0.0524 - acc: 0.9810 - val_loss: 0.1301 - val_acc: 0.9630\n",
            "Epoch 78/100\n",
            "100/100 [==============================] - 21s 208ms/step - loss: 0.0424 - acc: 0.9865 - val_loss: 0.1582 - val_acc: 0.9650\n",
            "Epoch 79/100\n",
            "100/100 [==============================] - 21s 209ms/step - loss: 0.0410 - acc: 0.9855 - val_loss: 2.4000e-04 - val_acc: 0.9640\n",
            "Epoch 80/100\n",
            "100/100 [==============================] - 21s 209ms/step - loss: 0.0594 - acc: 0.9820 - val_loss: 0.4037 - val_acc: 0.9600\n",
            "Epoch 81/100\n",
            "100/100 [==============================] - 21s 208ms/step - loss: 0.0523 - acc: 0.9795 - val_loss: 0.6334 - val_acc: 0.9630\n",
            "Epoch 82/100\n",
            "100/100 [==============================] - 21s 210ms/step - loss: 0.0419 - acc: 0.9845 - val_loss: 0.2279 - val_acc: 0.9630\n",
            "Epoch 83/100\n",
            "100/100 [==============================] - 21s 207ms/step - loss: 0.0635 - acc: 0.9795 - val_loss: 0.0066 - val_acc: 0.9640\n",
            "Epoch 84/100\n",
            "100/100 [==============================] - 21s 208ms/step - loss: 0.0556 - acc: 0.9790 - val_loss: 0.1973 - val_acc: 0.9660\n",
            "Epoch 85/100\n",
            "100/100 [==============================] - 21s 209ms/step - loss: 0.0398 - acc: 0.9860 - val_loss: 0.0468 - val_acc: 0.9620\n",
            "Epoch 86/100\n",
            "100/100 [==============================] - 22s 219ms/step - loss: 0.0435 - acc: 0.9870 - val_loss: 0.0017 - val_acc: 0.9640\n",
            "Epoch 87/100\n",
            "100/100 [==============================] - 21s 209ms/step - loss: 0.0549 - acc: 0.9820 - val_loss: 0.0135 - val_acc: 0.9630\n",
            "Epoch 88/100\n",
            "100/100 [==============================] - 21s 210ms/step - loss: 0.0573 - acc: 0.9805 - val_loss: 0.2223 - val_acc: 0.9600\n",
            "Epoch 89/100\n",
            "100/100 [==============================] - 21s 209ms/step - loss: 0.0476 - acc: 0.9825 - val_loss: 0.0117 - val_acc: 0.9610\n",
            "Epoch 90/100\n",
            "100/100 [==============================] - 21s 210ms/step - loss: 0.0439 - acc: 0.9840 - val_loss: 0.0021 - val_acc: 0.9630\n",
            "Epoch 91/100\n",
            "100/100 [==============================] - 21s 207ms/step - loss: 0.0433 - acc: 0.9855 - val_loss: 0.0356 - val_acc: 0.9600\n",
            "Epoch 92/100\n",
            "100/100 [==============================] - 21s 210ms/step - loss: 0.0423 - acc: 0.9850 - val_loss: 0.2901 - val_acc: 0.9620\n",
            "Epoch 93/100\n",
            "100/100 [==============================] - 21s 211ms/step - loss: 0.0405 - acc: 0.9850 - val_loss: 0.0010 - val_acc: 0.9660\n",
            "Epoch 94/100\n",
            "100/100 [==============================] - 21s 209ms/step - loss: 0.0443 - acc: 0.9860 - val_loss: 0.0113 - val_acc: 0.9670\n",
            "Epoch 95/100\n",
            "100/100 [==============================] - 21s 209ms/step - loss: 0.0535 - acc: 0.9835 - val_loss: 0.0608 - val_acc: 0.9620\n",
            "Epoch 96/100\n",
            "100/100 [==============================] - 21s 207ms/step - loss: 0.0338 - acc: 0.9895 - val_loss: 0.2061 - val_acc: 0.9600\n",
            "Epoch 97/100\n",
            "100/100 [==============================] - 21s 210ms/step - loss: 0.0386 - acc: 0.9885 - val_loss: 0.0010 - val_acc: 0.9640\n",
            "Epoch 98/100\n",
            "100/100 [==============================] - 21s 208ms/step - loss: 0.0406 - acc: 0.9865 - val_loss: 1.2830e-04 - val_acc: 0.9640\n",
            "Epoch 99/100\n",
            "100/100 [==============================] - 21s 208ms/step - loss: 0.0493 - acc: 0.9855 - val_loss: 0.1689 - val_acc: 0.9670\n",
            "Epoch 100/100\n",
            "100/100 [==============================] - 21s 209ms/step - loss: 0.0505 - acc: 0.9820 - val_loss: 0.1661 - val_acc: 0.9660\n"
          ],
          "name": "stdout"
        }
      ]
    },
    {
      "cell_type": "markdown",
      "metadata": {
        "id": "eVBQgh5M-Rtz",
        "colab_type": "text"
      },
      "source": [
        "## Display learning curves during fine-tuning"
      ]
    },
    {
      "cell_type": "code",
      "metadata": {
        "id": "mbkIw7Ie-NP4",
        "colab_type": "code",
        "outputId": "ec616d14-0e65-4b53-c691-736a192fc8e2",
        "colab": {
          "base_uri": "https://localhost:8080/",
          "height": 545
        }
      },
      "source": [
        "%matplotlib inline\n",
        "\n",
        "import matplotlib.pyplot as plt\n",
        "\n",
        "acc = history.history['acc']\n",
        "val_acc = history.history['val_acc']\n",
        "\n",
        "loss = history.history['loss']\n",
        "val_loss = history.history['val_loss']\n",
        "\n",
        "epochs = range(1, len(acc) + 1)\n",
        "\n",
        "# training and validation accuracy\n",
        "\n",
        "plt.plot(epochs, acc, 'bo', label='training acc')\n",
        "plt.plot(epochs, val_acc, 'b', label='validation acc')\n",
        "plt.title('training and validation accuracy')\n",
        "plt.legend()\n",
        "\n",
        "plt.figure()\n",
        "\n",
        "# training and validation loss\n",
        "\n",
        "plt.plot(epochs, loss, 'bo', label='training loss')\n",
        "plt.plot(epochs, val_loss, 'b', label='validation loss')\n",
        "plt.title('training and validation loss')\n",
        "plt.legend()\n",
        "\n",
        "plt.show()"
      ],
      "execution_count": 0,
      "outputs": [
        {
          "output_type": "display_data",
          "data": {
            "image/png": "[encoded data removed]",
            "text/plain": [
              "<Figure size 432x288 with 1 Axes>"
            ]
          },
          "metadata": {
            "tags": [],
            "needs_background": "light"
          }
        },
        {
          "output_type": "display_data",
          "data": {
            "image/png": "[encoded data removed]",
            "text/plain": [
              "<Figure size 432x288 with 1 Axes>"
            ]
          },
          "metadata": {
            "tags": [],
            "needs_background": "light"
          }
        }
      ]
    },
    {
      "cell_type": "markdown",
      "metadata": {
        "id": "he3Nw6TOJwjx",
        "colab_type": "text"
      },
      "source": [
        "## Print out validation loss and accuracy"
      ]
    },
    {
      "cell_type": "code",
      "metadata": {
        "id": "SVQtrk7uJdhl",
        "colab_type": "code",
        "colab": {}
      },
      "source": [
        "val_loss, val_acc = model.evaluate_generator(validation_generator, steps=50)"
      ],
      "execution_count": 0,
      "outputs": []
    },
    {
      "cell_type": "code",
      "metadata": {
        "id": "HpdddLi1SUMe",
        "colab_type": "code",
        "outputId": "2065f979-1a0c-4a03-ced8-1134485d8e92",
        "colab": {
          "base_uri": "https://localhost:8080/",
          "height": 50
        }
      },
      "source": [
        "print(\"Validation loss:\", val_loss)\n",
        "print(\"Validation accuracy:\", val_acc)"
      ],
      "execution_count": 0,
      "outputs": [
        {
          "output_type": "stream",
          "text": [
            "Validation loss: 0.16608189046382904\n",
            "Validation accuracy: 0.9660000205039978\n"
          ],
          "name": "stdout"
        }
      ]
    },
    {
      "cell_type": "markdown",
      "metadata": {
        "id": "AO2Wb2a6FNvB",
        "colab_type": "text"
      },
      "source": [
        "#Resources:"
      ]
    },
    {
      "cell_type": "markdown",
      "metadata": {
        "id": "C-GqarmxFRo6",
        "colab_type": "text"
      },
      "source": [
        "Deep learning for computer vision (Chapter 5)\n",
        "\n",
        "https://keras.io/applications/\n",
        "\n",
        "https://colab.research.google.com/drive/1F-RWvoxH8MmT7c1UmNy41iuOp-ejiLoF"
      ]
    }
  ]
}