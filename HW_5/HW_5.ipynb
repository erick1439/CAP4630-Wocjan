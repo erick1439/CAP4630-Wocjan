{
  "nbformat": 4,
  "nbformat_minor": 0,
  "metadata": {
    "colab": {
      "name": "HW_5.ipynb",
      "provenance": [],
      "collapsed_sections": [],
      "authorship_tag": "ABX9TyP05yK8mHzvDOMpiqlh2+Hb",
      "include_colab_link": true
    },
    "kernelspec": {
      "name": "python3",
      "display_name": "Python 3"
    }
  },
  "cells": [
    {
      "cell_type": "markdown",
      "metadata": {
        "id": "view-in-github",
        "colab_type": "text"
      },
      "source": [
        "<a href=\"https://colab.research.google.com/github/erick1439/CAP4630-Wocjan/blob/master/HW_5/HW_5.ipynb\" target=\"_parent\"><img src=\"https://colab.research.google.com/assets/colab-badge.svg\" alt=\"Open In Colab\"/></a>"
      ]
    },
    {
      "cell_type": "code",
      "metadata": {
        "id": "-HADODPXyGhM",
        "colab_type": "code",
        "colab": {}
      },
      "source": [
        "from mpl_toolkits import mplot3d\n",
        "%matplotlib inline\n",
        "import numpy as np\n",
        "import matplotlib as mpl\n",
        "import matplotlib.pyplot as plt\n",
        "from sklearn.linear_model import LinearRegression"
      ],
      "execution_count": 0,
      "outputs": []
    },
    {
      "cell_type": "markdown",
      "metadata": {
        "id": "kI_dNAtCg2yW",
        "colab_type": "text"
      },
      "source": [
        "# **Description:**"
      ]
    },
    {
      "cell_type": "markdown",
      "metadata": {
        "id": "TKCW6aAEg0Cy",
        "colab_type": "text"
      },
      "source": [
        "Summarize and describe the different concepts/methods/algorithms that you have learned in this course."
      ]
    },
    {
      "cell_type": "markdown",
      "metadata": {
        "id": "QAGJqsZVg-Hf",
        "colab_type": "text"
      },
      "source": [
        "# **Summary:**"
      ]
    },
    {
      "cell_type": "markdown",
      "metadata": {
        "id": "U91XjtrxiB3_",
        "colab_type": "text"
      },
      "source": [
        "## **General Concepts:**"
      ]
    },
    {
      "cell_type": "markdown",
      "metadata": {
        "id": "_i1L3iaYEkYY",
        "colab_type": "text"
      },
      "source": [
        "### ***Artificial Intellegence:*** \n",
        "\n",
        "I learned that AI is an umbrella term used to represents a branch of computer science dealing with the simulation of intelligent behavior in computers."
      ]
    },
    {
      "cell_type": "markdown",
      "metadata": {
        "id": "BZ7waO8SFyQT",
        "colab_type": "text"
      },
      "source": [
        "### ***Symobolic AI:***\n",
        "This is a term to used to respresent the collection of all methods in AI research that are based on high level representations of problems. This term is also know as \"good old-fashioned Artificial Intelligence\" or GOFAI."
      ]
    },
    {
      "cell_type": "markdown",
      "metadata": {
        "id": "tzQr89XvHpkd",
        "colab_type": "text"
      },
      "source": [
        "### ***Machine Learning:***\n",
        "\n",
        "I learned that this term is a subset of AI which is used to represent the field of study that gives computers the ability to learn without being explicitly programmed. This means that Machine Learning is the process of trainning a model to make useful predictions using a data set."
      ]
    },
    {
      "cell_type": "markdown",
      "metadata": {
        "id": "RzdoefxBKNVF",
        "colab_type": "text"
      },
      "source": [
        "#### ***Supervised Learning:***\n",
        "I learned that this is a paradigm from ML where a model will receive a label and training data. In the learing section, the model will do calculations to find patterns and relationships between the data and labels so when the model sees new data it can make close predictions."
      ]
    },
    {
      "cell_type": "markdown",
      "metadata": {
        "id": "Fm7uNqx_N1X3",
        "colab_type": "text"
      },
      "source": [
        "#### ***Unsupervised Learning:***\n",
        "In this type of learning the model will have only unlabeled data. This means that the model will have no hints on how to categorize data. This type of learning is more useful if we want to classify new data in already existing clusters of data."
      ]
    },
    {
      "cell_type": "markdown",
      "metadata": {
        "id": "aTgRBPUlPPJl",
        "colab_type": "text"
      },
      "source": [
        "#### ***Reinforcement Learning:***\n",
        "I learned that on this type of learning you do not collect example with label. Instead we have an agent that will learn how to interact with an enviroment through trial and error using feedback from previous actions."
      ]
    },
    {
      "cell_type": "markdown",
      "metadata": {
        "id": "oiCwXpeaUttA",
        "colab_type": "text"
      },
      "source": [
        "### **Deep Learning:**\n",
        "Deep learning is a set of machine learning based on artificial neural networks. The learning can be supervised or unsupervised."
      ]
    },
    {
      "cell_type": "markdown",
      "metadata": {
        "id": "-I4D3D3tVTng",
        "colab_type": "text"
      },
      "source": [
        "## **Basic Concepts:**"
      ]
    },
    {
      "cell_type": "markdown",
      "metadata": {
        "id": "LahJFUFFVcva",
        "colab_type": "text"
      },
      "source": [
        "### **Linear Regression:**\n",
        "Linear regression is a formula that attempts to model a relationship between variables. In the most basic example it will create a line where it maps a dependent variable to an independet variable. The linear regresion equation could be written as : $\\hat y = mx + b$, but for this course the formula $\\hat y = b + \\sum_{j = 1}^n W_j X_j$ makes a better representation since it represents the linear regresion with multiple features."
      ]
    },
    {
      "cell_type": "code",
      "metadata": {
        "id": "IhWQWdbV9sW-",
        "colab_type": "code",
        "outputId": "1c7f052e-627e-4102-b3a1-64f5f80baf70",
        "colab": {
          "base_uri": "https://localhost:8080/",
          "height": 265
        }
      },
      "source": [
        "# Display data points on the graph\n",
        "rng = np.random.RandomState(1)\n",
        "x = 10 * rng.rand(50)\n",
        "y = 2 * x - 5 + rng.randn(50)\n",
        "plt.scatter(x, y);\n",
        "\n",
        "# Generates the linear regression line\n",
        "model = LinearRegression(fit_intercept=True)\n",
        "model.fit(x[:, np.newaxis], y)\n",
        "xfit = np.linspace(0, 10, 1000)\n",
        "yfit = model.predict(xfit[:, np.newaxis])\n",
        "\n",
        "# Displays the line on the graph\n",
        "plt.scatter(x, y)\n",
        "plt.plot(xfit, yfit);"
      ],
      "execution_count": 2,
      "outputs": [
        {
          "output_type": "display_data",
          "data": {
            "image/png": "[encoded data removed]",
            "text/plain": [
              "<Figure size 432x288 with 1 Axes>"
            ]
          },
          "metadata": {
            "tags": [],
            "needs_background": "light"
          }
        }
      ]
    },
    {
      "cell_type": "markdown",
      "metadata": {
        "id": "eU6FnaYTZno3",
        "colab_type": "text"
      },
      "source": [
        "### **Mean Square Error Loss:**\n",
        "Loss defines the penalty for a bad prediction from a single weight. Mean square error refers to the average squared loss per example over the whole dataset. The MSE can be represented as: $ \\frac{1}{m} \\sum_{i = 1}^m (y^i - \\hat y^i)^2$"
      ]
    },
    {
      "cell_type": "markdown",
      "metadata": {
        "id": "VKGHeeJ7JdK6",
        "colab_type": "text"
      },
      "source": [
        "### Binary crossentropy:"
      ]
    },
    {
      "cell_type": "markdown",
      "metadata": {
        "id": "LFGz4IfEJq9W",
        "colab_type": "text"
      },
      "source": [
        "Binary crossentropy is another type of loss function used primarly with logistic regression. Binary crossentropy will measure how far away from a true value a prediction will be measuring the loss."
      ]
    },
    {
      "cell_type": "code",
      "metadata": {
        "id": "GJAUaTSwJkEX",
        "colab_type": "code",
        "colab": {}
      },
      "source": [
        "def binary_cross_entropy_loss(a, label):\n",
        "    return (-label * np.log(a)) - ((1 - label) * np.log(1 - a))"
      ],
      "execution_count": 0,
      "outputs": []
    },
    {
      "cell_type": "markdown",
      "metadata": {
        "id": "PvrNVJMRYdhT",
        "colab_type": "text"
      },
      "source": [
        "### **Logistic Regression:**\n",
        "This is a supervised learning algorithm that allow us to predict if something is true or false. Instead of having predictions for continious values like in linear regression, we will us logistic regression to classify data into two categories."
      ]
    },
    {
      "cell_type": "markdown",
      "metadata": {
        "id": "XGVzTt-DYoNZ",
        "colab_type": "text"
      },
      "source": [
        "### **Gradients:**\n",
        "Gradients are vectors containing derivaties of functions with respect to all of its variables. One of the uses of gradients is to find the steepst ascent for a function at a given point.\n",
        "\n",
        "Below is an expalme of the gradient descent ot the function cos(x) + sin(y) at the point $(0, - \\frac{\\pi}{2})$"
      ]
    },
    {
      "cell_type": "code",
      "metadata": {
        "id": "vFTFXWD8xU7P",
        "colab_type": "code",
        "outputId": "57fe27ec-3f64-41ad-c5aa-b4974cbdfa2a",
        "colab": {
          "base_uri": "https://localhost:8080/",
          "height": 269
        }
      },
      "source": [
        "def f3(x, y):\n",
        "  return np.cos(x) + np.sin(y)\n",
        "\n",
        "x = np.linspace(-4, 4, 30)\n",
        "y = np.linspace(-4, 4, 30)\n",
        "\n",
        "X, Y = np.meshgrid(x, y)\n",
        "Z = f3(X, Y)\n",
        "\n",
        "plt.contourf(X, Y, Z, 20, cmap='RdGy')\n",
        "plt.colorbar()\n",
        "plt.plot(0, -np.pi / 2, 'o', c='green')\n",
        "plt.show()"
      ],
      "execution_count": 4,
      "outputs": [
        {
          "output_type": "display_data",
          "data": {
            "image/png": "[encoded data removed]",
            "text/plain": [
              "<Figure size 432x288 with 2 Axes>"
            ]
          },
          "metadata": {
            "tags": [],
            "needs_background": "light"
          }
        }
      ]
    },
    {
      "cell_type": "markdown",
      "metadata": {
        "id": "EolPuNIUZ2It",
        "colab_type": "text"
      },
      "source": [
        "### **Gradient Descent:**\n",
        "This a technique we use to minimized the error loss of a model by adjusting its weights. This optimization technique works by iteratively moving in the direction of the functions's steepest descent. \n"
      ]
    },
    {
      "cell_type": "markdown",
      "metadata": {
        "id": "8U4cxeGGZ6Ju",
        "colab_type": "text"
      },
      "source": [
        "### **Stochastic/ Mini Batch Gradient Descent:**\n",
        "Stochastic and Mini batch are two modifications of gradiant descent. Running the gradieant descent algorithm can be very costly because of the many math computations the algorith will have to compute with big sets of data. To prevent this we can use Stochastic and mini batch gradient descent. Sotachistic will randomly select a element from the training set at each step. In the other side, the mini batch will use a small collection of randomly choosed elements from the training set.\n"
      ]
    },
    {
      "cell_type": "markdown",
      "metadata": {
        "id": "SNDvi9Hq1deI",
        "colab_type": "text"
      },
      "source": [
        "## **Building a Model:**"
      ]
    },
    {
      "cell_type": "markdown",
      "metadata": {
        "id": "GJshcTwlLsp2",
        "colab_type": "text"
      },
      "source": [
        "Keras allows us to build neural networks in a condese way. In the lines below we are creating a sequential model which will organize out the layer in stack looking fashion. After that, we are inserting a dense layer to the model that will use a sigmod activation. The sigmoid argument will make sure that our output is between the interval 0 to 1."
      ]
    },
    {
      "cell_type": "code",
      "metadata": {
        "id": "IMhWfeEoLy93",
        "colab_type": "code",
        "colab": {
          "base_uri": "https://localhost:8080/",
          "height": 185
        },
        "outputId": "f6ab308d-4c69-4aa8-f7f0-f7f4d7d6e0ed"
      },
      "source": [
        "%tensorflow_version 2.x\n",
        "import tensorflow as tf\n",
        "\n",
        "# Creates the model\n",
        "model = tf.keras.models.Sequential()\n",
        "\n",
        "# Adds dense layer to the model\n",
        "layer = tf.keras.layers.Dense(1, activation='sigmoid', input_shape=(2, ))\n",
        "model.add(layer)\n",
        "\n",
        "# Summary\n",
        "model.summary()"
      ],
      "execution_count": 5,
      "outputs": [
        {
          "output_type": "stream",
          "text": [
            "Model: \"sequential\"\n",
            "_________________________________________________________________\n",
            "Layer (type)                 Output Shape              Param #   \n",
            "=================================================================\n",
            "dense (Dense)                (None, 1)                 3         \n",
            "=================================================================\n",
            "Total params: 3\n",
            "Trainable params: 3\n",
            "Non-trainable params: 0\n",
            "_________________________________________________________________\n"
          ],
          "name": "stdout"
        }
      ]
    },
    {
      "cell_type": "markdown",
      "metadata": {
        "id": "qYMcWMcg1CjU",
        "colab_type": "text"
      },
      "source": [
        "### **Types of layers:**"
      ]
    },
    {
      "cell_type": "markdown",
      "metadata": {
        "id": "73cVJ8MU1Npi",
        "colab_type": "text"
      },
      "source": [
        "There are different types of layers that keras offer. The dense layer used above is just one of the many. Below are just some layers we have come across:"
      ]
    },
    {
      "cell_type": "markdown",
      "metadata": {
        "id": "gqtBkvG71hBD",
        "colab_type": "text"
      },
      "source": [
        "#### **Dense:**"
      ]
    },
    {
      "cell_type": "markdown",
      "metadata": {
        "id": "31qi8VCT15d4",
        "colab_type": "text"
      },
      "source": [
        "Dense is one of the most basic types of layers. This layer uses the gradiant descent technique to adjust the features."
      ]
    },
    {
      "cell_type": "markdown",
      "metadata": {
        "id": "GaaXaKKC1wfC",
        "colab_type": "text"
      },
      "source": [
        "#### **Flatten:**"
      ]
    },
    {
      "cell_type": "markdown",
      "metadata": {
        "id": "2K3nwHr_Boa1",
        "colab_type": "text"
      },
      "source": [
        "The flatten layer can take an input of multiple dimesion and flatten that into a 1d array."
      ]
    },
    {
      "cell_type": "markdown",
      "metadata": {
        "id": "M1yO0buy1k4W",
        "colab_type": "text"
      },
      "source": [
        "#### **Conv2D:**"
      ]
    },
    {
      "cell_type": "markdown",
      "metadata": {
        "id": "itDcd4WX4bAc",
        "colab_type": "text"
      },
      "source": [
        "This layer works by reciving an input matrix and a kernel. Then this kernel will be used to multiply the input matrix on a specific region of the input matrix and then add its products. This process will continue until the all the input matrix positions have been processed. The code below is the example from hw4 that computes the conv2d on squares matrices."
      ]
    },
    {
      "cell_type": "code",
      "metadata": {
        "id": "XJyH_SlS1rOz",
        "colab_type": "code",
        "colab": {
          "base_uri": "https://localhost:8080/",
          "height": 67
        },
        "outputId": "361f5976-67ec-4f13-dc31-6547059ca958"
      },
      "source": [
        "import numpy as np\n",
        "\n",
        "def conv2d(input_mat, kernel_mat):\n",
        "    # Special cases in order to avoid errors on the computation.\n",
        "\n",
        "    if kernel_mat.shape[0] != kernel_mat.shape[1]:\n",
        "      return \"Kernel matrix is not square\"\n",
        "    \n",
        "    if input_mat.shape[0] != input_mat.shape[1]:\n",
        "      return \"Input matrix is not square\"\n",
        "\n",
        "    if kernel_mat.shape[0] > input_mat.shape[0]:\n",
        "      return \"Kernel size is greater than the input size\"\n",
        "\n",
        "    # Statements that calculate the new length of the result matrix.\n",
        "    result_mat = np.zeros((input_mat.shape[0] - kernel_mat.shape[0] + 1, input_mat.shape[0] - kernel_mat.shape[0] + 1))\n",
        "\n",
        "    # Loops that calculate the convolution computations\n",
        "    for col in range(result_mat.shape[0]):\n",
        "        for row in range(result_mat.shape[1]):\n",
        "          x_bound = row + kernel_mat.shape[0];\n",
        "          y_bound = col + kernel_mat.shape[0]\n",
        "          temp_mat = np.multiply(input_mat[col:y_bound, row:x_bound], kernel_mat)\n",
        "          result_mat[col][row] = np.sum(temp_mat)\n",
        "\n",
        "    return result_mat\n",
        "\n",
        "\n",
        "# Test case : \n",
        "input_mat = np.array([[1, 2, 3],\n",
        "                      [1, 2, 3],\n",
        "                      [1, 2, 3]])\n",
        "\n",
        "kernel_mat = np.array([[1, 1],\n",
        "                       [1, 1]])\n",
        "\n",
        "print(conv2d(input_mat, kernel_mat), end=\"\\n\\n\")"
      ],
      "execution_count": 6,
      "outputs": [
        {
          "output_type": "stream",
          "text": [
            "[[ 6. 10.]\n",
            " [ 6. 10.]]\n",
            "\n"
          ],
          "name": "stdout"
        }
      ]
    },
    {
      "cell_type": "markdown",
      "metadata": {
        "id": "M4SXgTIJ1rsc",
        "colab_type": "text"
      },
      "source": [
        "#### **MaxPooling2D:**"
      ]
    },
    {
      "cell_type": "markdown",
      "metadata": {
        "id": "TWE6Qnsf8GH7",
        "colab_type": "text"
      },
      "source": [
        "This layer works get the max number from a region specified by a value passed as another parameter. This tehcnique will also stop when all the values of the input matrix have been processed. The example below is from hw4 that works only with only square matrices."
      ]
    },
    {
      "cell_type": "code",
      "metadata": {
        "id": "q_TP2S9E7S1Y",
        "colab_type": "code",
        "colab": {
          "base_uri": "https://localhost:8080/",
          "height": 67
        },
        "outputId": "b2ff31e7-d382-41dc-9c01-7f078479af37"
      },
      "source": [
        "import numpy as np\n",
        "\n",
        "def maxpooling2d(input_mat, s):\n",
        "\n",
        "  # Special cases in order to avoid errors on the computation.\n",
        "  if input_mat.shape[0] != input_mat.shape[1]:\n",
        "    return \"Input Matrix is not square\"\n",
        "\n",
        "  if s <= 0:\n",
        "    return \"Make sure the value in s is valid\"\n",
        "\n",
        "  if s > input_mat.shape[0]:\n",
        "    return \"The value in s is largert the input size\"\n",
        "\n",
        "  # Statements that calculate the new length of the result matrix.\n",
        "  result_mat = np.zeros((input_mat.shape[0] // s, input_mat.shape[0] // s))\n",
        "\n",
        "  # Perform the max pooling operation\n",
        "  for col in range(result_mat.shape[0]):\n",
        "    for row in range(result_mat.shape[0]):\n",
        "      x_bound = row * s\n",
        "      y_bound = col * s\n",
        "      result_mat[col][row] = np.amax(input_mat[y_bound:y_bound + s, x_bound:x_bound + s])\n",
        "\n",
        "  return result_mat\n",
        "\n",
        "\n",
        "# Test case:\n",
        "input_mat = np.array([[1, 2, 3, 4],\n",
        "                      [5, 6, 7, 8],\n",
        "                      [9, 10, 11, 12],\n",
        "                      [13, 14, 15, 16]])\n",
        "\n",
        "print(maxpooling2d(input_mat, 2), end=\"\\n\\n\")"
      ],
      "execution_count": 7,
      "outputs": [
        {
          "output_type": "stream",
          "text": [
            "[[ 6.  8.]\n",
            " [14. 16.]]\n",
            "\n"
          ],
          "name": "stdout"
        }
      ]
    },
    {
      "cell_type": "markdown",
      "metadata": {
        "id": "TzavZlaR16fl",
        "colab_type": "text"
      },
      "source": [
        "## **Comping a Model:**"
      ]
    },
    {
      "cell_type": "markdown",
      "metadata": {
        "id": "74l21jehuKGZ",
        "colab_type": "text"
      },
      "source": [
        "The model above can be compiled with the line below. The optimizer parameter is in charge to set how the data is going to be updated at each iteration. The loss parameter is in charge to set the algorithm that it will be used to calculate the loss."
      ]
    },
    {
      "cell_type": "code",
      "metadata": {
        "id": "0s7GJnjj5d57",
        "colab_type": "code",
        "colab": {}
      },
      "source": [
        "model.compile(optimizer=tf.keras.optimizers.RMSprop(0.01), loss='binary_crossentropy', metrics=['accuracy'])"
      ],
      "execution_count": 0,
      "outputs": []
    },
    {
      "cell_type": "markdown",
      "metadata": {
        "id": "jEJjpvSX2E06",
        "colab_type": "text"
      },
      "source": [
        "## **Training a Model:**"
      ]
    },
    {
      "cell_type": "markdown",
      "metadata": {
        "id": "TcKcyHwR5KM4",
        "colab_type": "text"
      },
      "source": [
        "#### ***Overfitting:***"
      ]
    },
    {
      "cell_type": "markdown",
      "metadata": {
        "id": "gjIt1n_9Z6kE",
        "colab_type": "text"
      },
      "source": [
        "Overfitting is a pitfall where a model will train training-data too well. This is bad because because it will cause big loss in unseen data. This usually happens when the model learns the noise and the detail rules for the training. One of the ways to avoid this problem is by using more general rules to train the data."
      ]
    },
    {
      "cell_type": "markdown",
      "metadata": {
        "id": "rGI6zDlQ5bd-",
        "colab_type": "text"
      },
      "source": [
        "#### ***Underfitting:***"
      ]
    },
    {
      "cell_type": "markdown",
      "metadata": {
        "id": "aes4vLLHeFSq",
        "colab_type": "text"
      },
      "source": [
        "Underfitting refers to a model that can not train data or generalize new data. To fix this, we can change the learning rate or increase the amount of the training."
      ]
    },
    {
      "cell_type": "markdown",
      "metadata": {
        "id": "sU_1eR8nLG5F",
        "colab_type": "text"
      },
      "source": [
        "#### **Training model Example:**\n"
      ]
    },
    {
      "cell_type": "markdown",
      "metadata": {
        "id": "6zDVQ6uLLdcC",
        "colab_type": "text"
      },
      "source": [
        "The example below is part of hw3 that implements logistic regresion with two features and training data from the get_random() mehtod."
      ]
    },
    {
      "cell_type": "code",
      "metadata": {
        "id": "IlurMwdIJm6V",
        "colab_type": "code",
        "colab": {
          "base_uri": "https://localhost:8080/",
          "height": 1000
        },
        "outputId": "edccd481-f210-461f-94a5-af844544fc7f"
      },
      "source": [
        "def get_random_data(w, b, mu, sigma, m):\n",
        "  # Generates array with ones and zeros.\n",
        "  labels = np.random.choice([0, 1], size=(m,1))\n",
        "  \n",
        "  # Generates uniformly random data.\n",
        "  X_1 = np.random.uniform(0, 1, size=(m, 1))\n",
        "\n",
        "  # Generates random data with mean distribution of mu, and sd of sigma.\n",
        "  N = np.random.normal(mu, sigma, size=(m, 1))\n",
        "\n",
        "  # Sets the second feature\n",
        "  X_2 = w * X_1 + b + (-1)**labels * N\n",
        "\n",
        "  # Concatenates the features X_1 & X_2 to produce the array with a shape of (m, 2).\n",
        "  data = np.concatenate((X_1, X_2), axis=1)\n",
        "\n",
        "  return data, labels\n",
        "\n",
        "def split_data(data, labels):\n",
        "  # Splits the data with a 80:20 ratio\n",
        "  train_data = data[:(int)(m * 0.8)]\n",
        "  test_data = data[(int)(m * 0.8):]\n",
        "  train_labels = labels[:(int)(m * 0.8)]\n",
        "  test_labels = labels[(int)(m * 0.8):]\n",
        "\n",
        "  return train_data, test_data, train_labels, test_labels\n",
        "\n",
        "def display_random_data (data, labels, w, b):\n",
        "  # Display data points \n",
        "  pt = labels.flatten()\n",
        "  temp1 = data[pt == 0,:]\n",
        "  temp2 = data[pt == 1,:]\n",
        "  plt.scatter(temp1[:,0], temp1[:,1], c='blue', label='X_1')\n",
        "  plt.scatter(temp2[:,0], temp2[:,1], c='red', label='X_2')\n",
        "\n",
        "  # Displays line that splits the data\n",
        "  slope = np.linspace(0, 1)\n",
        "  y = w * slope + b\n",
        "  plt.plot(slope, y, 'black')\n",
        "\n",
        "  # Labels the graph\n",
        "  plt.title('Data Distribution')\n",
        "  plt.xlabel('$Y$')\n",
        "  plt.ylabel('$X$')\n",
        "\n",
        "\n",
        "w = 2\n",
        "b = 7\n",
        "mu = 4\n",
        "sigma = 1.5\n",
        "m = 1000\n",
        "\n",
        "data, labels = get_random_data(w, b, mu, sigma, m)\n",
        "train_data, test_data, train_labels, test_labels = split_data(data, labels)\n",
        "\n",
        "epochs = 50\n",
        "batch_size = 40\n",
        "\n",
        "# Creates the model\n",
        "model = tf.keras.models.Sequential()\n",
        "\n",
        "# Adds dense layer to the model\n",
        "layer = tf.keras.layers.Dense(1, activation='sigmoid', input_shape=(2, ))\n",
        "model.add(layer)\n",
        "\n",
        "# Compiles the model\n",
        "model.compile(optimizer=tf.keras.optimizers.RMSprop(0.01), loss='binary_crossentropy', metrics=['accuracy'])\n",
        "\n",
        "# Trains the model\n",
        "model.fit(train_data, train_labels, epochs=epochs, batch_size=batch_size, validation_data=(test_data, test_labels))"
      ],
      "execution_count": 9,
      "outputs": [
        {
          "output_type": "stream",
          "text": [
            "Epoch 1/50\n",
            "20/20 [==============================] - 0s 9ms/step - loss: 4.3784 - accuracy: 0.4975 - val_loss: 4.0290 - val_accuracy: 0.4350\n",
            "Epoch 2/50\n",
            "20/20 [==============================] - 0s 3ms/step - loss: 3.0023 - accuracy: 0.4775 - val_loss: 2.6504 - val_accuracy: 0.3950\n",
            "Epoch 3/50\n",
            "20/20 [==============================] - 0s 3ms/step - loss: 1.8742 - accuracy: 0.3688 - val_loss: 1.4843 - val_accuracy: 0.1800\n",
            "Epoch 4/50\n",
            "20/20 [==============================] - 0s 3ms/step - loss: 1.1342 - accuracy: 0.0787 - val_loss: 0.9122 - val_accuracy: 0.2350\n",
            "Epoch 5/50\n",
            "20/20 [==============================] - 0s 3ms/step - loss: 0.8521 - accuracy: 0.4338 - val_loss: 0.7465 - val_accuracy: 0.5550\n",
            "Epoch 6/50\n",
            "20/20 [==============================] - 0s 3ms/step - loss: 0.7451 - accuracy: 0.4975 - val_loss: 0.6616 - val_accuracy: 0.5550\n",
            "Epoch 7/50\n",
            "20/20 [==============================] - 0s 3ms/step - loss: 0.6741 - accuracy: 0.4975 - val_loss: 0.5979 - val_accuracy: 0.5550\n",
            "Epoch 8/50\n",
            "20/20 [==============================] - 0s 3ms/step - loss: 0.6149 - accuracy: 0.5000 - val_loss: 0.5452 - val_accuracy: 0.5650\n",
            "Epoch 9/50\n",
            "20/20 [==============================] - 0s 3ms/step - loss: 0.5570 - accuracy: 0.5350 - val_loss: 0.5095 - val_accuracy: 0.6800\n",
            "Epoch 10/50\n",
            "20/20 [==============================] - 0s 3ms/step - loss: 0.5085 - accuracy: 0.6363 - val_loss: 0.4512 - val_accuracy: 0.7150\n",
            "Epoch 11/50\n",
            "20/20 [==============================] - 0s 3ms/step - loss: 0.4617 - accuracy: 0.7375 - val_loss: 0.4102 - val_accuracy: 0.8200\n",
            "Epoch 12/50\n",
            "20/20 [==============================] - 0s 3ms/step - loss: 0.4182 - accuracy: 0.8313 - val_loss: 0.3704 - val_accuracy: 0.8450\n",
            "Epoch 13/50\n",
            "20/20 [==============================] - 0s 3ms/step - loss: 0.3804 - accuracy: 0.8913 - val_loss: 0.3384 - val_accuracy: 0.9250\n",
            "Epoch 14/50\n",
            "20/20 [==============================] - 0s 3ms/step - loss: 0.3458 - accuracy: 0.9337 - val_loss: 0.3084 - val_accuracy: 0.9450\n",
            "Epoch 15/50\n",
            "20/20 [==============================] - 0s 3ms/step - loss: 0.3144 - accuracy: 0.9600 - val_loss: 0.2797 - val_accuracy: 0.9400\n",
            "Epoch 16/50\n",
            "20/20 [==============================] - 0s 3ms/step - loss: 0.2888 - accuracy: 0.9638 - val_loss: 0.2571 - val_accuracy: 0.9500\n",
            "Epoch 17/50\n",
            "20/20 [==============================] - 0s 3ms/step - loss: 0.2642 - accuracy: 0.9638 - val_loss: 0.2368 - val_accuracy: 0.9600\n",
            "Epoch 18/50\n",
            "20/20 [==============================] - 0s 3ms/step - loss: 0.2423 - accuracy: 0.9762 - val_loss: 0.2183 - val_accuracy: 0.9700\n",
            "Epoch 19/50\n",
            "20/20 [==============================] - 0s 3ms/step - loss: 0.2230 - accuracy: 0.9762 - val_loss: 0.2004 - val_accuracy: 0.9700\n",
            "Epoch 20/50\n",
            "20/20 [==============================] - 0s 3ms/step - loss: 0.2046 - accuracy: 0.9812 - val_loss: 0.1853 - val_accuracy: 0.9800\n",
            "Epoch 21/50\n",
            "20/20 [==============================] - 0s 3ms/step - loss: 0.1885 - accuracy: 0.9837 - val_loss: 0.1704 - val_accuracy: 0.9700\n",
            "Epoch 22/50\n",
            "20/20 [==============================] - 0s 3ms/step - loss: 0.1751 - accuracy: 0.9850 - val_loss: 0.1599 - val_accuracy: 0.9850\n",
            "Epoch 23/50\n",
            "20/20 [==============================] - 0s 3ms/step - loss: 0.1620 - accuracy: 0.9875 - val_loss: 0.1475 - val_accuracy: 0.9800\n",
            "Epoch 24/50\n",
            "20/20 [==============================] - 0s 3ms/step - loss: 0.1502 - accuracy: 0.9875 - val_loss: 0.1377 - val_accuracy: 0.9850\n",
            "Epoch 25/50\n",
            "20/20 [==============================] - 0s 3ms/step - loss: 0.1403 - accuracy: 0.9862 - val_loss: 0.1284 - val_accuracy: 0.9850\n",
            "Epoch 26/50\n",
            "20/20 [==============================] - 0s 3ms/step - loss: 0.1304 - accuracy: 0.9887 - val_loss: 0.1203 - val_accuracy: 0.9850\n",
            "Epoch 27/50\n",
            "20/20 [==============================] - 0s 3ms/step - loss: 0.1226 - accuracy: 0.9875 - val_loss: 0.1132 - val_accuracy: 0.9850\n",
            "Epoch 28/50\n",
            "20/20 [==============================] - 0s 3ms/step - loss: 0.1151 - accuracy: 0.9875 - val_loss: 0.1070 - val_accuracy: 0.9850\n",
            "Epoch 29/50\n",
            "20/20 [==============================] - 0s 3ms/step - loss: 0.1080 - accuracy: 0.9887 - val_loss: 0.1011 - val_accuracy: 0.9850\n",
            "Epoch 30/50\n",
            "20/20 [==============================] - 0s 2ms/step - loss: 0.1020 - accuracy: 0.9900 - val_loss: 0.0952 - val_accuracy: 0.9850\n",
            "Epoch 31/50\n",
            "20/20 [==============================] - 0s 3ms/step - loss: 0.0957 - accuracy: 0.9887 - val_loss: 0.0901 - val_accuracy: 0.9850\n",
            "Epoch 32/50\n",
            "20/20 [==============================] - 0s 3ms/step - loss: 0.0905 - accuracy: 0.9912 - val_loss: 0.0852 - val_accuracy: 0.9900\n",
            "Epoch 33/50\n",
            "20/20 [==============================] - 0s 3ms/step - loss: 0.0857 - accuracy: 0.9900 - val_loss: 0.0809 - val_accuracy: 0.9850\n",
            "Epoch 34/50\n",
            "20/20 [==============================] - 0s 3ms/step - loss: 0.0815 - accuracy: 0.9887 - val_loss: 0.0774 - val_accuracy: 0.9900\n",
            "Epoch 35/50\n",
            "20/20 [==============================] - 0s 3ms/step - loss: 0.0777 - accuracy: 0.9912 - val_loss: 0.0739 - val_accuracy: 0.9900\n",
            "Epoch 36/50\n",
            "20/20 [==============================] - 0s 3ms/step - loss: 0.0741 - accuracy: 0.9900 - val_loss: 0.0707 - val_accuracy: 0.9900\n",
            "Epoch 37/50\n",
            "20/20 [==============================] - 0s 3ms/step - loss: 0.0711 - accuracy: 0.9900 - val_loss: 0.0680 - val_accuracy: 0.9900\n",
            "Epoch 38/50\n",
            "20/20 [==============================] - 0s 3ms/step - loss: 0.0682 - accuracy: 0.9900 - val_loss: 0.0655 - val_accuracy: 0.9900\n",
            "Epoch 39/50\n",
            "20/20 [==============================] - 0s 3ms/step - loss: 0.0657 - accuracy: 0.9887 - val_loss: 0.0631 - val_accuracy: 0.9900\n",
            "Epoch 40/50\n",
            "20/20 [==============================] - 0s 3ms/step - loss: 0.0633 - accuracy: 0.9887 - val_loss: 0.0607 - val_accuracy: 0.9900\n",
            "Epoch 41/50\n",
            "20/20 [==============================] - 0s 3ms/step - loss: 0.0612 - accuracy: 0.9887 - val_loss: 0.0588 - val_accuracy: 0.9900\n",
            "Epoch 42/50\n",
            "20/20 [==============================] - 0s 3ms/step - loss: 0.0587 - accuracy: 0.9900 - val_loss: 0.0568 - val_accuracy: 0.9900\n",
            "Epoch 43/50\n",
            "20/20 [==============================] - 0s 3ms/step - loss: 0.0569 - accuracy: 0.9900 - val_loss: 0.0557 - val_accuracy: 0.9900\n",
            "Epoch 44/50\n",
            "20/20 [==============================] - 0s 3ms/step - loss: 0.0549 - accuracy: 0.9925 - val_loss: 0.0534 - val_accuracy: 0.9900\n",
            "Epoch 45/50\n",
            "20/20 [==============================] - 0s 3ms/step - loss: 0.0533 - accuracy: 0.9912 - val_loss: 0.0513 - val_accuracy: 0.9950\n",
            "Epoch 46/50\n",
            "20/20 [==============================] - 0s 3ms/step - loss: 0.0516 - accuracy: 0.9937 - val_loss: 0.0505 - val_accuracy: 0.9900\n",
            "Epoch 47/50\n",
            "20/20 [==============================] - 0s 3ms/step - loss: 0.0506 - accuracy: 0.9900 - val_loss: 0.0491 - val_accuracy: 0.9950\n",
            "Epoch 48/50\n",
            "20/20 [==============================] - 0s 3ms/step - loss: 0.0487 - accuracy: 0.9925 - val_loss: 0.0473 - val_accuracy: 0.9950\n",
            "Epoch 49/50\n",
            "20/20 [==============================] - 0s 3ms/step - loss: 0.0476 - accuracy: 0.9912 - val_loss: 0.0459 - val_accuracy: 0.9950\n",
            "Epoch 50/50\n",
            "20/20 [==============================] - 0s 3ms/step - loss: 0.0463 - accuracy: 0.9937 - val_loss: 0.0447 - val_accuracy: 0.9950\n"
          ],
          "name": "stdout"
        },
        {
          "output_type": "execute_result",
          "data": {
            "text/plain": [
              "<tensorflow.python.keras.callbacks.History at 0x7f015ffbf080>"
            ]
          },
          "metadata": {
            "tags": []
          },
          "execution_count": 9
        }
      ]
    },
    {
      "cell_type": "code",
      "metadata": {
        "id": "R3FHYjKuKPAq",
        "colab_type": "code",
        "colab": {
          "base_uri": "https://localhost:8080/",
          "height": 297
        },
        "outputId": "722e9bfe-93d3-45b1-ab14-862c647e20e0"
      },
      "source": [
        "def display_trained_model_line():\n",
        "  W, b = layer.get_weights()\n",
        "  slope = np.linspace(0, 1)\n",
        "  Y = -((W[0] * slope + b) / W[1])\n",
        "  plt.title('Trained model separating line')\n",
        "  plt.plot(slope, Y, color='green')\n",
        "  plt.show()\n",
        "\n",
        "display_random_data(test_data, test_labels, w, b)\n",
        "display_trained_model_line()"
      ],
      "execution_count": 10,
      "outputs": [
        {
          "output_type": "display_data",
          "data": {
            "image/png": "[encoded data removed]",
            "text/plain": [
              "<Figure size 432x288 with 1 Axes>"
            ]
          },
          "metadata": {
            "tags": [],
            "needs_background": "light"
          }
        }
      ]
    },
    {
      "cell_type": "markdown",
      "metadata": {
        "id": "wZMFXw_-2VYV",
        "colab_type": "text"
      },
      "source": [
        "## **Finetuning a pretrained model**"
      ]
    },
    {
      "cell_type": "markdown",
      "metadata": {
        "id": "ooO1agqkGfaN",
        "colab_type": "text"
      },
      "source": [
        "The snippets of code below are from hw4 and show the main steps of fine tuning. \n",
        "For finetuning we can unfreeze some layers to make them trainable. It is preferable to choose layer that are at the top rather than the ones at the bottom. This it will be easier to increase the accuracy."
      ]
    },
    {
      "cell_type": "markdown",
      "metadata": {
        "id": "eOMChPJQyHat",
        "colab_type": "text"
      },
      "source": [
        "The code below creates a pretrainded model with the Xception convolutional base."
      ]
    },
    {
      "cell_type": "code",
      "metadata": {
        "id": "mSNzpDtovpk2",
        "colab_type": "code",
        "colab": {
          "base_uri": "https://localhost:8080/",
          "height": 1000
        },
        "outputId": "f76144ee-1d45-486c-a202-cf8826d59aeb"
      },
      "source": [
        "from keras.applications.xception import Xception\n",
        "\n",
        "conv_base = Xception(\n",
        "    weights='imagenet', \n",
        "    include_top=False, \n",
        "    input_shape=(150, 150, 3))\n",
        "\n",
        "conv_base.summary()"
      ],
      "execution_count": 11,
      "outputs": [
        {
          "output_type": "stream",
          "text": [
            "Using TensorFlow backend.\n"
          ],
          "name": "stderr"
        },
        {
          "output_type": "stream",
          "text": [
            "Model: \"xception\"\n",
            "__________________________________________________________________________________________________\n",
            "Layer (type)                    Output Shape         Param #     Connected to                     \n",
            "==================================================================================================\n",
            "input_1 (InputLayer)            (None, 150, 150, 3)  0                                            \n",
            "__________________________________________________________________________________________________\n",
            "block1_conv1 (Conv2D)           (None, 74, 74, 32)   864         input_1[0][0]                    \n",
            "__________________________________________________________________________________________________\n",
            "block1_conv1_bn (BatchNormaliza (None, 74, 74, 32)   128         block1_conv1[0][0]               \n",
            "__________________________________________________________________________________________________\n",
            "block1_conv1_act (Activation)   (None, 74, 74, 32)   0           block1_conv1_bn[0][0]            \n",
            "__________________________________________________________________________________________________\n",
            "block1_conv2 (Conv2D)           (None, 72, 72, 64)   18432       block1_conv1_act[0][0]           \n",
            "__________________________________________________________________________________________________\n",
            "block1_conv2_bn (BatchNormaliza (None, 72, 72, 64)   256         block1_conv2[0][0]               \n",
            "__________________________________________________________________________________________________\n",
            "block1_conv2_act (Activation)   (None, 72, 72, 64)   0           block1_conv2_bn[0][0]            \n",
            "__________________________________________________________________________________________________\n",
            "block2_sepconv1 (SeparableConv2 (None, 72, 72, 128)  8768        block1_conv2_act[0][0]           \n",
            "__________________________________________________________________________________________________\n",
            "block2_sepconv1_bn (BatchNormal (None, 72, 72, 128)  512         block2_sepconv1[0][0]            \n",
            "__________________________________________________________________________________________________\n",
            "block2_sepconv2_act (Activation (None, 72, 72, 128)  0           block2_sepconv1_bn[0][0]         \n",
            "__________________________________________________________________________________________________\n",
            "block2_sepconv2 (SeparableConv2 (None, 72, 72, 128)  17536       block2_sepconv2_act[0][0]        \n",
            "__________________________________________________________________________________________________\n",
            "block2_sepconv2_bn (BatchNormal (None, 72, 72, 128)  512         block2_sepconv2[0][0]            \n",
            "__________________________________________________________________________________________________\n",
            "conv2d_1 (Conv2D)               (None, 36, 36, 128)  8192        block1_conv2_act[0][0]           \n",
            "__________________________________________________________________________________________________\n",
            "block2_pool (MaxPooling2D)      (None, 36, 36, 128)  0           block2_sepconv2_bn[0][0]         \n",
            "__________________________________________________________________________________________________\n",
            "batch_normalization_1 (BatchNor (None, 36, 36, 128)  512         conv2d_1[0][0]                   \n",
            "__________________________________________________________________________________________________\n",
            "add_1 (Add)                     (None, 36, 36, 128)  0           block2_pool[0][0]                \n",
            "                                                                 batch_normalization_1[0][0]      \n",
            "__________________________________________________________________________________________________\n",
            "block3_sepconv1_act (Activation (None, 36, 36, 128)  0           add_1[0][0]                      \n",
            "__________________________________________________________________________________________________\n",
            "block3_sepconv1 (SeparableConv2 (None, 36, 36, 256)  33920       block3_sepconv1_act[0][0]        \n",
            "__________________________________________________________________________________________________\n",
            "block3_sepconv1_bn (BatchNormal (None, 36, 36, 256)  1024        block3_sepconv1[0][0]            \n",
            "__________________________________________________________________________________________________\n",
            "block3_sepconv2_act (Activation (None, 36, 36, 256)  0           block3_sepconv1_bn[0][0]         \n",
            "__________________________________________________________________________________________________\n",
            "block3_sepconv2 (SeparableConv2 (None, 36, 36, 256)  67840       block3_sepconv2_act[0][0]        \n",
            "__________________________________________________________________________________________________\n",
            "block3_sepconv2_bn (BatchNormal (None, 36, 36, 256)  1024        block3_sepconv2[0][0]            \n",
            "__________________________________________________________________________________________________\n",
            "conv2d_2 (Conv2D)               (None, 18, 18, 256)  32768       add_1[0][0]                      \n",
            "__________________________________________________________________________________________________\n",
            "block3_pool (MaxPooling2D)      (None, 18, 18, 256)  0           block3_sepconv2_bn[0][0]         \n",
            "__________________________________________________________________________________________________\n",
            "batch_normalization_2 (BatchNor (None, 18, 18, 256)  1024        conv2d_2[0][0]                   \n",
            "__________________________________________________________________________________________________\n",
            "add_2 (Add)                     (None, 18, 18, 256)  0           block3_pool[0][0]                \n",
            "                                                                 batch_normalization_2[0][0]      \n",
            "__________________________________________________________________________________________________\n",
            "block4_sepconv1_act (Activation (None, 18, 18, 256)  0           add_2[0][0]                      \n",
            "__________________________________________________________________________________________________\n",
            "block4_sepconv1 (SeparableConv2 (None, 18, 18, 728)  188672      block4_sepconv1_act[0][0]        \n",
            "__________________________________________________________________________________________________\n",
            "block4_sepconv1_bn (BatchNormal (None, 18, 18, 728)  2912        block4_sepconv1[0][0]            \n",
            "__________________________________________________________________________________________________\n",
            "block4_sepconv2_act (Activation (None, 18, 18, 728)  0           block4_sepconv1_bn[0][0]         \n",
            "__________________________________________________________________________________________________\n",
            "block4_sepconv2 (SeparableConv2 (None, 18, 18, 728)  536536      block4_sepconv2_act[0][0]        \n",
            "__________________________________________________________________________________________________\n",
            "block4_sepconv2_bn (BatchNormal (None, 18, 18, 728)  2912        block4_sepconv2[0][0]            \n",
            "__________________________________________________________________________________________________\n",
            "conv2d_3 (Conv2D)               (None, 9, 9, 728)    186368      add_2[0][0]                      \n",
            "__________________________________________________________________________________________________\n",
            "block4_pool (MaxPooling2D)      (None, 9, 9, 728)    0           block4_sepconv2_bn[0][0]         \n",
            "__________________________________________________________________________________________________\n",
            "batch_normalization_3 (BatchNor (None, 9, 9, 728)    2912        conv2d_3[0][0]                   \n",
            "__________________________________________________________________________________________________\n",
            "add_3 (Add)                     (None, 9, 9, 728)    0           block4_pool[0][0]                \n",
            "                                                                 batch_normalization_3[0][0]      \n",
            "__________________________________________________________________________________________________\n",
            "block5_sepconv1_act (Activation (None, 9, 9, 728)    0           add_3[0][0]                      \n",
            "__________________________________________________________________________________________________\n",
            "block5_sepconv1 (SeparableConv2 (None, 9, 9, 728)    536536      block5_sepconv1_act[0][0]        \n",
            "__________________________________________________________________________________________________\n",
            "block5_sepconv1_bn (BatchNormal (None, 9, 9, 728)    2912        block5_sepconv1[0][0]            \n",
            "__________________________________________________________________________________________________\n",
            "block5_sepconv2_act (Activation (None, 9, 9, 728)    0           block5_sepconv1_bn[0][0]         \n",
            "__________________________________________________________________________________________________\n",
            "block5_sepconv2 (SeparableConv2 (None, 9, 9, 728)    536536      block5_sepconv2_act[0][0]        \n",
            "__________________________________________________________________________________________________\n",
            "block5_sepconv2_bn (BatchNormal (None, 9, 9, 728)    2912        block5_sepconv2[0][0]            \n",
            "__________________________________________________________________________________________________\n",
            "block5_sepconv3_act (Activation (None, 9, 9, 728)    0           block5_sepconv2_bn[0][0]         \n",
            "__________________________________________________________________________________________________\n",
            "block5_sepconv3 (SeparableConv2 (None, 9, 9, 728)    536536      block5_sepconv3_act[0][0]        \n",
            "__________________________________________________________________________________________________\n",
            "block5_sepconv3_bn (BatchNormal (None, 9, 9, 728)    2912        block5_sepconv3[0][0]            \n",
            "__________________________________________________________________________________________________\n",
            "add_4 (Add)                     (None, 9, 9, 728)    0           block5_sepconv3_bn[0][0]         \n",
            "                                                                 add_3[0][0]                      \n",
            "__________________________________________________________________________________________________\n",
            "block6_sepconv1_act (Activation (None, 9, 9, 728)    0           add_4[0][0]                      \n",
            "__________________________________________________________________________________________________\n",
            "block6_sepconv1 (SeparableConv2 (None, 9, 9, 728)    536536      block6_sepconv1_act[0][0]        \n",
            "__________________________________________________________________________________________________\n",
            "block6_sepconv1_bn (BatchNormal (None, 9, 9, 728)    2912        block6_sepconv1[0][0]            \n",
            "__________________________________________________________________________________________________\n",
            "block6_sepconv2_act (Activation (None, 9, 9, 728)    0           block6_sepconv1_bn[0][0]         \n",
            "__________________________________________________________________________________________________\n",
            "block6_sepconv2 (SeparableConv2 (None, 9, 9, 728)    536536      block6_sepconv2_act[0][0]        \n",
            "__________________________________________________________________________________________________\n",
            "block6_sepconv2_bn (BatchNormal (None, 9, 9, 728)    2912        block6_sepconv2[0][0]            \n",
            "__________________________________________________________________________________________________\n",
            "block6_sepconv3_act (Activation (None, 9, 9, 728)    0           block6_sepconv2_bn[0][0]         \n",
            "__________________________________________________________________________________________________\n",
            "block6_sepconv3 (SeparableConv2 (None, 9, 9, 728)    536536      block6_sepconv3_act[0][0]        \n",
            "__________________________________________________________________________________________________\n",
            "block6_sepconv3_bn (BatchNormal (None, 9, 9, 728)    2912        block6_sepconv3[0][0]            \n",
            "__________________________________________________________________________________________________\n",
            "add_5 (Add)                     (None, 9, 9, 728)    0           block6_sepconv3_bn[0][0]         \n",
            "                                                                 add_4[0][0]                      \n",
            "__________________________________________________________________________________________________\n",
            "block7_sepconv1_act (Activation (None, 9, 9, 728)    0           add_5[0][0]                      \n",
            "__________________________________________________________________________________________________\n",
            "block7_sepconv1 (SeparableConv2 (None, 9, 9, 728)    536536      block7_sepconv1_act[0][0]        \n",
            "__________________________________________________________________________________________________\n",
            "block7_sepconv1_bn (BatchNormal (None, 9, 9, 728)    2912        block7_sepconv1[0][0]            \n",
            "__________________________________________________________________________________________________\n",
            "block7_sepconv2_act (Activation (None, 9, 9, 728)    0           block7_sepconv1_bn[0][0]         \n",
            "__________________________________________________________________________________________________\n",
            "block7_sepconv2 (SeparableConv2 (None, 9, 9, 728)    536536      block7_sepconv2_act[0][0]        \n",
            "__________________________________________________________________________________________________\n",
            "block7_sepconv2_bn (BatchNormal (None, 9, 9, 728)    2912        block7_sepconv2[0][0]            \n",
            "__________________________________________________________________________________________________\n",
            "block7_sepconv3_act (Activation (None, 9, 9, 728)    0           block7_sepconv2_bn[0][0]         \n",
            "__________________________________________________________________________________________________\n",
            "block7_sepconv3 (SeparableConv2 (None, 9, 9, 728)    536536      block7_sepconv3_act[0][0]        \n",
            "__________________________________________________________________________________________________\n",
            "block7_sepconv3_bn (BatchNormal (None, 9, 9, 728)    2912        block7_sepconv3[0][0]            \n",
            "__________________________________________________________________________________________________\n",
            "add_6 (Add)                     (None, 9, 9, 728)    0           block7_sepconv3_bn[0][0]         \n",
            "                                                                 add_5[0][0]                      \n",
            "__________________________________________________________________________________________________\n",
            "block8_sepconv1_act (Activation (None, 9, 9, 728)    0           add_6[0][0]                      \n",
            "__________________________________________________________________________________________________\n",
            "block8_sepconv1 (SeparableConv2 (None, 9, 9, 728)    536536      block8_sepconv1_act[0][0]        \n",
            "__________________________________________________________________________________________________\n",
            "block8_sepconv1_bn (BatchNormal (None, 9, 9, 728)    2912        block8_sepconv1[0][0]            \n",
            "__________________________________________________________________________________________________\n",
            "block8_sepconv2_act (Activation (None, 9, 9, 728)    0           block8_sepconv1_bn[0][0]         \n",
            "__________________________________________________________________________________________________\n",
            "block8_sepconv2 (SeparableConv2 (None, 9, 9, 728)    536536      block8_sepconv2_act[0][0]        \n",
            "__________________________________________________________________________________________________\n",
            "block8_sepconv2_bn (BatchNormal (None, 9, 9, 728)    2912        block8_sepconv2[0][0]            \n",
            "__________________________________________________________________________________________________\n",
            "block8_sepconv3_act (Activation (None, 9, 9, 728)    0           block8_sepconv2_bn[0][0]         \n",
            "__________________________________________________________________________________________________\n",
            "block8_sepconv3 (SeparableConv2 (None, 9, 9, 728)    536536      block8_sepconv3_act[0][0]        \n",
            "__________________________________________________________________________________________________\n",
            "block8_sepconv3_bn (BatchNormal (None, 9, 9, 728)    2912        block8_sepconv3[0][0]            \n",
            "__________________________________________________________________________________________________\n",
            "add_7 (Add)                     (None, 9, 9, 728)    0           block8_sepconv3_bn[0][0]         \n",
            "                                                                 add_6[0][0]                      \n",
            "__________________________________________________________________________________________________\n",
            "block9_sepconv1_act (Activation (None, 9, 9, 728)    0           add_7[0][0]                      \n",
            "__________________________________________________________________________________________________\n",
            "block9_sepconv1 (SeparableConv2 (None, 9, 9, 728)    536536      block9_sepconv1_act[0][0]        \n",
            "__________________________________________________________________________________________________\n",
            "block9_sepconv1_bn (BatchNormal (None, 9, 9, 728)    2912        block9_sepconv1[0][0]            \n",
            "__________________________________________________________________________________________________\n",
            "block9_sepconv2_act (Activation (None, 9, 9, 728)    0           block9_sepconv1_bn[0][0]         \n",
            "__________________________________________________________________________________________________\n",
            "block9_sepconv2 (SeparableConv2 (None, 9, 9, 728)    536536      block9_sepconv2_act[0][0]        \n",
            "__________________________________________________________________________________________________\n",
            "block9_sepconv2_bn (BatchNormal (None, 9, 9, 728)    2912        block9_sepconv2[0][0]            \n",
            "__________________________________________________________________________________________________\n",
            "block9_sepconv3_act (Activation (None, 9, 9, 728)    0           block9_sepconv2_bn[0][0]         \n",
            "__________________________________________________________________________________________________\n",
            "block9_sepconv3 (SeparableConv2 (None, 9, 9, 728)    536536      block9_sepconv3_act[0][0]        \n",
            "__________________________________________________________________________________________________\n",
            "block9_sepconv3_bn (BatchNormal (None, 9, 9, 728)    2912        block9_sepconv3[0][0]            \n",
            "__________________________________________________________________________________________________\n",
            "add_8 (Add)                     (None, 9, 9, 728)    0           block9_sepconv3_bn[0][0]         \n",
            "                                                                 add_7[0][0]                      \n",
            "__________________________________________________________________________________________________\n",
            "block10_sepconv1_act (Activatio (None, 9, 9, 728)    0           add_8[0][0]                      \n",
            "__________________________________________________________________________________________________\n",
            "block10_sepconv1 (SeparableConv (None, 9, 9, 728)    536536      block10_sepconv1_act[0][0]       \n",
            "__________________________________________________________________________________________________\n",
            "block10_sepconv1_bn (BatchNorma (None, 9, 9, 728)    2912        block10_sepconv1[0][0]           \n",
            "__________________________________________________________________________________________________\n",
            "block10_sepconv2_act (Activatio (None, 9, 9, 728)    0           block10_sepconv1_bn[0][0]        \n",
            "__________________________________________________________________________________________________\n",
            "block10_sepconv2 (SeparableConv (None, 9, 9, 728)    536536      block10_sepconv2_act[0][0]       \n",
            "__________________________________________________________________________________________________\n",
            "block10_sepconv2_bn (BatchNorma (None, 9, 9, 728)    2912        block10_sepconv2[0][0]           \n",
            "__________________________________________________________________________________________________\n",
            "block10_sepconv3_act (Activatio (None, 9, 9, 728)    0           block10_sepconv2_bn[0][0]        \n",
            "__________________________________________________________________________________________________\n",
            "block10_sepconv3 (SeparableConv (None, 9, 9, 728)    536536      block10_sepconv3_act[0][0]       \n",
            "__________________________________________________________________________________________________\n",
            "block10_sepconv3_bn (BatchNorma (None, 9, 9, 728)    2912        block10_sepconv3[0][0]           \n",
            "__________________________________________________________________________________________________\n",
            "add_9 (Add)                     (None, 9, 9, 728)    0           block10_sepconv3_bn[0][0]        \n",
            "                                                                 add_8[0][0]                      \n",
            "__________________________________________________________________________________________________\n",
            "block11_sepconv1_act (Activatio (None, 9, 9, 728)    0           add_9[0][0]                      \n",
            "__________________________________________________________________________________________________\n",
            "block11_sepconv1 (SeparableConv (None, 9, 9, 728)    536536      block11_sepconv1_act[0][0]       \n",
            "__________________________________________________________________________________________________\n",
            "block11_sepconv1_bn (BatchNorma (None, 9, 9, 728)    2912        block11_sepconv1[0][0]           \n",
            "__________________________________________________________________________________________________\n",
            "block11_sepconv2_act (Activatio (None, 9, 9, 728)    0           block11_sepconv1_bn[0][0]        \n",
            "__________________________________________________________________________________________________\n",
            "block11_sepconv2 (SeparableConv (None, 9, 9, 728)    536536      block11_sepconv2_act[0][0]       \n",
            "__________________________________________________________________________________________________\n",
            "block11_sepconv2_bn (BatchNorma (None, 9, 9, 728)    2912        block11_sepconv2[0][0]           \n",
            "__________________________________________________________________________________________________\n",
            "block11_sepconv3_act (Activatio (None, 9, 9, 728)    0           block11_sepconv2_bn[0][0]        \n",
            "__________________________________________________________________________________________________\n",
            "block11_sepconv3 (SeparableConv (None, 9, 9, 728)    536536      block11_sepconv3_act[0][0]       \n",
            "__________________________________________________________________________________________________\n",
            "block11_sepconv3_bn (BatchNorma (None, 9, 9, 728)    2912        block11_sepconv3[0][0]           \n",
            "__________________________________________________________________________________________________\n",
            "add_10 (Add)                    (None, 9, 9, 728)    0           block11_sepconv3_bn[0][0]        \n",
            "                                                                 add_9[0][0]                      \n",
            "__________________________________________________________________________________________________\n",
            "block12_sepconv1_act (Activatio (None, 9, 9, 728)    0           add_10[0][0]                     \n",
            "__________________________________________________________________________________________________\n",
            "block12_sepconv1 (SeparableConv (None, 9, 9, 728)    536536      block12_sepconv1_act[0][0]       \n",
            "__________________________________________________________________________________________________\n",
            "block12_sepconv1_bn (BatchNorma (None, 9, 9, 728)    2912        block12_sepconv1[0][0]           \n",
            "__________________________________________________________________________________________________\n",
            "block12_sepconv2_act (Activatio (None, 9, 9, 728)    0           block12_sepconv1_bn[0][0]        \n",
            "__________________________________________________________________________________________________\n",
            "block12_sepconv2 (SeparableConv (None, 9, 9, 728)    536536      block12_sepconv2_act[0][0]       \n",
            "__________________________________________________________________________________________________\n",
            "block12_sepconv2_bn (BatchNorma (None, 9, 9, 728)    2912        block12_sepconv2[0][0]           \n",
            "__________________________________________________________________________________________________\n",
            "block12_sepconv3_act (Activatio (None, 9, 9, 728)    0           block12_sepconv2_bn[0][0]        \n",
            "__________________________________________________________________________________________________\n",
            "block12_sepconv3 (SeparableConv (None, 9, 9, 728)    536536      block12_sepconv3_act[0][0]       \n",
            "__________________________________________________________________________________________________\n",
            "block12_sepconv3_bn (BatchNorma (None, 9, 9, 728)    2912        block12_sepconv3[0][0]           \n",
            "__________________________________________________________________________________________________\n",
            "add_11 (Add)                    (None, 9, 9, 728)    0           block12_sepconv3_bn[0][0]        \n",
            "                                                                 add_10[0][0]                     \n",
            "__________________________________________________________________________________________________\n",
            "block13_sepconv1_act (Activatio (None, 9, 9, 728)    0           add_11[0][0]                     \n",
            "__________________________________________________________________________________________________\n",
            "block13_sepconv1 (SeparableConv (None, 9, 9, 728)    536536      block13_sepconv1_act[0][0]       \n",
            "__________________________________________________________________________________________________\n",
            "block13_sepconv1_bn (BatchNorma (None, 9, 9, 728)    2912        block13_sepconv1[0][0]           \n",
            "__________________________________________________________________________________________________\n",
            "block13_sepconv2_act (Activatio (None, 9, 9, 728)    0           block13_sepconv1_bn[0][0]        \n",
            "__________________________________________________________________________________________________\n",
            "block13_sepconv2 (SeparableConv (None, 9, 9, 1024)   752024      block13_sepconv2_act[0][0]       \n",
            "__________________________________________________________________________________________________\n",
            "block13_sepconv2_bn (BatchNorma (None, 9, 9, 1024)   4096        block13_sepconv2[0][0]           \n",
            "__________________________________________________________________________________________________\n",
            "conv2d_4 (Conv2D)               (None, 5, 5, 1024)   745472      add_11[0][0]                     \n",
            "__________________________________________________________________________________________________\n",
            "block13_pool (MaxPooling2D)     (None, 5, 5, 1024)   0           block13_sepconv2_bn[0][0]        \n",
            "__________________________________________________________________________________________________\n",
            "batch_normalization_4 (BatchNor (None, 5, 5, 1024)   4096        conv2d_4[0][0]                   \n",
            "__________________________________________________________________________________________________\n",
            "add_12 (Add)                    (None, 5, 5, 1024)   0           block13_pool[0][0]               \n",
            "                                                                 batch_normalization_4[0][0]      \n",
            "__________________________________________________________________________________________________\n",
            "block14_sepconv1 (SeparableConv (None, 5, 5, 1536)   1582080     add_12[0][0]                     \n",
            "__________________________________________________________________________________________________\n",
            "block14_sepconv1_bn (BatchNorma (None, 5, 5, 1536)   6144        block14_sepconv1[0][0]           \n",
            "__________________________________________________________________________________________________\n",
            "block14_sepconv1_act (Activatio (None, 5, 5, 1536)   0           block14_sepconv1_bn[0][0]        \n",
            "__________________________________________________________________________________________________\n",
            "block14_sepconv2 (SeparableConv (None, 5, 5, 2048)   3159552     block14_sepconv1_act[0][0]       \n",
            "__________________________________________________________________________________________________\n",
            "block14_sepconv2_bn (BatchNorma (None, 5, 5, 2048)   8192        block14_sepconv2[0][0]           \n",
            "__________________________________________________________________________________________________\n",
            "block14_sepconv2_act (Activatio (None, 5, 5, 2048)   0           block14_sepconv2_bn[0][0]        \n",
            "==================================================================================================\n",
            "Total params: 20,861,480\n",
            "Trainable params: 20,806,952\n",
            "Non-trainable params: 54,528\n",
            "__________________________________________________________________________________________________\n"
          ],
          "name": "stdout"
        }
      ]
    },
    {
      "cell_type": "markdown",
      "metadata": {
        "id": "V7V-V7IkzQvS",
        "colab_type": "text"
      },
      "source": [
        "Concanates the of convolutional base"
      ]
    },
    {
      "cell_type": "code",
      "metadata": {
        "id": "RS3uF6KXvql7",
        "colab_type": "code",
        "colab": {}
      },
      "source": [
        "conv_base.trainable = False"
      ],
      "execution_count": 0,
      "outputs": []
    },
    {
      "cell_type": "code",
      "metadata": {
        "id": "uTtKwWrkvyQS",
        "colab_type": "code",
        "colab": {
          "base_uri": "https://localhost:8080/",
          "height": 286
        },
        "outputId": "d3a86215-8a24-4d1a-eca3-852bf382ef5a"
      },
      "source": [
        "from keras import layers\n",
        "from keras import models\n",
        "from keras import optimizers\n",
        "\n",
        "model = models.Sequential()\n",
        "model.add(conv_base)\n",
        "model.add(layers.Flatten())\n",
        "model.add(layers.Dense(256, activation='relu'))\n",
        "model.add(layers.Dense(1, activation='sigmoid'))\n",
        "\n",
        "model.summary()"
      ],
      "execution_count": 13,
      "outputs": [
        {
          "output_type": "stream",
          "text": [
            "Model: \"sequential_1\"\n",
            "_________________________________________________________________\n",
            "Layer (type)                 Output Shape              Param #   \n",
            "=================================================================\n",
            "xception (Model)             (None, 5, 5, 2048)        20861480  \n",
            "_________________________________________________________________\n",
            "flatten_1 (Flatten)          (None, 51200)             0         \n",
            "_________________________________________________________________\n",
            "dense_1 (Dense)              (None, 256)               13107456  \n",
            "_________________________________________________________________\n",
            "dense_2 (Dense)              (None, 1)                 257       \n",
            "=================================================================\n",
            "Total params: 33,969,193\n",
            "Trainable params: 13,107,713\n",
            "Non-trainable params: 20,861,480\n",
            "_________________________________________________________________\n"
          ],
          "name": "stdout"
        }
      ]
    },
    {
      "cell_type": "markdown",
      "metadata": {
        "id": "vyG1uPIjx0vc",
        "colab_type": "text"
      },
      "source": [
        "The snippet of code below unfreezes the layer block10_sepconv1 and it also shows some of the trainable layer after a certain level."
      ]
    },
    {
      "cell_type": "code",
      "metadata": {
        "id": "Ced_D2YXer_g",
        "colab_type": "code",
        "colab": {
          "base_uri": "https://localhost:8080/",
          "height": 806
        },
        "outputId": "0013b81f-390c-4e52-dd30-da7c2b6d4d9e"
      },
      "source": [
        "conv_base.trainable = True\n",
        "\n",
        "set_trainable = False\n",
        "\n",
        "print(\"TRAINABLE LAYERS:\\n\")\n",
        "for layer in conv_base.layers:\n",
        "  if layer.name == 'block10_sepconv1':\n",
        "    set_trainable = True\n",
        "  if set_trainable:\n",
        "    layer.trainable = True\n",
        "    print(layer.name)\n",
        "  else:\n",
        "    layer.trainable = False\n",
        "  "
      ],
      "execution_count": 14,
      "outputs": [
        {
          "output_type": "stream",
          "text": [
            "TRAINABLE LAYERS:\n",
            "\n",
            "block10_sepconv1\n",
            "block10_sepconv1_bn\n",
            "block10_sepconv2_act\n",
            "block10_sepconv2\n",
            "block10_sepconv2_bn\n",
            "block10_sepconv3_act\n",
            "block10_sepconv3\n",
            "block10_sepconv3_bn\n",
            "add_9\n",
            "block11_sepconv1_act\n",
            "block11_sepconv1\n",
            "block11_sepconv1_bn\n",
            "block11_sepconv2_act\n",
            "block11_sepconv2\n",
            "block11_sepconv2_bn\n",
            "block11_sepconv3_act\n",
            "block11_sepconv3\n",
            "block11_sepconv3_bn\n",
            "add_10\n",
            "block12_sepconv1_act\n",
            "block12_sepconv1\n",
            "block12_sepconv1_bn\n",
            "block12_sepconv2_act\n",
            "block12_sepconv2\n",
            "block12_sepconv2_bn\n",
            "block12_sepconv3_act\n",
            "block12_sepconv3\n",
            "block12_sepconv3_bn\n",
            "add_11\n",
            "block13_sepconv1_act\n",
            "block13_sepconv1\n",
            "block13_sepconv1_bn\n",
            "block13_sepconv2_act\n",
            "block13_sepconv2\n",
            "block13_sepconv2_bn\n",
            "conv2d_4\n",
            "block13_pool\n",
            "batch_normalization_4\n",
            "add_12\n",
            "block14_sepconv1\n",
            "block14_sepconv1_bn\n",
            "block14_sepconv1_act\n",
            "block14_sepconv2\n",
            "block14_sepconv2_bn\n",
            "block14_sepconv2_act\n"
          ],
          "name": "stdout"
        }
      ]
    },
    {
      "cell_type": "markdown",
      "metadata": {
        "id": "kJXgN02MG6Bc",
        "colab_type": "text"
      },
      "source": [
        "## **Conclusion:**"
      ]
    },
    {
      "cell_type": "markdown",
      "metadata": {
        "id": "_1zO2JhEG-zN",
        "colab_type": "text"
      },
      "source": [
        "Throught out this course I have been able to learn some really intersting topics on the area of machine learning. Now that the class is over I still see myself learning more about this field and its concepts."
      ]
    }
  ]
}